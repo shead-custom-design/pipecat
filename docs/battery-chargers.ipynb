{
 "cells": [
  {
   "cell_type": "markdown",
   "metadata": {},
   "source": [
    ".. _battery-chargers:\n",
    "\n",
    "## Battery Chargers\n",
    "\n",
    "Many modern \"smart\" battery chargers have data logging capabilities that you can use with Pipecat to view the state of a battery during charging.  Typically, these chargers connect to your computer via a serial port or a serial-over-USB cable that acts like a traditional serial port.  Data is then sent to the port during charging.  For example, data from an iCharger 208B connected to a Mac computer using a USB cable could be read using the following:"
   ]
  },
  {
   "cell_type": "code",
   "execution_count": 1,
   "metadata": {},
   "outputs": [],
   "source": [
    "# nbconvert: hide\n",
    "from __future__ import absolute_import, division, print_function\n",
    "\n",
    "import sys\n",
    "sys.path.append(\"../features/steps\")\n",
    "\n",
    "import test\n",
    "serial = test.mock_module(\"serial\")\n",
    "\n",
    "serial.serial_for_url.side_effect = test.read_file(\"../data/icharger208b-charging\", stop=3)"
   ]
  },
  {
   "cell_type": "code",
   "execution_count": 2,
   "metadata": {},
   "outputs": [
    {
     "name": "stdout",
     "output_type": "stream",
     "text": [
      "$1;1;;12250;3874;93;0;0;0;0;0;0;0;0;291;236;0;20\r\n",
      "\n",
      "$1;1;;12250;3875;92;0;0;0;0;0;0;0;0;294;236;0;17\r\n",
      "\n",
      "$1;1;;12250;3877;89;0;0;0;0;0;0;0;0;291;236;1;29\r\n",
      "\n"
     ]
    }
   ],
   "source": [
    "import serial\n",
    "port = serial.serial_for_url(\"/dev/cu.SLAB_USBtoUART\", baudrate=128000)\n",
    "for line in port:\n",
    "    print(line)"
   ]
  },
  {
   "cell_type": "markdown",
   "metadata": {},
   "source": [
    "Here, we used the pySerial (http://pyserial.readthedocs.io) library to open a serial port and read data from the charger, which sends data to the port one line at a time.  Note that the device name for the port - \"/dev/cu.SLAB_USBtoUART\" in this case - will vary depending on your device and operating system.  For example, you might use \"COM1\" or \"COM2\" on Windows, or \"/dev/ttyS0\" on Linux."
   ]
  },
  {
   "cell_type": "markdown",
   "metadata": {},
   "source": [
    "Our first step in using Pipecat to decipher the raw device output is to turn the for-loop from the previous example into a pipe:"
   ]
  },
  {
   "cell_type": "code",
   "execution_count": 3,
   "metadata": {},
   "outputs": [
    {
     "name": "stdout",
     "output_type": "stream",
     "text": [
      "{'string': u'$1;1;;12250;3874;93;0;0;0;0;0;0;0;0;291;236;0;20\\r\\n'}\n",
      "{'string': u'$1;1;;12250;3875;92;0;0;0;0;0;0;0;0;294;236;0;17\\r\\n'}\n",
      "{'string': u'$1;1;;12250;3877;89;0;0;0;0;0;0;0;0;291;236;1;29\\r\\n'}\n"
     ]
    }
   ],
   "source": [
    "import pipecat.utility\n",
    "port = serial.serial_for_url(\"/dev/cu.SLAB_USBtoUART\", baudrate=128000)\n",
    "pipe = pipecat.utility.readline(port)\n",
    "for record in pipe:\n",
    "    print(record)"
   ]
  },
  {
   "cell_type": "markdown",
   "metadata": {},
   "source": [
    "In this case, :func:`pipecat.utility.readline` converts the raw data into :ref:`records` that store each line of data for further processing.  To decode the contents of each line, we add the appropriate Pipecat device to the end of the pipe:"
   ]
  },
  {
   "cell_type": "code",
   "execution_count": 4,
   "metadata": {},
   "outputs": [
    {
     "name": "stdout",
     "output_type": "stream",
     "text": [
      "{('battery', 'cell4', 'voltage'): <Quantity(0.0, 'volt')>, ('charger', 'temperature', 'external'): <Quantity(23.6, 'degC')>, ('battery', 'cell5', 'voltage'): <Quantity(0.0, 'volt')>, ('battery', 'cell8', 'voltage'): <Quantity(0.0, 'volt')>, ('charger', 'mode'): 'charge', ('charger', 'temperature', 'internal'): <Quantity(29.1, 'degC')>, ('battery', 'cell2', 'voltage'): <Quantity(0.0, 'volt')>, ('battery', 'voltage'): <Quantity(3.874, 'volt')>, ('battery', 'cell6', 'voltage'): <Quantity(0.0, 'volt')>, ('battery', 'cell1', 'voltage'): <Quantity(0.0, 'volt')>, ('battery', 'charge'): <Quantity(0.0, 'hour * milliampere')>, ('battery', 'cell3', 'voltage'): <Quantity(0.0, 'volt')>, ('battery', 'cell7', 'voltage'): <Quantity(0.0, 'volt')>, ('battery', 'current'): <Quantity(930.0, 'milliampere')>, ('charger', 'supply'): <Quantity(12.25, 'volt')>}\n",
      "{('battery', 'cell4', 'voltage'): <Quantity(0.0, 'volt')>, ('charger', 'temperature', 'external'): <Quantity(23.6, 'degC')>, ('battery', 'cell5', 'voltage'): <Quantity(0.0, 'volt')>, ('battery', 'cell8', 'voltage'): <Quantity(0.0, 'volt')>, ('charger', 'mode'): 'charge', ('charger', 'temperature', 'internal'): <Quantity(29.4, 'degC')>, ('battery', 'cell2', 'voltage'): <Quantity(0.0, 'volt')>, ('battery', 'voltage'): <Quantity(3.875, 'volt')>, ('battery', 'cell6', 'voltage'): <Quantity(0.0, 'volt')>, ('battery', 'cell1', 'voltage'): <Quantity(0.0, 'volt')>, ('battery', 'charge'): <Quantity(0.0, 'hour * milliampere')>, ('battery', 'cell3', 'voltage'): <Quantity(0.0, 'volt')>, ('battery', 'cell7', 'voltage'): <Quantity(0.0, 'volt')>, ('battery', 'current'): <Quantity(920.0, 'milliampere')>, ('charger', 'supply'): <Quantity(12.25, 'volt')>}\n",
      "{('battery', 'cell4', 'voltage'): <Quantity(0.0, 'volt')>, ('charger', 'temperature', 'external'): <Quantity(23.6, 'degC')>, ('battery', 'cell5', 'voltage'): <Quantity(0.0, 'volt')>, ('battery', 'cell8', 'voltage'): <Quantity(0.0, 'volt')>, ('charger', 'mode'): 'charge', ('charger', 'temperature', 'internal'): <Quantity(29.1, 'degC')>, ('battery', 'cell2', 'voltage'): <Quantity(0.0, 'volt')>, ('battery', 'voltage'): <Quantity(3.877, 'volt')>, ('battery', 'cell6', 'voltage'): <Quantity(0.0, 'volt')>, ('battery', 'cell1', 'voltage'): <Quantity(0.0, 'volt')>, ('battery', 'charge'): <Quantity(1.0, 'hour * milliampere')>, ('battery', 'cell3', 'voltage'): <Quantity(0.0, 'volt')>, ('battery', 'cell7', 'voltage'): <Quantity(0.0, 'volt')>, ('battery', 'current'): <Quantity(890.0, 'milliampere')>, ('charger', 'supply'): <Quantity(12.25, 'volt')>}\n"
     ]
    }
   ],
   "source": [
    "import pipecat.device.charger\n",
    "port = serial.serial_for_url(\"/dev/cu.SLAB_USBtoUART\", baudrate=128000)\n",
    "pipe = pipecat.utility.readline(port)\n",
    "pipe = pipecat.device.charger.icharger208b(pipe)\n",
    "for record in pipe:\n",
    "    print(record)"
   ]
  },
  {
   "cell_type": "markdown",
   "metadata": {},
   "source": [
    "As you can see, :func:`pipecat.device.charger.icharger208b` has converted the raw data records into charger-specific records containing human-readable fields whose values have appropriate physical units.  Let's use :func:`pipecat.record.dump` to make the output a little more readable:"
   ]
  },
  {
   "cell_type": "code",
   "execution_count": 5,
   "metadata": {},
   "outputs": [
    {
     "name": "stdout",
     "output_type": "stream",
     "text": [
      "battery/cell1/voltage: 0.0 volt\n",
      "battery/cell2/voltage: 0.0 volt\n",
      "battery/cell3/voltage: 0.0 volt\n",
      "battery/cell4/voltage: 0.0 volt\n",
      "battery/cell5/voltage: 0.0 volt\n",
      "battery/cell6/voltage: 0.0 volt\n",
      "battery/cell7/voltage: 0.0 volt\n",
      "battery/cell8/voltage: 0.0 volt\n",
      "battery/charge: 0.0 hour * milliampere\n",
      "battery/current: 930.0 milliampere\n",
      "battery/voltage: 3.874 volt\n",
      "charger/mode: charge\n",
      "charger/supply: 12.25 volt\n",
      "charger/temperature/external: 23.6 degC\n",
      "charger/temperature/internal: 29.1 degC\n",
      "\n",
      "battery/cell1/voltage: 0.0 volt\n",
      "battery/cell2/voltage: 0.0 volt\n",
      "battery/cell3/voltage: 0.0 volt\n",
      "battery/cell4/voltage: 0.0 volt\n",
      "battery/cell5/voltage: 0.0 volt\n",
      "battery/cell6/voltage: 0.0 volt\n",
      "battery/cell7/voltage: 0.0 volt\n",
      "battery/cell8/voltage: 0.0 volt\n",
      "battery/charge: 0.0 hour * milliampere\n",
      "battery/current: 920.0 milliampere\n",
      "battery/voltage: 3.875 volt\n",
      "charger/mode: charge\n",
      "charger/supply: 12.25 volt\n",
      "charger/temperature/external: 23.6 degC\n",
      "charger/temperature/internal: 29.4 degC\n",
      "\n",
      "battery/cell1/voltage: 0.0 volt\n",
      "battery/cell2/voltage: 0.0 volt\n",
      "battery/cell3/voltage: 0.0 volt\n",
      "battery/cell4/voltage: 0.0 volt\n",
      "battery/cell5/voltage: 0.0 volt\n",
      "battery/cell6/voltage: 0.0 volt\n",
      "battery/cell7/voltage: 0.0 volt\n",
      "battery/cell8/voltage: 0.0 volt\n",
      "battery/charge: 1.0 hour * milliampere\n",
      "battery/current: 890.0 milliampere\n",
      "battery/voltage: 3.877 volt\n",
      "charger/mode: charge\n",
      "charger/supply: 12.25 volt\n",
      "charger/temperature/external: 23.6 degC\n",
      "charger/temperature/internal: 29.1 degC\n",
      "\n"
     ]
    }
   ],
   "source": [
    "import pipecat.record\n",
    "port = serial.serial_for_url(\"/dev/cu.SLAB_USBtoUART\", baudrate=128000)\n",
    "pipe = pipecat.utility.readline(port)\n",
    "pipe = pipecat.device.charger.icharger208b(pipe)\n",
    "for record in pipe:\n",
    "    pipecat.record.dump(record)"
   ]
  },
  {
   "cell_type": "markdown",
   "metadata": {},
   "source": [
    "Now, you can extract just the data you care about from a record:"
   ]
  },
  {
   "cell_type": "code",
   "execution_count": 6,
   "metadata": {},
   "outputs": [
    {
     "name": "stdout",
     "output_type": "stream",
     "text": [
      "3.874 volt 930.0 milliampere\n",
      "3.875 volt 920.0 milliampere\n",
      "3.877 volt 890.0 milliampere\n"
     ]
    }
   ],
   "source": [
    "port = serial.serial_for_url(\"/dev/cu.SLAB_USBtoUART\", baudrate=128000)\n",
    "pipe = pipecat.utility.readline(port)\n",
    "pipe = pipecat.device.charger.icharger208b(pipe)\n",
    "for record in pipe:\n",
    "    print(record[(\"battery\", \"voltage\")], record[(\"battery\", \"current\")])"
   ]
  },
  {
   "cell_type": "markdown",
   "metadata": {},
   "source": [
    "And you can convert units safely and explicitly:"
   ]
  },
  {
   "cell_type": "code",
   "execution_count": 7,
   "metadata": {},
   "outputs": [
    {
     "name": "stdout",
     "output_type": "stream",
     "text": [
      "0.93 ampere\n",
      "0.92 ampere\n",
      "0.89 ampere\n"
     ]
    }
   ],
   "source": [
    "port = serial.serial_for_url(\"/dev/cu.SLAB_USBtoUART\", baudrate=128000)\n",
    "pipe = pipecat.utility.readline(port)\n",
    "pipe = pipecat.device.charger.icharger208b(pipe)\n",
    "for record in pipe:\n",
    "    print(record[(\"battery\", \"current\")].to(pipecat.units.amps))"
   ]
  },
  {
   "cell_type": "markdown",
   "metadata": {},
   "source": [
    "As an aside, you may be wondering at this point why it's necessary to explicitly create the serial port and connect it to `readline` ... why not code that functionality directly into `icharger208b`?  The answer is flexibility: by separating Pipecat's functionality into discrete, well-defined components, those components can be easily combined in new and unexpected ways.  For example, you could use `icharger208b` with a charger that communicated over a network socket instead of a serial port.  Or you could \"replay\" data from a charger stored in a file: "
   ]
  },
  {
   "cell_type": "code",
   "execution_count": 8,
   "metadata": {
    "scrolled": true
   },
   "outputs": [
    {
     "name": "stdout",
     "output_type": "stream",
     "text": [
      "0.0 hour * milliampere\n",
      "0.0 hour * milliampere\n",
      "1.0 hour * milliampere\n",
      "1.0 hour * milliampere\n",
      "2.0 hour * milliampere\n"
     ]
    }
   ],
   "source": [
    "fobj = open(\"../data/icharger208b-charging-sample\")\n",
    "pipe = pipecat.utility.readline(fobj)\n",
    "pipe = pipecat.device.charger.icharger208b(pipe)\n",
    "for record in pipe:\n",
    "    print(record[(\"battery\", \"charge\")])"
   ]
  },
  {
   "cell_type": "markdown",
   "metadata": {},
   "source": [
    "Let's explore other things we can do with our pipe.  To begin, you might want to add additional metadata to the records returned from a device.  For example, you might want to append timestamps:"
   ]
  },
  {
   "cell_type": "code",
   "execution_count": 9,
   "metadata": {
    "collapsed": true
   },
   "outputs": [],
   "source": [
    "# nbconvert: hide\n",
    "serial.serial_for_url.side_effect = test.read_file(\"../data/icharger208b-charging\", rate=pipecat.quantity(2, pipecat.units.seconds), stop=3)"
   ]
  },
  {
   "cell_type": "code",
   "execution_count": 10,
   "metadata": {},
   "outputs": [
    {
     "name": "stdout",
     "output_type": "stream",
     "text": [
      "timestamp: 2017-12-27T00:02:00.421604+00:00\n",
      "battery/cell1/voltage: 0.0 volt\n",
      "battery/cell2/voltage: 0.0 volt\n",
      "battery/cell3/voltage: 0.0 volt\n",
      "battery/cell4/voltage: 0.0 volt\n",
      "battery/cell5/voltage: 0.0 volt\n",
      "battery/cell6/voltage: 0.0 volt\n",
      "battery/cell7/voltage: 0.0 volt\n",
      "battery/cell8/voltage: 0.0 volt\n",
      "battery/charge: 0.0 hour * milliampere\n",
      "battery/current: 930.0 milliampere\n",
      "battery/voltage: 3.874 volt\n",
      "charger/mode: charge\n",
      "charger/supply: 12.25 volt\n",
      "charger/temperature/external: 23.6 degC\n",
      "charger/temperature/internal: 29.1 degC\n",
      "\n",
      "timestamp: 2017-12-27T00:02:02.431455+00:00\n",
      "battery/cell1/voltage: 0.0 volt\n",
      "battery/cell2/voltage: 0.0 volt\n",
      "battery/cell3/voltage: 0.0 volt\n",
      "battery/cell4/voltage: 0.0 volt\n",
      "battery/cell5/voltage: 0.0 volt\n",
      "battery/cell6/voltage: 0.0 volt\n",
      "battery/cell7/voltage: 0.0 volt\n",
      "battery/cell8/voltage: 0.0 volt\n",
      "battery/charge: 0.0 hour * milliampere\n",
      "battery/current: 920.0 milliampere\n",
      "battery/voltage: 3.875 volt\n",
      "charger/mode: charge\n",
      "charger/supply: 12.25 volt\n",
      "charger/temperature/external: 23.6 degC\n",
      "charger/temperature/internal: 29.4 degC\n",
      "\n",
      "timestamp: 2017-12-27T00:02:04.440231+00:00\n",
      "battery/cell1/voltage: 0.0 volt\n",
      "battery/cell2/voltage: 0.0 volt\n",
      "battery/cell3/voltage: 0.0 volt\n",
      "battery/cell4/voltage: 0.0 volt\n",
      "battery/cell5/voltage: 0.0 volt\n",
      "battery/cell6/voltage: 0.0 volt\n",
      "battery/cell7/voltage: 0.0 volt\n",
      "battery/cell8/voltage: 0.0 volt\n",
      "battery/charge: 1.0 hour * milliampere\n",
      "battery/current: 890.0 milliampere\n",
      "battery/voltage: 3.877 volt\n",
      "charger/mode: charge\n",
      "charger/supply: 12.25 volt\n",
      "charger/temperature/external: 23.6 degC\n",
      "charger/temperature/internal: 29.1 degC\n",
      "\n"
     ]
    }
   ],
   "source": [
    "port = serial.serial_for_url(\"/dev/cu.SLAB_USBtoUART\", baudrate=128000)\n",
    "pipe = pipecat.utility.readline(port)\n",
    "pipe = pipecat.device.charger.icharger208b(pipe)\n",
    "pipe = pipecat.utility.add_timestamp(pipe)\n",
    "for record in pipe:\n",
    "    pipecat.record.dump(record)"
   ]
  },
  {
   "cell_type": "markdown",
   "metadata": {},
   "source": [
    "Note that :func:`pipecat.utility.add_timestamp` has added a `timestamp` field to each record.  Timestamps in Pipecat are always recorded using UTC (universal) time, so you will likely want to convert them to your local timezone before formatting them for display:"
   ]
  },
  {
   "cell_type": "code",
   "execution_count": 11,
   "metadata": {},
   "outputs": [
    {
     "name": "stdout",
     "output_type": "stream",
     "text": [
      "2017-12-26 05:02:06 pm 3.874 volt\n",
      "2017-12-26 05:02:08 pm 3.875 volt\n",
      "2017-12-26 05:02:10 pm 3.877 volt\n"
     ]
    }
   ],
   "source": [
    "port = serial.serial_for_url(\"/dev/cu.SLAB_USBtoUART\", baudrate=128000)\n",
    "pipe = pipecat.utility.readline(port)\n",
    "pipe = pipecat.device.charger.icharger208b(pipe)\n",
    "pipe = pipecat.utility.add_timestamp(pipe)\n",
    "for record in pipe:\n",
    "    print(\n",
    "        record[\"timestamp\"].to(\"local\").format(\"YYYY-MM-DD hh:mm:ss a\"),\n",
    "        record[(\"battery\", \"voltage\")],\n",
    "    )"
   ]
  },
  {
   "cell_type": "markdown",
   "metadata": {},
   "source": [
    "You could also use :func:`pipecat.utility.add_field` to append your own custom field to every record that passes through the pipe."
   ]
  },
  {
   "cell_type": "markdown",
   "metadata": {},
   "source": [
    "Now let's consider calculating some simple statistics, such as the minimum and maximum battery voltage while charging.  When we iterate over the contents of a pipe using a `for` loop, we receive one record at-a-time until the pipe is empty.  We could keep track of a \"running\" minimum and maximum during iteration, and there are use-cases where that is the best way to solve the problem.  However, for moderately-sized data, Pipecat provides a more convenient approach: "
   ]
  },
  {
   "cell_type": "code",
   "execution_count": 12,
   "metadata": {
    "collapsed": true
   },
   "outputs": [],
   "source": [
    "# nbconvert: hide\n",
    "serial.serial_for_url.side_effect = test.read_file(\"../data/icharger208b-charging\")"
   ]
  },
  {
   "cell_type": "code",
   "execution_count": 13,
   "metadata": {},
   "outputs": [
    {
     "name": "stdout",
     "output_type": "stream",
     "text": [
      "1390\n",
      "[ 3.874  3.875  3.877 ...,  4.119  4.119  4.119] volt\n"
     ]
    }
   ],
   "source": [
    "import pipecat.store\n",
    "port = serial.serial_for_url(\"/dev/cu.SLAB_USBtoUART\", baudrate=128000)\n",
    "pipe = pipecat.utility.readline(port)\n",
    "pipe = pipecat.device.charger.icharger208b(pipe)\n",
    "pipe = pipecat.store.cache(pipe)\n",
    "for record in pipe:\n",
    "    pass\n",
    "print(len(pipe.table))\n",
    "print(pipe.table[(\"battery\", \"voltage\")])"
   ]
  },
  {
   "cell_type": "markdown",
   "metadata": {},
   "source": [
    "Here, :func:`pipecat.store.cache` creates an in-memory cache that stores every record it receives.   We have a do-nothing `for` loop that reads data from the charger to populate the cache.  Once that's complete, we can use the cache `table` attribute to retrieve data from the cache using the same keys and syntax we would use with a record.  Unlike a record, the cache returns every value for a given key at once (using a Numpy array), which makes it easy to compute the statistics we're interested in:"
   ]
  },
  {
   "cell_type": "code",
   "execution_count": 14,
   "metadata": {},
   "outputs": [
    {
     "name": "stdout",
     "output_type": "stream",
     "text": [
      "Min: 3.874 volt\n",
      "Max: 4.152 volt\n"
     ]
    }
   ],
   "source": [
    "import pipecat.store\n",
    "port = serial.serial_for_url(\"/dev/cu.SLAB_USBtoUART\", baudrate=128000)\n",
    "pipe = pipecat.utility.readline(port)\n",
    "pipe = pipecat.device.charger.icharger208b(pipe)\n",
    "pipe = pipecat.store.cache(pipe)\n",
    "for record in pipe:\n",
    "    pass\n",
    "print(\"Min:\", pipe.table[(\"battery\", \"voltage\")].min())\n",
    "print(\"Max:\", pipe.table[(\"battery\", \"voltage\")].max())"
   ]
  },
  {
   "cell_type": "markdown",
   "metadata": {},
   "source": [
    "Consolidating fields using the cache is also perfect for generating plots with a library like Toyplot (http://toyplot.readthedocs.io):"
   ]
  },
  {
   "cell_type": "code",
   "execution_count": 15,
   "metadata": {},
   "outputs": [
    {
     "data": {
      "text/html": [
       "<div class=\"toyplot\" id=\"tb51932f43092424cbbb352bea8d2872c\" style=\"text-align:center\"><svg class=\"toyplot-canvas-Canvas\" height=\"600px\" id=\"tc21c8a8704a3470395c5a62e055bdb3e\" preserveAspectRatio=\"xMidYMid meet\" style=\"background-color:transparent;fill:rgb(16.1%,15.3%,14.1%);fill-opacity:1.0;font-family:Helvetica;font-size:12px;opacity:1.0;stroke:rgb(16.1%,15.3%,14.1%);stroke-opacity:1.0;stroke-width:1.0\" viewBox=\"0 0 600 600\" width=\"600px\" xmlns=\"http://www.w3.org/2000/svg\" xmlns:toyplot=\"http://www.sandia.gov/toyplot\" xmlns:xlink=\"http://www.w3.org/1999/xlink\"><g class=\"toyplot-coordinates-Cartesian\" id=\"t91fe11d0d7ce49e48e64c3cb1931eb57\"><clipPath id=\"t6ce7c0a3c10c4bf7a5cfbe22eed5aae1\"><rect height=\"120.0\" width=\"520.0\" x=\"40.0\" y=\"40.0\"></rect></clipPath><g clip-path=\"url(#t6ce7c0a3c10c4bf7a5cfbe22eed5aae1)\"><g class=\"toyplot-mark-Plot\" id=\"t3c8b7743da824abb98c6d944cd4db899\" style=\"fill:none\"><g class=\"toyplot-Series\"><path d=\"M 50.0 142.05298013245033 L 50.333333333333329 141.7218543046358 L 50.666666666666671 141.05960264900673 L 51.0 141.05960264900673 L 51.333333333333336 141.05960264900673 L 51.666666666666671 141.05960264900673 L 52.0 140.72847682119206 L 52.333333333333336 140.3973509933775 L 52.666666666666664 140.3973509933775 L 53.0 140.3973509933775 L 53.333333333333329 139.73509933774844 L 53.666666666666664 139.73509933774844 L 54.0 139.73509933774844 L 54.333333333333329 138.07947019867549 L 54.666666666666664 137.41721854304643 L 55.0 138.74172185430473 L 55.333333333333329 138.74172185430473 L 55.666666666666671 137.41721854304643 L 56.0 137.41721854304643 L 56.333333333333336 137.41721854304643 L 56.666666666666671 138.07947019867549 L 57.0 137.41721854304643 L 57.333333333333329 138.07947019867549 L 57.666666666666671 137.41721854304643 L 58.0 138.07947019867549 L 58.333333333333329 134.43708609271533 L 58.666666666666664 137.41721854304643 L 59.0 137.41721854304643 L 59.333333333333329 137.41721854304643 L 59.666666666666664 137.41721854304643 L 60.0 137.41721854304643 L 60.333333333333336 137.41721854304643 L 60.666666666666671 137.41721854304643 L 61.0 137.0860927152319 L 61.333333333333336 136.42384105960267 L 61.666666666666671 137.0860927152319 L 62.0 136.42384105960267 L 62.333333333333329 136.42384105960267 L 62.666666666666671 136.42384105960267 L 62.999999999999993 136.42384105960267 L 63.333333333333343 136.42384105960267 L 63.666666666666664 136.42384105960267 L 64.0 136.42384105960267 L 64.333333333333343 134.76821192052986 L 64.666666666666657 135.0993377483444 L 65.0 135.7615894039736 L 65.333333333333343 135.7615894039736 L 65.666666666666671 135.7615894039736 L 66.0 135.7615894039736 L 66.333333333333329 135.0993377483444 L 66.666666666666671 134.43708609271533 L 67.0 133.77483443708613 L 67.333333333333329 134.43708609271533 L 67.666666666666671 133.77483443708613 L 68.0 134.43708609271533 L 68.333333333333343 134.43708609271533 L 68.666666666666671 134.43708609271533 L 69.0 134.43708609271533 L 69.333333333333343 134.43708609271533 L 69.666666666666657 134.43708609271533 L 70.0 134.43708609271533 L 70.333333333333329 134.43708609271533 L 70.666666666666657 133.77483443708613 L 71.0 134.43708609271533 L 71.333333333333329 133.77483443708613 L 71.666666666666671 133.77483443708613 L 72.0 130.79470198675503 L 72.333333333333329 134.43708609271533 L 72.666666666666671 133.77483443708613 L 73.0 133.77483443708613 L 73.333333333333343 133.77483443708613 L 73.666666666666657 130.13245033112582 L 74.0 130.79470198675503 L 74.333333333333343 133.77483443708613 L 74.666666666666657 133.77483443708613 L 75.0 133.77483443708613 L 75.333333333333343 133.77483443708613 L 75.666666666666657 133.77483443708613 L 76.0 133.77483443708613 L 76.333333333333343 133.4437086092716 L 76.666666666666671 133.77483443708613 L 77.0 133.77483443708613 L 77.333333333333329 133.77483443708613 L 77.666666666666671 133.77483443708613 L 78.0 133.4437086092716 L 78.333333333333343 133.4437086092716 L 78.666666666666671 133.4437086092716 L 79.0 133.4437086092716 L 79.333333333333343 132.78145695364236 L 79.666666666666657 132.78145695364236 L 80.0 132.78145695364236 L 80.333333333333343 133.4437086092716 L 80.666666666666657 131.12582781456956 L 81.0 132.45033112582783 L 81.333333333333329 132.45033112582783 L 81.666666666666671 132.45033112582783 L 82.0 132.45033112582783 L 82.333333333333329 132.1192052980133 L 82.666666666666657 132.1192052980133 L 83.0 130.13245033112582 L 83.333333333333329 132.1192052980133 L 83.666666666666657 132.1192052980133 L 84.0 132.1192052980133 L 84.333333333333343 132.1192052980133 L 84.666666666666657 132.1192052980133 L 85.0 130.79470198675503 L 85.333333333333343 131.45695364238409 L 85.666666666666657 132.1192052980133 L 86.0 130.79470198675503 L 86.333333333333343 131.45695364238409 L 86.666666666666657 132.1192052980133 L 87.0 131.45695364238409 L 87.333333333333343 131.45695364238409 L 87.666666666666671 130.13245033112582 L 88.0 131.12582781456956 L 88.333333333333329 131.12582781456956 L 88.666666666666671 131.12582781456956 L 89.0 130.13245033112582 L 89.333333333333343 130.79470198675503 L 89.666666666666671 130.13245033112582 L 90.0 130.79470198675503 L 90.333333333333343 130.13245033112582 L 90.666666666666657 130.13245033112582 L 91.0 131.12582781456956 L 91.333333333333343 130.13245033112582 L 91.666666666666657 130.79470198675503 L 92.0 130.13245033112582 L 92.333333333333343 130.79470198675503 L 92.666666666666657 130.13245033112582 L 93.0 130.13245033112582 L 93.333333333333343 130.13245033112582 L 93.666666666666657 130.79470198675503 L 94.0 133.77483443708613 L 94.333333333333329 130.13245033112582 L 94.666666666666657 130.13245033112582 L 95.0 130.13245033112582 L 95.333333333333343 130.13245033112582 L 95.666666666666657 130.13245033112582 L 96.0 130.13245033112582 L 96.333333333333329 130.13245033112582 L 96.666666666666657 130.13245033112582 L 97.0 130.13245033112582 L 97.333333333333329 130.13245033112582 L 97.666666666666671 129.80132450331126 L 98.0 129.1390728476822 L 98.333333333333329 130.13245033112582 L 98.666666666666671 129.1390728476822 L 99.0 129.80132450331126 L 99.333333333333329 129.1390728476822 L 99.666666666666671 129.1390728476822 L 100.0 128.80794701986753 L 100.33333333333334 129.80132450331126 L 100.66666666666667 128.80794701986753 L 101.0 129.1390728476822 L 101.33333333333334 129.1390728476822 L 101.66666666666667 129.1390728476822 L 102.0 129.80132450331126 L 102.33333333333334 129.1390728476822 L 102.66666666666667 129.1390728476822 L 103.0 128.80794701986753 L 103.33333333333334 128.80794701986753 L 103.66666666666666 128.476821192053 L 104.0 128.476821192053 L 104.33333333333333 128.476821192053 L 104.66666666666667 127.81456953642395 L 105.0 127.15231788079471 L 105.33333333333334 127.81456953642395 L 105.66666666666667 127.81456953642395 L 106.0 127.81456953642395 L 106.33333333333334 128.476821192053 L 106.66666666666666 127.15231788079471 L 107.0 127.81456953642395 L 107.33333333333334 127.81456953642395 L 107.66666666666666 127.81456953642395 L 108.0 127.15231788079471 L 108.33333333333334 127.15231788079471 L 108.66666666666666 127.15231788079471 L 109.0 127.15231788079471 L 109.33333333333333 127.15231788079471 L 109.66666666666669 122.84768211920536 L 110.0 127.15231788079471 L 110.33333333333334 122.84768211920536 L 110.66666666666667 126.49006622516565 L 111.0 126.49006622516565 L 111.33333333333334 126.49006622516565 L 111.66666666666666 127.15231788079471 L 112.0 122.84768211920536 L 112.33333333333333 126.49006622516565 L 112.66666666666666 127.15231788079471 L 113.0 126.49006622516565 L 113.33333333333334 126.49006622516565 L 113.66666666666666 126.49006622516565 L 114.0 123.50993377483441 L 114.33333333333334 126.49006622516565 L 114.66666666666666 126.49006622516565 L 115.0 126.49006622516565 L 115.33333333333331 126.49006622516565 L 115.66666666666667 126.49006622516565 L 116.0 126.49006622516565 L 116.33333333333331 126.49006622516565 L 116.66666666666666 125.4966887417219 L 117.0 126.15894039735097 L 117.33333333333333 126.15894039735097 L 117.66666666666667 125.4966887417219 L 118.00000000000001 126.15894039735097 L 118.33333333333331 125.4966887417219 L 118.66666666666666 125.4966887417219 L 119.0 125.4966887417219 L 119.33333333333333 125.4966887417219 L 119.66666666666667 125.4966887417219 L 120.00000000000001 125.16556291390739 L 120.33333333333331 124.83443708609271 L 120.66666666666667 124.83443708609271 L 121.0 124.83443708609271 L 121.33333333333334 124.83443708609271 L 121.66666666666669 124.83443708609271 L 121.99999999999999 124.83443708609271 L 122.33333333333333 125.16556291390739 L 122.66666666666667 124.83443708609271 L 123.0 124.83443708609271 L 123.33333333333334 123.50993377483441 L 123.66666666666669 124.17218543046364 L 124.0 123.8410596026491 L 124.33333333333333 123.8410596026491 L 124.66666666666667 123.8410596026491 L 125.0 122.84768211920536 L 125.33333333333334 122.84768211920536 L 125.66666666666666 123.50993377483441 L 126.0 123.50993377483441 L 126.33333333333333 123.50993377483441 L 126.66666666666666 123.50993377483441 L 127.0 122.84768211920536 L 127.33333333333334 123.50993377483441 L 127.66666666666666 123.8410596026491 L 128.0 122.84768211920536 L 128.33333333333334 123.50993377483441 L 128.66666666666666 122.84768211920536 L 129.0 123.50993377483441 L 129.33333333333334 122.84768211920536 L 129.66666666666666 122.84768211920536 L 130.0 120.19867549668879 L 130.33333333333334 122.84768211920536 L 130.66666666666669 120.52980132450332 L 131.0 122.84768211920536 L 131.33333333333331 122.84768211920536 L 131.66666666666666 122.84768211920536 L 132.0 122.84768211920536 L 132.33333333333331 122.84768211920536 L 132.66666666666669 122.84768211920536 L 133.0 122.84768211920536 L 133.33333333333331 122.84768211920536 L 133.66666666666666 122.51655629139081 L 134.0 121.85430463576162 L 134.33333333333334 122.51655629139081 L 134.66666666666669 121.85430463576162 L 135.0 121.52317880794706 L 135.33333333333331 121.85430463576162 L 135.66666666666666 121.85430463576162 L 136.0 121.52317880794706 L 136.33333333333334 121.52317880794706 L 136.66666666666669 121.52317880794706 L 137.0 121.52317880794706 L 137.33333333333331 121.52317880794706 L 137.66666666666669 121.19205298013254 L 138.0 121.52317880794706 L 138.33333333333334 121.19205298013254 L 138.66666666666666 121.19205298013254 L 139.0 120.19867549668879 L 139.33333333333334 119.86754966887426 L 139.66666666666669 119.86754966887426 L 140.0 120.52980132450332 L 140.33333333333334 120.52980132450332 L 140.66666666666666 120.52980132450332 L 141.0 119.20529801324504 L 141.33333333333334 120.19867549668879 L 141.66666666666666 119.86754966887426 L 142.0 115.56291390728475 L 142.33333333333334 119.20529801324504 L 142.66666666666666 119.86754966887426 L 143.0 119.20529801324504 L 143.33333333333334 119.20529801324504 L 143.66666666666666 115.56291390728475 L 144.0 119.86754966887426 L 144.33333333333334 119.20529801324504 L 144.66666666666666 119.86754966887426 L 145.0 119.20529801324504 L 145.33333333333334 119.86754966887426 L 145.66666666666666 119.20529801324504 L 146.0 119.20529801324504 L 146.33333333333334 118.87417218543051 L 146.66666666666666 119.20529801324504 L 147.0 118.2119205298013 L 147.33333333333331 118.87417218543051 L 147.66666666666669 118.2119205298013 L 148.0 118.2119205298013 L 148.33333333333331 118.2119205298013 L 148.66666666666666 118.87417218543051 L 149.0 118.2119205298013 L 149.33333333333334 118.2119205298013 L 149.66666666666669 118.2119205298013 L 150.0 117.88079470198677 L 150.33333333333331 117.88079470198677 L 150.66666666666666 117.54966887417226 L 151.0 116.22516556291396 L 151.33333333333334 116.88741721854302 L 151.66666666666669 117.88079470198677 L 152.0 116.88741721854302 L 152.33333333333331 116.88741721854302 L 152.66666666666669 116.22516556291396 L 153.0 117.54966887417226 L 153.33333333333334 112.91390728476817 L 153.66666666666666 116.22516556291396 L 154.0 116.5562913907285 L 154.33333333333334 115.56291390728475 L 154.66666666666669 115.56291390728475 L 155.0 115.56291390728475 L 155.33333333333334 116.22516556291396 L 155.66666666666666 112.91390728476817 L 156.0 116.22516556291396 L 156.33333333333334 115.56291390728475 L 156.66666666666669 115.56291390728475 L 157.0 115.56291390728475 L 157.33333333333331 115.56291390728475 L 157.66666666666666 115.56291390728475 L 158.0 115.56291390728475 L 158.33333333333334 115.23178807947022 L 158.66666666666666 114.56953642384116 L 159.0 113.24503311258287 L 159.33333333333331 111.92052980132459 L 159.66666666666666 115.56291390728475 L 160.0 115.56291390728475 L 160.33333333333334 114.56953642384116 L 160.66666666666666 115.23178807947022 L 161.0 115.23178807947022 L 161.33333333333334 115.23178807947022 L 161.66666666666666 114.56953642384116 L 162.0 115.23178807947022 L 162.33333333333331 114.23841059602647 L 162.66666666666669 113.90728476821192 L 163.0 112.58278145695365 L 163.33333333333331 113.90728476821192 L 163.66666666666666 113.90728476821192 L 164.0 113.90728476821192 L 164.33333333333331 114.23841059602647 L 164.66666666666669 112.58278145695365 L 165.0 112.58278145695365 L 165.33333333333331 112.58278145695365 L 165.66666666666666 113.24503311258287 L 166.0 108.94039735099334 L 166.33333333333334 112.58278145695365 L 166.66666666666669 112.58278145695365 L 167.0 109.60264900662256 L 167.33333333333331 111.92052980132459 L 167.66666666666666 112.58278145695365 L 168.0 109.27152317880802 L 168.33333333333331 111.92052980132459 L 168.66666666666666 111.92052980132459 L 169.0 111.58940397350992 L 169.33333333333334 111.58940397350992 L 169.66666666666666 111.92052980132459 L 170.0 111.58940397350992 L 170.33333333333334 111.92052980132459 L 170.66666666666669 110.92715231788085 L 171.0 111.92052980132459 L 171.33333333333334 110.92715231788085 L 171.66666666666669 111.58940397350992 L 172.0 111.58940397350992 L 172.33333333333331 111.92052980132459 L 172.66666666666669 110.26490066225163 L 173.0 110.59602649006629 L 173.33333333333331 110.26490066225163 L 173.66666666666666 110.59602649006629 L 174.0 108.94039735099334 L 174.33333333333334 110.92715231788085 L 174.66666666666666 108.94039735099334 L 175.0 109.60264900662256 L 175.33333333333331 109.27152317880802 L 175.66666666666669 110.26490066225163 L 176.0 109.27152317880802 L 176.33333333333334 108.94039735099334 L 176.66666666666669 106.95364238410602 L 177.0 108.27814569536427 L 177.33333333333334 109.27152317880802 L 177.66666666666666 105.96026490066227 L 178.0 104.96688741721852 L 178.33333333333331 108.94039735099334 L 178.66666666666669 108.94039735099334 L 179.0 105.62913907284772 L 179.33333333333331 108.27814569536427 L 179.66666666666669 108.27814569536427 L 180.0 106.62251655629146 L 180.33333333333334 105.96026490066227 L 180.66666666666666 105.62913907284772 L 181.0 108.27814569536427 L 181.33333333333334 108.27814569536427 L 181.66666666666666 108.27814569536427 L 182.0 108.27814569536427 L 182.33333333333334 108.27814569536427 L 182.66666666666663 108.27814569536427 L 183.0 108.27814569536427 L 183.33333333333331 107.94701986754976 L 183.66666666666666 108.27814569536427 L 184.0 107.28476821192052 L 184.33333333333331 108.27814569536427 L 184.66666666666666 107.94701986754976 L 185.0 107.94701986754976 L 185.33333333333334 108.27814569536427 L 185.66666666666666 104.96688741721852 L 186.00000000000003 106.95364238410602 L 186.33333333333334 104.96688741721852 L 186.66666666666666 105.96026490066227 L 187.0 104.96688741721852 L 187.33333333333331 104.63576158940397 L 187.66666666666669 104.96688741721852 L 188.0 105.96026490066227 L 188.33333333333331 101.32450331125835 L 188.66666666666666 104.96688741721852 L 189.0 102.31788079470196 L 189.33333333333334 104.30463576158942 L 189.66666666666666 104.63576158940397 L 190.00000000000003 104.96688741721852 L 190.33333333333334 104.63576158940397 L 190.66666666666666 104.63576158940397 L 191.0 104.63576158940397 L 191.33333333333334 104.63576158940397 L 191.66666666666669 104.30463576158942 L 192.0 104.63576158940397 L 192.33333333333331 104.30463576158942 L 192.66666666666669 103.31125827814569 L 192.99999999999997 103.64238410596022 L 193.33333333333337 104.63576158940397 L 193.66666666666666 104.30463576158942 L 193.99999999999997 101.32450331125835 L 194.33333333333334 103.31125827814569 L 194.66666666666666 102.98013245033117 L 195.0 102.31788079470196 L 195.33333333333334 102.98013245033117 L 195.66666666666666 101.32450331125835 L 196.0 101.98675496688742 L 196.33333333333334 102.98013245033117 L 196.66666666666669 102.31788079470196 L 197.0 101.32450331125835 L 197.33333333333337 101.98675496688742 L 197.66666666666669 100.99337748344368 L 197.99999999999997 101.32450331125835 L 198.33333333333337 100.99337748344368 L 198.66666666666666 101.32450331125835 L 199.0 100.99337748344368 L 199.33333333333334 104.63576158940397 L 199.66666666666666 98.344370860927114 L 200.0 100.99337748344368 L 200.33333333333334 100.99337748344368 L 200.66666666666669 101.32450331125835 L 201.0 98.344370860927114 L 201.33333333333331 99.999999999999929 L 201.66666666666669 99.999999999999929 L 202.0 99.999999999999929 L 202.33333333333331 100.66225165562915 L 202.66666666666669 99.999999999999929 L 202.99999999999997 100.66225165562915 L 203.33333333333331 100.66225165562915 L 203.66666666666666 99.999999999999929 L 204.0 99.999999999999929 L 204.33333333333331 99.999999999999929 L 204.66666666666669 99.999999999999929 L 205.0 99.999999999999929 L 205.33333333333331 99.337748344370866 L 205.66666666666669 99.337748344370866 L 206.0 97.682119205298036 L 206.33333333333334 98.675496688741802 L 206.66666666666669 98.344370860927114 L 207.0 97.350993377483377 L 207.33333333333331 98.344370860927114 L 207.66666666666669 97.350993377483377 L 208.0 98.344370860927114 L 208.33333333333331 97.682119205298036 L 208.66666666666669 98.344370860927114 L 209.0 98.344370860927114 L 209.33333333333331 97.682119205298036 L 209.66666666666669 97.350993377483377 L 210.0 97.350993377483377 L 210.33333333333334 97.350993377483377 L 210.66666666666669 97.350993377483377 L 211.0 96.35761589403991 L 211.33333333333334 97.019867549668973 L 211.66666666666666 97.019867549668973 L 212.0 97.350993377483377 L 212.33333333333331 97.350993377483377 L 212.66666666666663 97.350993377483377 L 213.0 97.019867549668973 L 213.33333333333331 96.35761589403991 L 213.66666666666669 96.35761589403991 L 214.0 97.019867549668973 L 214.33333333333331 96.026490066225222 L 214.66666666666666 97.019867549668973 L 215.0 96.026490066225222 L 215.33333333333334 96.026490066225222 L 215.66666666666666 96.026490066225222 L 216.00000000000003 95.695364238410548 L 216.33333333333334 96.026490066225222 L 216.66666666666666 95.695364238410548 L 217.0 93.708609271523358 L 217.33333333333331 95.033112582781484 L 217.66666666666669 95.033112582781484 L 218.0 94.039735099337733 L 218.33333333333331 94.039735099337733 L 218.66666666666669 93.708609271523358 L 219.0 93.708609271523358 L 219.33333333333334 94.039735099337733 L 219.66666666666666 93.708609271523358 L 220.0 94.039735099337733 L 220.33333333333334 93.708609271523358 L 220.66666666666666 94.039735099337733 L 221.00000000000003 93.708609271523358 L 221.33333333333334 93.708609271523358 L 221.66666666666666 93.708609271523358 L 222.0 93.708609271523358 L 222.33333333333331 93.708609271523358 L 222.66666666666669 93.708609271523358 L 223.0 93.708609271523358 L 223.33333333333334 93.37748344370867 L 223.66666666666669 93.37748344370867 L 223.99999999999997 93.37748344370867 L 224.33333333333334 93.37748344370867 L 224.66666666666666 93.37748344370867 L 225.0 92.715231788079606 L 225.33333333333334 92.715231788079606 L 225.66666666666666 92.715231788079606 L 226.0 92.715231788079606 L 226.33333333333334 92.715231788079606 L 226.66666666666669 92.052980132450259 L 227.0 92.052980132450259 L 227.33333333333331 92.052980132450259 L 227.66666666666669 92.052980132450259 L 228.0 92.052980132450259 L 228.33333333333334 92.052980132450259 L 228.66666666666666 92.052980132450259 L 229.0 91.390728476821181 L 229.33333333333334 90.066225165563054 L 229.66666666666666 90.39735099337743 L 230.0 90.39735099337743 L 230.33333333333334 90.066225165563054 L 230.66666666666669 91.059602649006806 L 231.0 90.066225165563054 L 231.33333333333334 90.39735099337743 L 231.66666666666669 90.066225165563054 L 232.0 90.39735099337743 L 232.33333333333331 86.75496688741714 L 232.66666666666669 86.423841059602751 L 232.99999999999997 87.748344370860892 L 233.33333333333331 90.066225165563054 L 233.66666666666666 90.066225165563054 L 234.0 90.066225165563054 L 234.33333333333331 90.066225165563054 L 234.66666666666669 90.066225165563054 L 235.0 89.072847682119303 L 235.33333333333331 88.741721854304629 L 235.66666666666669 88.410596026490239 L 236.0 88.410596026490239 L 236.33333333333334 88.410596026490239 L 236.66666666666669 88.410596026490239 L 237.0 88.410596026490239 L 237.33333333333331 87.417218543046488 L 237.66666666666669 86.75496688741714 L 238.0 87.417218543046488 L 238.33333333333331 87.748344370860892 L 238.66666666666666 86.75496688741714 L 239.0 86.75496688741714 L 239.33333333333331 86.423841059602751 L 239.66666666666669 86.423841059602751 L 240.0 86.75496688741714 L 240.33333333333331 86.423841059602751 L 240.66666666666669 86.423841059602751 L 241.0 86.423841059602751 L 241.33333333333334 84.105960264900588 L 241.66666666666669 86.423841059602751 L 242.00000000000003 86.423841059602751 L 242.33333333333331 86.423841059602751 L 242.66666666666669 86.423841059602751 L 243.0 86.092715231788063 L 243.33333333333331 86.092715231788063 L 243.66666666666666 85.430463576158999 L 244.0 85.09933774834434 L 244.33333333333331 85.430463576158999 L 244.66666666666666 86.092715231788063 L 245.0 86.092715231788063 L 245.33333333333334 85.09933774834434 L 245.66666666666666 85.09933774834434 L 246.0 84.768211920529936 L 246.33333333333334 83.112582781457121 L 246.66666666666666 84.105960264900588 L 247.00000000000003 83.112582781457121 L 247.33333333333331 83.774834437086184 L 247.66666666666669 82.781456953642447 L 248.0 82.781456953642447 L 248.33333333333331 80.463576158940555 L 248.66666666666666 82.781456953642447 L 249.0 83.112582781457121 L 249.33333333333334 82.781456953642447 L 249.66666666666666 82.781456953642447 L 250.0 82.781456953642447 L 250.33333333333334 82.781456953642447 L 250.66666666666666 82.781456953642447 L 251.00000000000003 82.781456953642447 L 251.33333333333334 79.470198675496817 L 251.66666666666666 82.781456953642447 L 252.0 82.781456953642447 L 252.33333333333331 82.781456953642447 L 252.66666666666669 82.450331125827773 L 253.0 82.450331125827773 L 253.33333333333334 81.788079470198696 L 253.66666666666666 81.125827814569618 L 253.99999999999997 81.456953642384022 L 254.33333333333334 81.456953642384022 L 254.66666666666666 79.139072847682144 L 255.0 80.132450331125881 L 255.33333333333334 79.470198675496817 L 255.66666666666666 79.139072847682144 L 256.0 79.139072847682144 L 256.33333333333331 79.470198675496817 L 256.66666666666669 79.139072847682144 L 257.0 79.470198675496817 L 257.33333333333331 79.139072847682144 L 257.66666666666669 79.139072847682144 L 258.0 79.139072847682144 L 258.33333333333337 79.139072847682144 L 258.66666666666669 79.139072847682144 L 259.0 79.139072847682144 L 259.33333333333337 79.139072847682144 L 259.66666666666663 79.139072847682144 L 260.0 79.139072847682144 L 260.33333333333331 79.139072847682144 L 260.66666666666669 79.139072847682144 L 261.0 79.139072847682144 L 261.33333333333331 76.821192052980265 L 261.66666666666669 75.49668874172184 L 262.0 75.827814569536514 L 262.33333333333337 79.139072847682144 L 262.66666666666669 79.139072847682144 L 263.0 76.821192052980265 L 263.33333333333337 79.139072847682144 L 263.66666666666669 79.139072847682144 L 264.0 78.145695364238406 L 264.33333333333331 77.152317880794641 L 264.66666666666663 77.814569536424017 L 265.0 77.814569536424017 L 265.33333333333331 76.821192052980265 L 265.66666666666669 77.152317880794641 L 266.0 75.827814569536514 L 266.33333333333331 76.821192052980265 L 266.66666666666669 76.490066225165577 L 267.0 75.49668874172184 L 267.33333333333331 76.490066225165577 L 267.66666666666669 76.490066225165577 L 268.0 73.178807947019948 L 268.33333333333331 75.49668874172184 L 268.66666666666669 75.49668874172184 L 269.0 73.178807947019948 L 269.33333333333331 75.49668874172184 L 269.66666666666669 75.49668874172184 L 270.0 75.49668874172184 L 270.33333333333331 75.49668874172184 L 270.66666666666669 75.49668874172184 L 271.0 75.49668874172184 L 271.33333333333331 75.49668874172184 L 271.66666666666669 72.185430463576211 L 272.0 75.827814569536514 L 272.33333333333331 75.49668874172184 L 272.66666666666669 71.854304635761537 L 273.0 75.49668874172184 L 273.33333333333331 75.49668874172184 L 273.66666666666669 72.185430463576211 L 274.0 74.172185430463699 L 274.33333333333331 74.503311258278103 L 274.66666666666663 74.172185430463699 L 275.0 73.178807947019948 L 275.33333333333337 73.178807947019948 L 275.66666666666663 71.854304635761537 L 276.0 73.509933774834337 L 276.33333333333331 73.509933774834337 L 276.66666666666663 75.165562913907451 L 277.0 74.503311258278103 L 277.33333333333331 71.854304635761537 L 277.66666666666663 72.847682119205274 L 278.0 72.847682119205274 L 278.33333333333331 72.185430463576211 L 278.66666666666669 73.178807947019948 L 279.0 73.178807947019948 L 279.33333333333337 72.185430463576211 L 279.66666666666663 75.49668874172184 L 280.0 72.847682119205274 L 280.33333333333331 69.867549668874332 L 280.66666666666663 72.847682119205274 L 281.0 69.867549668874332 L 281.33333333333331 68.211920529801233 L 281.66666666666663 75.165562913907451 L 282.0 71.854304635761537 L 282.33333333333331 71.854304635761537 L 282.66666666666669 71.854304635761537 L 283.0 71.523178807947147 L 283.33333333333337 71.854304635761537 L 283.66666666666663 71.854304635761537 L 284.00000000000006 71.523178807947147 L 284.33333333333331 71.854304635761537 L 284.66666666666663 71.854304635761537 L 285.0 71.854304635761537 L 285.33333333333331 71.523178807947147 L 285.66666666666669 71.854304635761537 L 285.99999999999994 71.523178807947147 L 286.33333333333337 71.854304635761537 L 286.66666666666663 71.523178807947147 L 287.0 71.523178807947147 L 287.33333333333331 70.860927152317785 L 287.66666666666669 69.536423841059658 L 288.0 69.867549668874332 L 288.33333333333337 68.543046357615907 L 288.66666666666669 69.867549668874332 L 289.0 69.867549668874332 L 289.33333333333331 69.867549668874332 L 289.66666666666663 69.536423841059658 L 290.0 69.867549668874332 L 290.33333333333331 69.536423841059658 L 290.66666666666669 68.211920529801233 L 290.99999999999994 68.211920529801233 L 291.33333333333337 64.900662251655604 L 291.66666666666663 68.211920529801233 L 292.0 68.211920529801233 L 292.33333333333331 65.894039735099355 L 292.66666666666669 71.854304635761537 L 293.0 68.211920529801233 L 293.33333333333337 68.543046357615907 L 293.66666666666669 68.211920529801233 L 294.0 68.211920529801233 L 294.33333333333337 68.543046357615907 L 294.66666666666663 66.225165562914043 L 295.0 66.887417218543092 L 295.33333333333337 68.543046357615907 L 295.66666666666669 65.562913907284667 L 296.0 66.887417218543092 L 296.33333333333331 67.880794701986844 L 296.66666666666663 67.880794701986844 L 297.0 67.880794701986844 L 297.33333333333331 67.21854304635778 L 297.66666666666669 67.21854304635778 L 298.0 67.880794701986844 L 298.33333333333331 67.21854304635778 L 298.66666666666669 66.887417218543092 L 299.0 66.225165562914043 L 299.33333333333331 66.887417218543092 L 299.66666666666663 66.887417218543092 L 300.0 64.900662251655604 L 300.33333333333331 64.569536423841214 L 300.66666666666663 65.562913907284667 L 301.0 65.562913907284667 L 301.33333333333337 65.894039735099355 L 301.66666666666663 65.562913907284667 L 302.0 65.562913907284667 L 302.33333333333331 64.569536423841214 L 302.66666666666669 64.569536423841214 L 303.0 64.569536423841214 L 303.33333333333337 61.2582781456953 L 303.66666666666663 64.569536423841214 L 304.0 64.569536423841214 L 304.33333333333337 60.927152317880925 L 304.66666666666669 64.569536423841214 L 305.0 64.569536423841214 L 305.33333333333331 64.569536423841214 L 305.66666666666663 64.569536423841214 L 306.0 61.920529801324662 L 306.33333333333337 63.245033112582796 L 306.66666666666663 63.576158940397477 L 307.0 61.920529801324662 L 307.33333333333337 63.245033112582796 L 307.66666666666669 63.245033112582796 L 308.0 63.245033112582796 L 308.33333333333337 62.582781456953732 L 308.66666666666663 63.245033112582796 L 309.00000000000006 62.582781456953732 L 309.33333333333337 61.920529801324662 L 309.66666666666669 62.251655629139044 L 310.0 60.927152317880925 L 310.33333333333331 62.251655629139044 L 310.66666666666669 60.927152317880925 L 311.0 60.927152317880925 L 311.33333333333331 61.2582781456953 L 311.66666666666663 60.927152317880925 L 312.0 60.927152317880925 L 312.33333333333331 60.927152317880925 L 312.66666666666669 60.927152317880925 L 313.0 57.615894039735295 L 313.33333333333331 60.927152317880925 L 313.66666666666663 60.927152317880925 L 314.00000000000006 60.596026490066237 L 314.33333333333331 59.933774834437166 L 314.66666666666669 59.933774834437166 L 315.0 59.933774834437166 L 315.33333333333326 59.602649006622485 L 315.66666666666669 59.602649006622485 L 316.0 58.940397350993422 L 316.33333333333331 58.940397350993422 L 316.66666666666663 58.940397350993422 L 317.0 57.615894039735295 L 317.33333333333331 57.615894039735295 L 317.66666666666669 57.615894039735295 L 318.0 57.284768211920614 L 318.33333333333331 57.615894039735295 L 318.66666666666663 57.284768211920614 L 319.00000000000006 57.284768211920614 L 319.33333333333331 53.642384105960303 L 319.66666666666669 53.642384105960303 L 320.0 57.284768211920614 L 320.33333333333337 53.642384105960303 L 320.66666666666669 53.642384105960303 L 321.0 53.642384105960303 L 321.33333333333331 53.642384105960303 L 321.66666666666663 53.642384105960303 L 322.00000000000006 53.642384105960303 L 322.33333333333331 53.642384105960303 L 322.66666666666669 53.642384105960303 L 323.0 53.642384105960303 L 323.33333333333331 53.642384105960303 L 323.66666666666669 53.642384105960303 L 324.00000000000006 53.642384105960303 L 324.33333333333331 53.642384105960303 L 324.66666666666663 53.642384105960303 L 325.0 53.642384105960303 L 325.33333333333337 53.642384105960303 L 325.66666666666669 53.642384105960303 L 326.0 53.642384105960303 L 326.33333333333331 53.642384105960303 L 326.66666666666663 53.642384105960303 L 327.00000000000006 51.324503311258432 L 327.33333333333331 50.0 L 327.66666666666669 53.642384105960303 L 328.0 51.655629139072808 L 328.33333333333331 53.973509933774984 L 328.66666666666669 53.973509933774984 L 329.00000000000006 53.642384105960303 L 329.33333333333331 53.642384105960303 L 329.66666666666663 53.642384105960303 L 330.00000000000006 50.993377483443744 L 330.33333333333337 53.642384105960303 L 330.66666666666669 53.973509933774984 L 331.0 53.642384105960303 L 331.33333333333331 53.973509933774984 L 331.66666666666669 53.642384105960303 L 332.0 51.324503311258432 L 332.33333333333331 53.642384105960303 L 332.66666666666669 53.642384105960303 L 332.99999999999994 53.642384105960303 L 333.33333333333337 53.642384105960303 L 333.66666666666669 53.642384105960303 L 334.0 53.642384105960303 L 334.33333333333331 53.973509933774984 L 334.66666666666663 53.642384105960303 L 335.0 53.642384105960303 L 335.33333333333337 53.642384105960303 L 335.66666666666669 53.642384105960303 L 335.99999999999994 53.642384105960303 L 336.33333333333331 53.642384105960303 L 336.66666666666669 53.642384105960303 L 337.0 53.642384105960303 L 337.33333333333331 53.642384105960303 L 337.66666666666669 53.642384105960303 L 337.99999999999994 53.642384105960303 L 338.33333333333337 51.655629139072808 L 338.66666666666669 53.642384105960303 L 339.0 53.642384105960303 L 339.33333333333331 53.642384105960303 L 339.66666666666663 53.642384105960303 L 340.0 53.642384105960303 L 340.33333333333337 53.642384105960303 L 340.66666666666669 53.642384105960303 L 340.99999999999994 50.331125827814681 L 341.33333333333331 53.642384105960303 L 341.66666666666669 53.642384105960303 L 342.0 53.642384105960303 L 342.33333333333331 50.0 L 342.66666666666669 51.324503311258432 L 342.99999999999994 53.642384105960303 L 343.33333333333337 53.642384105960303 L 343.66666666666669 53.642384105960303 L 344.0 53.642384105960303 L 344.33333333333331 53.642384105960303 L 344.66666666666674 53.973509933774984 L 345.0 51.324503311258432 L 345.33333333333331 51.324503311258432 L 345.66666666666669 53.642384105960303 L 345.99999999999994 53.642384105960303 L 346.33333333333337 53.642384105960303 L 346.66666666666669 53.642384105960303 L 347.0 53.642384105960303 L 347.33333333333331 53.642384105960303 L 347.66666666666669 53.642384105960303 L 348.0 50.331125827814681 L 348.33333333333337 53.642384105960303 L 348.66666666666669 53.642384105960303 L 349.0 53.642384105960303 L 349.33333333333331 53.642384105960303 L 349.66666666666674 53.642384105960303 L 350.0 51.324503311258432 L 350.33333333333331 53.642384105960303 L 350.66666666666669 53.642384105960303 L 350.99999999999994 53.642384105960303 L 351.33333333333337 53.642384105960303 L 351.66666666666669 53.973509933774984 L 352.0 53.642384105960303 L 352.33333333333331 53.642384105960303 L 352.66666666666663 53.642384105960303 L 353.0 53.642384105960303 L 353.33333333333337 53.642384105960303 L 353.66666666666663 53.642384105960303 L 354.0 53.642384105960303 L 354.33333333333331 51.324503311258432 L 354.66666666666669 53.642384105960303 L 355.0 53.642384105960303 L 355.33333333333331 53.973509933774984 L 355.66666666666663 53.642384105960303 L 355.99999999999994 53.642384105960303 L 356.33333333333337 53.642384105960303 L 356.66666666666663 53.642384105960303 L 357.0 53.642384105960303 L 357.33333333333331 53.642384105960303 L 357.66666666666663 53.642384105960303 L 358.0 53.642384105960303 L 358.33333333333337 53.642384105960303 L 358.66666666666663 53.642384105960303 L 359.0 53.642384105960303 L 359.33333333333337 53.642384105960303 L 359.66666666666669 53.642384105960303 L 360.0 53.642384105960303 L 360.33333333333331 53.642384105960303 L 360.66666666666663 53.642384105960303 L 361.0 53.642384105960303 L 361.33333333333337 53.642384105960303 L 361.66666666666663 53.642384105960303 L 362.0 53.642384105960303 L 362.33333333333331 53.642384105960303 L 362.66666666666669 53.642384105960303 L 363.0 53.642384105960303 L 363.33333333333337 53.642384105960303 L 363.66666666666663 53.642384105960303 L 364.0 53.642384105960303 L 364.33333333333337 53.642384105960303 L 364.66666666666669 53.642384105960303 L 365.0 53.642384105960303 L 365.33333333333331 53.642384105960303 L 365.66666666666663 53.642384105960303 L 366.0 53.642384105960303 L 366.33333333333337 53.642384105960303 L 366.66666666666663 53.642384105960303 L 367.0 53.642384105960303 L 367.33333333333337 53.642384105960303 L 367.66666666666669 53.642384105960303 L 368.0 53.973509933774984 L 368.33333333333337 53.642384105960303 L 368.66666666666663 53.973509933774984 L 369.00000000000006 53.642384105960303 L 369.33333333333337 53.973509933774984 L 369.66666666666669 53.642384105960303 L 370.0 53.642384105960303 L 370.33333333333331 53.642384105960303 L 370.66666666666669 50.993377483443744 L 371.0 53.973509933774984 L 371.33333333333337 53.642384105960303 L 371.66666666666663 53.642384105960303 L 372.0 53.642384105960303 L 372.33333333333337 53.642384105960303 L 372.66666666666669 50.993377483443744 L 373.0 51.655629139072808 L 373.33333333333331 53.642384105960303 L 373.66666666666663 53.642384105960303 L 374.00000000000006 53.642384105960303 L 374.33333333333331 53.642384105960303 L 374.66666666666669 53.973509933774984 L 375.0 53.642384105960303 L 375.33333333333326 53.642384105960303 L 375.66666666666669 50.331125827814681 L 376.0 53.642384105960303 L 376.33333333333331 51.324503311258432 L 376.66666666666663 53.642384105960303 L 377.0 50.993377483443744 L 377.33333333333331 53.642384105960303 L 377.66666666666669 53.642384105960303 L 378.0 53.642384105960303 L 378.33333333333331 56.291390728476863 L 378.66666666666663 53.642384105960303 L 379.00000000000006 50.331125827814681 L 379.33333333333331 53.642384105960303 L 379.66666666666669 53.642384105960303 L 380.0 53.642384105960303 L 380.33333333333326 51.324503311258432 L 380.66666666666669 53.973509933774984 L 381.0 53.642384105960303 L 381.33333333333331 53.973509933774984 L 381.66666666666663 53.642384105960303 L 382.00000000000006 53.642384105960303 L 382.33333333333331 53.973509933774984 L 382.66666666666669 53.642384105960303 L 383.0 53.642384105960303 L 383.33333333333331 53.642384105960303 L 383.66666666666669 53.973509933774984 L 384.00000000000006 53.642384105960303 L 384.33333333333331 53.642384105960303 L 384.66666666666663 53.642384105960303 L 385.0 53.642384105960303 L 385.33333333333337 53.642384105960303 L 385.66666666666669 53.642384105960303 L 386.0 53.642384105960303 L 386.33333333333331 53.642384105960303 L 386.66666666666663 53.642384105960303 L 387.00000000000006 53.642384105960303 L 387.33333333333331 53.642384105960303 L 387.66666666666669 53.642384105960303 L 388.0 53.642384105960303 L 388.33333333333331 53.973509933774984 L 388.66666666666669 53.642384105960303 L 389.00000000000006 53.973509933774984 L 389.33333333333331 50.0 L 389.66666666666663 53.642384105960303 L 390.0 53.973509933774984 L 390.33333333333337 53.973509933774984 L 390.66666666666669 50.331125827814681 L 391.0 53.642384105960303 L 391.33333333333331 53.642384105960303 L 391.66666666666663 53.973509933774984 L 392.00000000000006 53.642384105960303 L 392.33333333333331 50.993377483443744 L 392.66666666666669 53.642384105960303 L 393.0 53.642384105960303 L 393.33333333333331 53.973509933774984 L 393.66666666666669 50.993377483443744 L 394.0 53.642384105960303 L 394.33333333333331 53.642384105960303 L 394.66666666666663 50.993377483443744 L 394.99999999999994 53.642384105960303 L 395.33333333333331 53.642384105960303 L 395.66666666666669 53.642384105960303 L 395.99999999999994 53.642384105960303 L 396.33333333333331 53.642384105960303 L 396.66666666666669 53.642384105960303 L 397.0 53.642384105960303 L 397.33333333333331 53.642384105960303 L 397.66666666666669 50.331125827814681 L 397.99999999999994 53.642384105960303 L 398.33333333333337 53.642384105960303 L 398.66666666666669 53.642384105960303 L 399.0 53.642384105960303 L 399.33333333333331 53.642384105960303 L 399.66666666666663 53.642384105960303 L 400.0 53.642384105960303 L 400.33333333333331 51.324503311258432 L 400.66666666666669 53.973509933774984 L 400.99999999999994 53.642384105960303 L 401.33333333333331 53.642384105960303 L 401.66666666666669 53.642384105960303 L 402.0 50.993377483443744 L 402.33333333333331 53.642384105960303 L 402.66666666666669 53.642384105960303 L 402.99999999999994 53.973509933774984 L 403.33333333333337 53.642384105960303 L 403.66666666666669 53.642384105960303 L 404.0 53.642384105960303 L 404.33333333333331 53.642384105960303 L 404.66666666666663 53.642384105960303 L 405.0 53.642384105960303 L 405.33333333333331 53.642384105960303 L 405.66666666666669 53.642384105960303 L 405.99999999999994 53.642384105960303 L 406.33333333333337 53.642384105960303 L 406.66666666666669 53.973509933774984 L 407.0 53.642384105960303 L 407.33333333333331 50.993377483443744 L 407.66666666666669 53.642384105960303 L 408.0 53.642384105960303 L 408.33333333333337 53.642384105960303 L 408.66666666666669 53.642384105960303 L 409.0 53.642384105960303 L 409.33333333333331 53.642384105960303 L 409.66666666666674 50.993377483443744 L 410.0 53.642384105960303 L 410.33333333333331 53.642384105960303 L 410.66666666666669 53.642384105960303 L 410.99999999999994 53.642384105960303 L 411.33333333333337 53.642384105960303 L 411.66666666666669 53.642384105960303 L 412.0 53.642384105960303 L 412.33333333333331 53.973509933774984 L 412.66666666666669 53.642384105960303 L 413.0 53.642384105960303 L 413.33333333333337 53.973509933774984 L 413.66666666666669 53.642384105960303 L 414.0 53.642384105960303 L 414.33333333333331 53.642384105960303 L 414.66666666666669 53.642384105960303 L 415.0 53.642384105960303 L 415.33333333333331 53.642384105960303 L 415.66666666666663 53.642384105960303 L 415.99999999999994 53.642384105960303 L 416.33333333333337 53.642384105960303 L 416.66666666666663 53.642384105960303 L 417.0 53.642384105960303 L 417.33333333333331 53.642384105960303 L 417.66666666666663 53.642384105960303 L 418.0 53.642384105960303 L 418.33333333333337 53.642384105960303 L 418.66666666666663 53.642384105960303 L 419.0 53.642384105960303 L 419.33333333333337 53.642384105960303 L 419.66666666666669 53.642384105960303 L 420.0 53.642384105960303 L 420.33333333333331 53.642384105960303 L 420.66666666666663 53.642384105960303 L 421.0 53.642384105960303 L 421.33333333333337 53.642384105960303 L 421.66666666666663 53.642384105960303 L 422.0 53.642384105960303 L 422.33333333333331 53.642384105960303 L 422.66666666666669 53.642384105960303 L 423.0 53.642384105960303 L 423.33333333333337 53.642384105960303 L 423.66666666666663 53.642384105960303 L 424.0 53.642384105960303 L 424.33333333333337 53.642384105960303 L 424.66666666666669 53.642384105960303 L 425.0 53.642384105960303 L 425.33333333333331 53.642384105960303 L 425.66666666666663 53.642384105960303 L 426.0 53.642384105960303 L 426.33333333333337 53.642384105960303 L 426.66666666666663 53.642384105960303 L 427.0 53.642384105960303 L 427.33333333333331 53.642384105960303 L 427.66666666666669 53.642384105960303 L 428.0 53.642384105960303 L 428.33333333333337 53.642384105960303 L 428.66666666666663 53.642384105960303 L 429.0 53.642384105960303 L 429.33333333333337 53.642384105960303 L 429.66666666666669 53.642384105960303 L 430.0 53.642384105960303 L 430.33333333333331 53.642384105960303 L 430.66666666666663 53.642384105960303 L 431.0 53.642384105960303 L 431.33333333333337 53.642384105960303 L 431.66666666666663 50.331125827814681 L 432.0 53.642384105960303 L 432.33333333333337 53.642384105960303 L 432.66666666666669 53.642384105960303 L 433.0 53.642384105960303 L 433.33333333333337 53.642384105960303 L 433.66666666666663 53.642384105960303 L 434.00000000000006 53.642384105960303 L 434.33333333333337 53.642384105960303 L 434.66666666666669 53.642384105960303 L 435.0 53.642384105960303 L 435.33333333333331 53.642384105960303 L 435.66666666666669 53.642384105960303 L 436.0 53.642384105960303 L 436.33333333333331 53.642384105960303 L 436.66666666666663 53.642384105960303 L 437.0 53.642384105960303 L 437.33333333333331 53.642384105960303 L 437.66666666666669 50.993377483443744 L 438.0 53.642384105960303 L 438.33333333333331 53.642384105960303 L 438.66666666666663 50.0 L 439.00000000000006 53.642384105960303 L 439.33333333333331 53.642384105960303 L 439.66666666666669 53.642384105960303 L 440.0 53.642384105960303 L 440.33333333333326 53.642384105960303 L 440.66666666666669 53.642384105960303 L 441.0 53.642384105960303 L 441.33333333333331 53.642384105960303 L 441.66666666666663 53.642384105960303 L 442.0 53.642384105960303 L 442.33333333333331 53.642384105960303 L 442.66666666666669 53.642384105960303 L 443.0 53.642384105960303 L 443.33333333333331 50.993377483443744 L 443.66666666666663 53.642384105960303 L 444.00000000000006 53.642384105960303 L 444.33333333333331 53.642384105960303 L 444.66666666666669 53.642384105960303 L 445.0 53.642384105960303 L 445.33333333333337 53.973509933774984 L 445.66666666666669 53.642384105960303 L 446.0 53.642384105960303 L 446.33333333333331 53.642384105960303 L 446.66666666666663 53.642384105960303 L 447.00000000000006 53.642384105960303 L 447.33333333333331 53.642384105960303 L 447.66666666666669 53.642384105960303 L 448.0 53.642384105960303 L 448.33333333333331 53.642384105960303 L 448.66666666666669 53.642384105960303 L 449.00000000000006 53.642384105960303 L 449.33333333333331 50.993377483443744 L 449.66666666666669 53.642384105960303 L 450.0 53.642384105960303 L 450.33333333333337 50.993377483443744 L 450.66666666666669 50.993377483443744 L 451.0 53.642384105960303 L 451.33333333333331 53.642384105960303 L 451.66666666666663 53.642384105960303 L 452.00000000000006 53.642384105960303 L 452.33333333333331 53.642384105960303 L 452.66666666666669 53.642384105960303 L 453.0 53.642384105960303 L 453.33333333333331 53.642384105960303 L 453.66666666666669 53.642384105960303 L 454.00000000000006 50.993377483443744 L 454.33333333333331 53.642384105960303 L 454.66666666666669 53.642384105960303 L 455.00000000000006 53.642384105960303 L 455.33333333333337 53.642384105960303 L 455.66666666666669 53.642384105960303 L 456.0 53.642384105960303 L 456.33333333333331 53.642384105960303 L 456.66666666666669 53.642384105960303 L 457.0 53.642384105960303 L 457.33333333333331 53.642384105960303 L 457.66666666666669 53.642384105960303 L 457.99999999999994 50.993377483443744 L 458.33333333333337 53.642384105960303 L 458.66666666666669 53.642384105960303 L 459.0 50.0 L 459.33333333333331 53.642384105960303 L 459.66666666666663 53.642384105960303 L 460.0 53.642384105960303 L 460.33333333333331 53.642384105960303 L 460.66666666666669 50.993377483443744 L 460.99999999999994 51.324503311258432 L 461.33333333333331 53.973509933774984 L 461.66666666666669 53.642384105960303 L 462.0 53.642384105960303 L 462.33333333333331 53.642384105960303 L 462.66666666666669 50.331125827814681 L 462.99999999999994 53.642384105960303 L 463.33333333333337 50.993377483443744 L 463.66666666666669 53.642384105960303 L 464.0 53.642384105960303 L 464.33333333333331 53.642384105960303 L 464.66666666666663 53.642384105960303 L 465.0 50.331125827814681 L 465.33333333333331 50.331125827814681 L 465.66666666666669 53.642384105960303 L 465.99999999999994 53.642384105960303 L 466.33333333333331 53.642384105960303 L 466.66666666666669 53.642384105960303 L 467.0 53.642384105960303 L 467.33333333333331 50.993377483443744 L 467.66666666666669 50.993377483443744 L 467.99999999999994 53.642384105960303 L 468.33333333333337 53.642384105960303 L 468.66666666666669 53.642384105960303 L 469.0 50.993377483443744 L 469.33333333333331 53.642384105960303 L 469.66666666666674 53.642384105960303 L 470.0 53.642384105960303 L 470.33333333333331 53.642384105960303 L 470.66666666666669 53.642384105960303 L 470.99999999999994 53.642384105960303 L 471.33333333333337 53.642384105960303 L 471.66666666666669 53.642384105960303 L 472.0 50.331125827814681 L 472.33333333333331 53.642384105960303 L 472.66666666666669 53.642384105960303 L 473.0 53.642384105960303 L 473.33333333333337 53.642384105960303 L 473.66666666666669 53.642384105960303 L 474.0 53.973509933774984 L 474.33333333333331 53.642384105960303 L 474.66666666666669 53.642384105960303 L 475.0 51.324503311258432 L 475.33333333333331 53.642384105960303 L 475.66666666666669 53.642384105960303 L 475.99999999999994 53.642384105960303 L 476.33333333333337 53.642384105960303 L 476.66666666666669 53.642384105960303 L 477.0 50.0 L 477.33333333333331 53.642384105960303 L 477.66666666666663 53.642384105960303 L 478.0 50.993377483443744 L 478.33333333333337 53.642384105960303 L 478.66666666666663 53.973509933774984 L 479.0 54.635761589404055 L 479.33333333333331 57.284768211920614 L 479.66666666666669 57.284768211920614 L 480.0 57.615894039735295 L 480.33333333333331 58.609271523178748 L 480.66666666666663 58.940397350993422 L 480.99999999999994 58.609271523178748 L 481.33333333333337 59.602649006622485 L 481.66666666666663 57.284768211920614 L 482.0 58.278145695364358 L 482.33333333333331 57.615894039735295 L 482.66666666666663 60.927152317880925 L 483.0 59.933774834437166 L 483.33333333333337 59.602649006622485 L 483.66666666666663 58.940397350993422 L 484.0 59.933774834437166 L 484.33333333333337 60.596026490066237 L 484.66666666666669 60.596026490066237 L 485.0 59.933774834437166 L 485.33333333333331 60.927152317880925 L 485.66666666666663 58.940397350993422 L 486.0 60.927152317880925 L 486.33333333333337 60.927152317880925 L 486.66666666666663 57.615894039735295 L 487.0 59.933774834437166 L 487.33333333333331 58.609271523178748 L 487.66666666666669 60.927152317880925 L 488.0 60.927152317880925 L 488.33333333333337 60.927152317880925 L 488.66666666666663 60.927152317880925 L 489.0 60.927152317880925 L 489.33333333333337 60.927152317880925 L 489.66666666666669 60.927152317880925 L 490.0 60.927152317880925 L 490.33333333333331 60.927152317880925 L 490.66666666666663 60.927152317880925 L 491.0 60.927152317880925 L 491.33333333333337 59.602649006622485 L 491.66666666666663 60.927152317880925 L 492.0 60.927152317880925 L 492.33333333333337 58.278145695364358 L 492.66666666666669 60.927152317880925 L 493.0 60.927152317880925 L 493.33333333333337 60.927152317880925 L 493.66666666666663 60.927152317880925 L 494.00000000000006 60.927152317880925 L 494.33333333333337 60.927152317880925 L 494.66666666666669 60.927152317880925 L 495.0 60.927152317880925 L 495.33333333333331 60.927152317880925 L 495.66666666666669 58.278145695364358 L 496.0 60.927152317880925 L 496.33333333333337 60.927152317880925 L 496.66666666666663 60.927152317880925 L 497.0 60.927152317880925 L 497.33333333333337 60.927152317880925 L 497.66666666666669 60.927152317880925 L 498.0 58.609271523178748 L 498.33333333333331 60.927152317880925 L 498.66666666666663 60.927152317880925 L 499.00000000000006 60.927152317880925 L 499.33333333333331 60.927152317880925 L 499.66666666666669 60.927152317880925 L 500.0 60.927152317880925 L 500.33333333333331 60.927152317880925 L 500.66666666666669 58.278145695364358 L 501.0 60.927152317880925 L 501.33333333333331 57.615894039735295 L 501.66666666666663 60.927152317880925 L 502.0 60.927152317880925 L 502.33333333333331 57.615894039735295 L 502.66666666666669 60.927152317880925 L 503.0 60.927152317880925 L 503.33333333333331 57.615894039735295 L 503.66666666666663 60.927152317880925 L 504.00000000000006 60.927152317880925 L 504.33333333333331 60.927152317880925 L 504.66666666666669 58.278145695364358 L 505.0 60.927152317880925 L 505.33333333333326 60.927152317880925 L 505.66666666666669 60.927152317880925 L 506.0 60.927152317880925 L 506.33333333333331 60.927152317880925 L 506.66666666666663 60.927152317880925 L 507.00000000000006 60.927152317880925 L 507.33333333333331 57.615894039735295 L 507.66666666666669 58.940397350993422 L 508.0 60.927152317880925 L 508.33333333333331 60.927152317880925 L 508.66666666666669 60.927152317880925 L 509.00000000000006 60.927152317880925 L 509.33333333333331 60.927152317880925 L 509.66666666666669 60.927152317880925 L 510.0 60.927152317880925 L 510.33333333333337 60.927152317880925 L 510.66666666666669 60.927152317880925 L 511.0 60.927152317880925 L 511.33333333333331 60.927152317880925 L 511.66666666666663 60.927152317880925 L 512.0 60.927152317880925 L 512.33333333333337 60.927152317880925 L 512.66666666666663 60.927152317880925 L 513.0 60.927152317880925\" style=\"stroke:rgb(40%,76.1%,64.7%);stroke-opacity:1.0;stroke-width:2.0\"></path></g></g></g><g class=\"toyplot-coordinates-Axis\" id=\"t8edc7979ffde4236ada399f94009f994\" transform=\"translate(50.0,150.0)translate(0,10.0)\"><line style=\"\" x1=\"0\" x2=\"463.0\" y1=\"0\" y2=\"0\"></line><g><g transform=\"translate(0.0,6)\"><text style=\"fill:rgb(16.1%,15.3%,14.1%);fill-opacity:1.0;font-family:helvetica;font-size:10.0px;font-weight:normal;stroke:none;vertical-align:baseline;white-space:pre\" x=\"-2.78\" y=\"8.555\">0</text></g><g transform=\"translate(166.66666666666666,6)\"><text style=\"fill:rgb(16.1%,15.3%,14.1%);fill-opacity:1.0;font-family:helvetica;font-size:10.0px;font-weight:normal;stroke:none;vertical-align:baseline;white-space:pre\" x=\"-8.34\" y=\"8.555\">500</text></g><g transform=\"translate(333.3333333333333,6)\"><text style=\"fill:rgb(16.1%,15.3%,14.1%);fill-opacity:1.0;font-family:helvetica;font-size:10.0px;font-weight:normal;stroke:none;vertical-align:baseline;white-space:pre\" x=\"-11.12\" y=\"8.555\">1000</text></g><g transform=\"translate(500.0,6)\"><text style=\"fill:rgb(16.1%,15.3%,14.1%);fill-opacity:1.0;font-family:helvetica;font-size:10.0px;font-weight:normal;stroke:none;vertical-align:baseline;white-space:pre\" x=\"-11.12\" y=\"8.555\">1500</text></g></g><g class=\"toyplot-coordinates-Axis-coordinates\" style=\"visibility:hidden\" transform=\"\"><line style=\"stroke:rgb(43.9%,50.2%,56.5%);stroke-opacity:1.0;stroke-width:1.0\" x1=\"0\" x2=\"0\" y1=\"-3.0\" y2=\"4.5\"></line><text style=\"alignment-baseline:alphabetic;fill:rgb(43.9%,50.2%,56.5%);fill-opacity:1.0;font-size:10px;font-weight:normal;stroke:none;text-anchor:middle\" x=\"0\" y=\"-6\"></text></g></g><g class=\"toyplot-coordinates-Axis\" id=\"t97eb7cd2dbb34f749f534fbb6e92b571\" transform=\"translate(50.0,150.0)rotate(-90.0)translate(0,-10.0)\"><line style=\"\" x1=\"7.947019867549675\" x2=\"100.0\" y1=\"0\" y2=\"0\"></line><g><g transform=\"translate(0.0,-6)\"><text style=\"fill:rgb(16.1%,15.3%,14.1%);fill-opacity:1.0;font-family:helvetica;font-size:10.0px;font-weight:normal;stroke:none;vertical-align:baseline;white-space:pre\" x=\"-6.95\" y=\"-4.4408920985e-16\">3.9</text></g><g transform=\"translate(33.11258278145698,-6)\"><text style=\"fill:rgb(16.1%,15.3%,14.1%);fill-opacity:1.0;font-family:helvetica;font-size:10.0px;font-weight:normal;stroke:none;vertical-align:baseline;white-space:pre\" x=\"-6.95\" y=\"-4.4408920985e-16\">4.0</text></g><g transform=\"translate(66.22516556291382,-6)\"><text style=\"fill:rgb(16.1%,15.3%,14.1%);fill-opacity:1.0;font-family:helvetica;font-size:10.0px;font-weight:normal;stroke:none;vertical-align:baseline;white-space:pre\" x=\"-6.95\" y=\"-4.4408920985e-16\">4.0</text></g><g transform=\"translate(99.33774834437094,-6)\"><text style=\"fill:rgb(16.1%,15.3%,14.1%);fill-opacity:1.0;font-family:helvetica;font-size:10.0px;font-weight:normal;stroke:none;vertical-align:baseline;white-space:pre\" x=\"-6.95\" y=\"-4.4408920985e-16\">4.2</text></g></g><g transform=\"translate(50.0,-22)\"><text style=\"fill:rgb(16.1%,15.3%,14.1%);fill-opacity:1.0;font-family:helvetica;font-size:12.0px;font-weight:bold;stroke:none;vertical-align:baseline;white-space:pre\" x=\"-31.338\" y=\"0.0\">Voltage (V)</text></g><g class=\"toyplot-coordinates-Axis-coordinates\" style=\"visibility:hidden\" transform=\"\"><line style=\"stroke:rgb(43.9%,50.2%,56.5%);stroke-opacity:1.0;stroke-width:1.0\" x1=\"0\" x2=\"0\" y1=\"3.0\" y2=\"-4.5\"></line><text style=\"alignment-baseline:hanging;fill:rgb(43.9%,50.2%,56.5%);fill-opacity:1.0;font-size:10px;font-weight:normal;stroke:none;text-anchor:middle\" x=\"0\" y=\"6\"></text></g></g><g transform=\"translate(300.0,42.0)\"><text style=\"fill:rgb(16.1%,15.3%,14.1%);fill-opacity:1.0;font-family:helvetica;font-size:14.0px;font-weight:bold;stroke:none;vertical-align:baseline;white-space:pre\" x=\"-24.115\" y=\"-4.823\">Battery</text></g></g><g class=\"toyplot-coordinates-Cartesian\" id=\"t9eb48ce139b0491caeb83158000c291b\"><clipPath id=\"t0b97bd70d9a746d39d9dbf66c85ca3c8\"><rect height=\"120.0\" width=\"520.0\" x=\"40.0\" y=\"240.0\"></rect></clipPath><g clip-path=\"url(#t0b97bd70d9a746d39d9dbf66c85ca3c8)\"><g class=\"toyplot-mark-Plot\" id=\"te8ae5c7cbedd4accb1f53c833835cdbd\" style=\"fill:none\"><g class=\"toyplot-Series\"><path d=\"M 50.0 257.0 L 50.333333333333329 258.0 L 50.666666666666671 261.0 L 51.0 260.0 L 51.333333333333336 260.0 L 51.666666666666671 261.0 L 52.0 261.0 L 52.333333333333336 261.0 L 52.666666666666664 260.0 L 53.0 260.0 L 53.333333333333329 260.0 L 53.666666666666664 261.0 L 54.0 261.0 L 54.333333333333329 261.0 L 54.666666666666664 260.0 L 55.0 261.0 L 55.333333333333329 261.0 L 55.666666666666671 261.0 L 56.0 260.0 L 56.333333333333336 261.0 L 56.666666666666671 261.0 L 57.0 260.0 L 57.333333333333329 261.0 L 57.666666666666671 261.0 L 58.0 261.0 L 58.333333333333329 260.0 L 58.666666666666664 260.0 L 59.0 260.0 L 59.333333333333329 260.0 L 59.666666666666664 261.0 L 60.0 260.0 L 60.333333333333336 260.0 L 60.666666666666671 261.0 L 61.0 261.0 L 61.333333333333336 260.0 L 61.666666666666671 261.0 L 62.0 260.0 L 62.333333333333329 260.0 L 62.666666666666671 261.0 L 62.999999999999993 260.0 L 63.333333333333343 260.0 L 63.666666666666664 260.0 L 64.0 260.0 L 64.333333333333343 261.0 L 64.666666666666657 260.0 L 65.0 261.0 L 65.333333333333343 261.0 L 65.666666666666671 261.0 L 66.0 261.0 L 66.333333333333329 261.0 L 66.666666666666671 261.0 L 67.0 261.0 L 67.333333333333329 261.0 L 67.666666666666671 261.0 L 68.0 261.0 L 68.333333333333343 261.0 L 68.666666666666671 261.0 L 69.0 261.0 L 69.333333333333343 261.0 L 69.666666666666657 261.0 L 70.0 260.0 L 70.333333333333329 261.0 L 70.666666666666657 261.0 L 71.0 261.0 L 71.333333333333329 261.0 L 71.666666666666671 261.0 L 72.0 261.0 L 72.333333333333329 260.0 L 72.666666666666671 261.0 L 73.0 260.0 L 73.333333333333343 253.0 L 73.666666666666657 264.0 L 74.0 264.0 L 74.333333333333343 260.0 L 74.666666666666657 261.0 L 75.0 260.0 L 75.333333333333343 261.0 L 75.666666666666657 260.0 L 76.0 260.0 L 76.333333333333343 260.0 L 76.666666666666671 260.0 L 77.0 260.0 L 77.333333333333329 261.0 L 77.666666666666671 261.0 L 78.0 261.0 L 78.333333333333343 261.0 L 78.666666666666671 261.0 L 79.0 261.0 L 79.333333333333343 260.0 L 79.666666666666657 261.0 L 80.0 260.0 L 80.333333333333343 260.0 L 80.666666666666657 261.0 L 81.0 261.0 L 81.333333333333329 261.0 L 81.666666666666671 261.0 L 82.0 261.0 L 82.333333333333329 261.0 L 82.666666666666657 260.0 L 83.0 260.0 L 83.333333333333329 261.0 L 83.666666666666657 260.0 L 84.0 261.0 L 84.333333333333343 261.0 L 84.666666666666657 261.0 L 85.0 261.0 L 85.333333333333343 260.0 L 85.666666666666657 261.0 L 86.0 261.0 L 86.333333333333343 261.0 L 86.666666666666657 261.0 L 87.0 260.0 L 87.333333333333343 261.0 L 87.666666666666671 261.0 L 88.0 260.0 L 88.333333333333329 260.0 L 88.666666666666671 261.0 L 89.0 261.0 L 89.333333333333343 261.0 L 89.666666666666671 261.0 L 90.0 261.0 L 90.333333333333343 261.0 L 90.666666666666657 260.0 L 91.0 261.0 L 91.333333333333343 261.0 L 91.666666666666657 261.0 L 92.0 261.0 L 92.333333333333343 261.0 L 92.666666666666657 261.0 L 93.0 261.0 L 93.333333333333343 261.0 L 93.666666666666657 261.0 L 94.0 269.0 L 94.333333333333329 256.0 L 94.666666666666657 261.0 L 95.0 261.0 L 95.333333333333343 260.0 L 95.666666666666657 261.0 L 96.0 260.0 L 96.333333333333329 260.0 L 96.666666666666657 260.0 L 97.0 260.0 L 97.333333333333329 260.0 L 97.666666666666671 261.0 L 98.0 260.0 L 98.333333333333329 261.0 L 98.666666666666671 261.0 L 99.0 261.0 L 99.333333333333329 260.0 L 99.666666666666671 261.0 L 100.0 260.0 L 100.33333333333334 261.0 L 100.66666666666667 260.0 L 101.0 261.0 L 101.33333333333334 260.0 L 101.66666666666667 260.0 L 102.0 260.0 L 102.33333333333334 261.0 L 102.66666666666667 260.0 L 103.0 261.0 L 103.33333333333334 261.0 L 103.66666666666666 260.0 L 104.0 261.0 L 104.33333333333333 261.0 L 104.66666666666667 261.0 L 105.0 261.0 L 105.33333333333334 261.0 L 105.66666666666667 261.0 L 106.0 261.0 L 106.33333333333334 261.0 L 106.66666666666666 261.0 L 107.0 261.0 L 107.33333333333334 261.0 L 107.66666666666666 261.0 L 108.0 261.0 L 108.33333333333334 261.0 L 108.66666666666666 261.0 L 109.0 261.0 L 109.33333333333333 261.0 L 109.66666666666669 261.0 L 110.0 261.0 L 110.33333333333334 260.0 L 110.66666666666667 261.0 L 111.0 261.0 L 111.33333333333334 261.0 L 111.66666666666666 260.0 L 112.0 261.0 L 112.33333333333333 260.0 L 112.66666666666666 261.0 L 113.0 261.0 L 113.33333333333334 261.0 L 113.66666666666666 261.0 L 114.0 260.0 L 114.33333333333334 261.0 L 114.66666666666666 261.0 L 115.0 261.0 L 115.33333333333331 260.0 L 115.66666666666667 261.0 L 116.0 260.0 L 116.33333333333331 261.0 L 116.66666666666666 260.0 L 117.0 261.0 L 117.33333333333333 261.0 L 117.66666666666667 261.0 L 118.00000000000001 261.0 L 118.33333333333331 260.0 L 118.66666666666666 261.0 L 119.0 260.0 L 119.33333333333333 260.0 L 119.66666666666667 261.0 L 120.00000000000001 261.0 L 120.33333333333331 260.0 L 120.66666666666667 260.0 L 121.0 260.0 L 121.33333333333334 260.0 L 121.66666666666669 261.0 L 121.99999999999999 261.0 L 122.33333333333333 261.0 L 122.66666666666667 261.0 L 123.0 261.0 L 123.33333333333334 261.0 L 123.66666666666669 261.0 L 124.0 261.0 L 124.33333333333333 261.0 L 124.66666666666667 261.0 L 125.0 261.0 L 125.33333333333334 261.0 L 125.66666666666666 261.0 L 126.0 261.0 L 126.33333333333333 260.0 L 126.66666666666666 261.0 L 127.0 261.0 L 127.33333333333334 261.0 L 127.66666666666666 261.0 L 128.0 261.0 L 128.33333333333334 261.0 L 128.66666666666666 261.0 L 129.0 261.0 L 129.33333333333334 260.0 L 129.66666666666666 261.0 L 130.0 251.0 L 130.33333333333334 266.0 L 130.66666666666669 261.0 L 131.0 260.0 L 131.33333333333331 260.0 L 131.66666666666666 260.0 L 132.0 261.0 L 132.33333333333331 260.0 L 132.66666666666669 260.0 L 133.0 261.0 L 133.33333333333331 261.0 L 133.66666666666666 261.0 L 134.0 261.0 L 134.33333333333334 261.0 L 134.66666666666669 260.0 L 135.0 260.0 L 135.33333333333331 260.0 L 135.66666666666666 260.0 L 136.0 260.0 L 136.33333333333334 260.0 L 136.66666666666669 260.0 L 137.0 260.0 L 137.33333333333331 260.0 L 137.66666666666669 260.0 L 138.0 261.0 L 138.33333333333334 260.0 L 138.66666666666666 260.0 L 139.0 261.0 L 139.33333333333334 261.0 L 139.66666666666669 261.0 L 140.0 261.0 L 140.33333333333334 261.0 L 140.66666666666666 260.0 L 141.0 260.0 L 141.33333333333334 260.0 L 141.66666666666666 261.0 L 142.0 261.0 L 142.33333333333334 261.0 L 142.66666666666666 261.0 L 143.0 261.0 L 143.33333333333334 261.0 L 143.66666666666666 259.0 L 144.0 261.0 L 144.33333333333334 261.0 L 144.66666666666666 261.0 L 145.0 261.0 L 145.33333333333334 261.0 L 145.66666666666666 261.0 L 146.0 261.0 L 146.33333333333334 260.0 L 146.66666666666666 261.0 L 147.0 260.0 L 147.33333333333331 261.0 L 147.66666666666669 260.0 L 148.0 260.0 L 148.33333333333331 260.0 L 148.66666666666666 261.0 L 149.0 260.0 L 149.33333333333334 260.0 L 149.66666666666669 260.0 L 150.0 260.0 L 150.33333333333331 261.0 L 150.66666666666666 260.0 L 151.0 260.0 L 151.33333333333334 261.0 L 151.66666666666669 261.0 L 152.0 261.0 L 152.33333333333331 261.0 L 152.66666666666669 260.0 L 153.0 261.0 L 153.33333333333334 260.0 L 153.66666666666666 261.0 L 154.0 261.0 L 154.33333333333334 260.0 L 154.66666666666669 260.0 L 155.0 260.0 L 155.33333333333334 260.0 L 155.66666666666666 260.0 L 156.0 261.0 L 156.33333333333334 261.0 L 156.66666666666669 261.0 L 157.0 260.0 L 157.33333333333331 261.0 L 157.66666666666666 261.0 L 158.0 261.0 L 158.33333333333334 261.0 L 158.66666666666666 261.0 L 159.0 261.0 L 159.33333333333331 261.0 L 159.66666666666666 261.0 L 160.0 261.0 L 160.33333333333334 261.0 L 160.66666666666666 261.0 L 161.0 260.0 L 161.33333333333334 260.0 L 161.66666666666666 261.0 L 162.0 261.0 L 162.33333333333331 261.0 L 162.66666666666669 260.0 L 163.0 261.0 L 163.33333333333331 260.0 L 163.66666666666666 260.0 L 164.0 260.0 L 164.33333333333331 260.0 L 164.66666666666669 260.0 L 165.0 260.0 L 165.33333333333331 260.0 L 165.66666666666666 261.0 L 166.0 261.0 L 166.33333333333334 261.0 L 166.66666666666669 260.0 L 167.0 260.0 L 167.33333333333331 261.0 L 167.66666666666666 261.0 L 168.0 261.0 L 168.33333333333331 261.0 L 168.66666666666666 260.0 L 169.0 261.0 L 169.33333333333334 260.0 L 169.66666666666666 261.0 L 170.0 261.0 L 170.33333333333334 261.0 L 170.66666666666669 261.0 L 171.0 261.0 L 171.33333333333334 261.0 L 171.66666666666669 261.0 L 172.0 261.0 L 172.33333333333331 261.0 L 172.66666666666669 260.0 L 173.0 261.0 L 173.33333333333331 261.0 L 173.66666666666666 261.0 L 174.0 261.0 L 174.33333333333334 261.0 L 174.66666666666666 260.0 L 175.0 260.0 L 175.33333333333331 261.0 L 175.66666666666669 260.0 L 176.0 261.0 L 176.33333333333334 261.0 L 176.66666666666669 260.0 L 177.0 260.0 L 177.33333333333334 261.0 L 177.66666666666666 261.0 L 178.0 261.0 L 178.33333333333331 261.0 L 178.66666666666669 260.0 L 179.0 261.0 L 179.33333333333331 261.0 L 179.66666666666669 260.0 L 180.0 261.0 L 180.33333333333334 260.0 L 180.66666666666666 260.0 L 181.0 261.0 L 181.33333333333334 260.0 L 181.66666666666666 261.0 L 182.0 261.0 L 182.33333333333334 261.0 L 182.66666666666663 261.0 L 183.0 260.0 L 183.33333333333331 261.0 L 183.66666666666666 260.0 L 184.0 261.0 L 184.33333333333331 260.0 L 184.66666666666666 261.0 L 185.0 261.0 L 185.33333333333334 261.0 L 185.66666666666666 261.0 L 186.00000000000003 261.0 L 186.33333333333334 261.0 L 186.66666666666666 261.0 L 187.0 261.0 L 187.33333333333331 261.0 L 187.66666666666669 260.0 L 188.0 261.0 L 188.33333333333331 261.0 L 188.66666666666666 261.0 L 189.0 260.0 L 189.33333333333334 260.0 L 189.66666666666666 261.0 L 190.00000000000003 261.0 L 190.33333333333334 260.0 L 190.66666666666666 260.0 L 191.0 260.0 L 191.33333333333334 261.0 L 191.66666666666669 260.0 L 192.0 261.0 L 192.33333333333331 260.0 L 192.66666666666669 260.0 L 192.99999999999997 261.0 L 193.33333333333337 261.0 L 193.66666666666666 261.0 L 193.99999999999997 260.0 L 194.33333333333334 261.0 L 194.66666666666666 261.0 L 195.0 261.0 L 195.33333333333334 261.0 L 195.66666666666666 261.0 L 196.0 261.0 L 196.33333333333334 261.0 L 196.66666666666669 261.0 L 197.0 261.0 L 197.33333333333337 261.0 L 197.66666666666669 261.0 L 197.99999999999997 261.0 L 198.33333333333337 260.0 L 198.66666666666666 260.0 L 199.0 260.0 L 199.33333333333334 261.0 L 199.66666666666666 261.0 L 200.0 260.0 L 200.33333333333334 260.0 L 200.66666666666669 261.0 L 201.0 261.0 L 201.33333333333331 261.0 L 201.66666666666669 260.0 L 202.0 261.0 L 202.33333333333331 261.0 L 202.66666666666669 260.0 L 202.99999999999997 261.0 L 203.33333333333331 261.0 L 203.66666666666666 261.0 L 204.0 261.0 L 204.33333333333331 260.0 L 204.66666666666669 260.0 L 205.0 261.0 L 205.33333333333331 260.0 L 205.66666666666669 261.0 L 206.0 261.0 L 206.33333333333334 261.0 L 206.66666666666669 261.0 L 207.0 260.0 L 207.33333333333331 261.0 L 207.66666666666669 261.0 L 208.0 261.0 L 208.33333333333331 261.0 L 208.66666666666669 261.0 L 209.0 261.0 L 209.33333333333331 261.0 L 209.66666666666669 261.0 L 210.0 261.0 L 210.33333333333334 260.0 L 210.66666666666669 261.0 L 211.0 261.0 L 211.33333333333334 260.0 L 211.66666666666666 260.0 L 212.0 261.0 L 212.33333333333331 260.0 L 212.66666666666663 261.0 L 213.0 261.0 L 213.33333333333331 260.0 L 213.66666666666669 261.0 L 214.0 261.0 L 214.33333333333331 261.0 L 214.66666666666666 260.0 L 215.0 260.0 L 215.33333333333334 261.0 L 215.66666666666666 261.0 L 216.00000000000003 260.0 L 216.33333333333334 261.0 L 216.66666666666666 260.0 L 217.0 260.0 L 217.33333333333331 260.0 L 217.66666666666669 261.0 L 218.0 261.0 L 218.33333333333331 261.0 L 218.66666666666669 260.0 L 219.0 261.0 L 219.33333333333334 261.0 L 219.66666666666666 261.0 L 220.0 261.0 L 220.33333333333334 261.0 L 220.66666666666666 261.0 L 221.00000000000003 261.0 L 221.33333333333334 261.0 L 221.66666666666666 260.0 L 222.0 260.0 L 222.33333333333331 261.0 L 222.66666666666669 261.0 L 223.0 261.0 L 223.33333333333334 260.0 L 223.66666666666669 260.0 L 223.99999999999997 261.0 L 224.33333333333334 261.0 L 224.66666666666666 261.0 L 225.0 261.0 L 225.33333333333334 261.0 L 225.66666666666666 261.0 L 226.0 261.0 L 226.33333333333334 261.0 L 226.66666666666669 260.0 L 227.0 260.0 L 227.33333333333331 261.0 L 227.66666666666669 260.0 L 228.0 261.0 L 228.33333333333334 261.0 L 228.66666666666666 260.0 L 229.0 261.0 L 229.33333333333334 260.0 L 229.66666666666666 261.0 L 230.0 261.0 L 230.33333333333334 261.0 L 230.66666666666669 261.0 L 231.0 261.0 L 231.33333333333334 261.0 L 231.66666666666669 261.0 L 232.0 261.0 L 232.33333333333331 252.0 L 232.66666666666669 251.0 L 232.99999999999997 261.0 L 233.33333333333331 261.0 L 233.66666666666666 261.0 L 234.0 261.0 L 234.33333333333331 260.0 L 234.66666666666669 261.0 L 235.0 260.0 L 235.33333333333331 260.0 L 235.66666666666669 260.0 L 236.0 260.0 L 236.33333333333334 260.0 L 236.66666666666669 260.0 L 237.0 261.0 L 237.33333333333331 261.0 L 237.66666666666669 261.0 L 238.0 260.0 L 238.33333333333331 261.0 L 238.66666666666666 261.0 L 239.0 261.0 L 239.33333333333331 260.0 L 239.66666666666669 261.0 L 240.0 261.0 L 240.33333333333331 261.0 L 240.66666666666669 261.0 L 241.0 261.0 L 241.33333333333334 261.0 L 241.66666666666669 260.0 L 242.00000000000003 261.0 L 242.33333333333331 260.0 L 242.66666666666669 260.0 L 243.0 261.0 L 243.33333333333331 260.0 L 243.66666666666666 260.0 L 244.0 260.0 L 244.33333333333331 261.0 L 244.66666666666666 261.0 L 245.0 261.0 L 245.33333333333334 260.0 L 245.66666666666666 261.0 L 246.0 260.0 L 246.33333333333334 261.0 L 246.66666666666666 261.0 L 247.00000000000003 261.0 L 247.33333333333331 261.0 L 247.66666666666669 261.0 L 248.0 260.0 L 248.33333333333331 261.0 L 248.66666666666666 261.0 L 249.0 261.0 L 249.33333333333334 261.0 L 249.66666666666666 260.0 L 250.0 261.0 L 250.33333333333334 261.0 L 250.66666666666666 261.0 L 251.00000000000003 261.0 L 251.33333333333334 261.0 L 251.66666666666666 260.0 L 252.0 261.0 L 252.33333333333331 261.0 L 252.66666666666669 261.0 L 253.0 261.0 L 253.33333333333334 260.0 L 253.66666666666666 260.0 L 253.99999999999997 261.0 L 254.33333333333334 260.0 L 254.66666666666666 261.0 L 255.0 261.0 L 255.33333333333334 260.0 L 255.66666666666666 261.0 L 256.0 261.0 L 256.33333333333331 260.0 L 256.66666666666669 260.0 L 257.0 261.0 L 257.33333333333331 260.0 L 257.66666666666669 261.0 L 258.0 260.0 L 258.33333333333337 261.0 L 258.66666666666669 261.0 L 259.0 261.0 L 259.33333333333337 261.0 L 259.66666666666663 260.0 L 260.0 260.0 L 260.33333333333331 261.0 L 260.66666666666669 261.0 L 261.0 261.0 L 261.33333333333331 261.0 L 261.66666666666669 261.0 L 262.0 261.0 L 262.33333333333337 261.0 L 262.66666666666669 261.0 L 263.0 261.0 L 263.33333333333337 261.0 L 263.66666666666669 260.0 L 264.0 260.0 L 264.33333333333331 260.0 L 264.66666666666663 260.0 L 265.0 261.0 L 265.33333333333331 261.0 L 265.66666666666669 260.0 L 266.0 260.0 L 266.33333333333331 261.0 L 266.66666666666669 260.0 L 267.0 261.0 L 267.33333333333331 260.0 L 267.66666666666669 260.0 L 268.0 261.0 L 268.33333333333331 260.0 L 268.66666666666669 260.0 L 269.0 261.0 L 269.33333333333331 260.0 L 269.66666666666669 261.0 L 270.0 260.0 L 270.33333333333331 261.0 L 270.66666666666669 261.0 L 271.0 260.0 L 271.33333333333331 261.0 L 271.66666666666669 261.0 L 272.0 261.0 L 272.33333333333331 261.0 L 272.66666666666669 261.0 L 273.0 260.0 L 273.33333333333331 261.0 L 273.66666666666669 261.0 L 274.0 261.0 L 274.33333333333331 261.0 L 274.66666666666663 261.0 L 275.0 261.0 L 275.33333333333337 261.0 L 275.66666666666663 261.0 L 276.0 261.0 L 276.33333333333331 261.0 L 276.66666666666663 261.0 L 277.0 261.0 L 277.33333333333331 260.0 L 277.66666666666663 260.0 L 278.0 261.0 L 278.33333333333331 260.0 L 278.66666666666669 261.0 L 279.0 260.0 L 279.33333333333337 261.0 L 279.66666666666663 261.0 L 280.0 261.0 L 280.33333333333331 261.0 L 280.66666666666663 260.0 L 281.0 261.0 L 281.33333333333331 260.0 L 281.66666666666663 260.0 L 282.0 261.0 L 282.33333333333331 261.0 L 282.66666666666669 261.0 L 283.0 261.0 L 283.33333333333337 260.0 L 283.66666666666663 261.0 L 284.00000000000006 260.0 L 284.33333333333331 260.0 L 284.66666666666663 261.0 L 285.0 260.0 L 285.33333333333331 261.0 L 285.66666666666669 260.0 L 285.99999999999994 260.0 L 286.33333333333337 261.0 L 286.66666666666663 261.0 L 287.0 260.0 L 287.33333333333331 261.0 L 287.66666666666669 261.0 L 288.0 261.0 L 288.33333333333337 261.0 L 288.66666666666669 261.0 L 289.0 261.0 L 289.33333333333331 261.0 L 289.66666666666663 261.0 L 290.0 261.0 L 290.33333333333331 261.0 L 290.66666666666669 261.0 L 290.99999999999994 261.0 L 291.33333333333337 260.0 L 291.66666666666663 260.0 L 292.0 260.0 L 292.33333333333331 260.0 L 292.66666666666669 261.0 L 293.0 260.0 L 293.33333333333337 260.0 L 293.66666666666669 260.0 L 294.0 260.0 L 294.33333333333337 260.0 L 294.66666666666663 260.0 L 295.0 261.0 L 295.33333333333337 261.0 L 295.66666666666669 260.0 L 296.0 261.0 L 296.33333333333331 261.0 L 296.66666666666663 261.0 L 297.0 261.0 L 297.33333333333331 261.0 L 297.66666666666669 261.0 L 298.0 261.0 L 298.33333333333331 261.0 L 298.66666666666669 260.0 L 299.0 260.0 L 299.33333333333331 261.0 L 299.66666666666663 261.0 L 300.0 261.0 L 300.33333333333331 261.0 L 300.66666666666663 261.0 L 301.0 261.0 L 301.33333333333337 261.0 L 301.66666666666663 261.0 L 302.0 261.0 L 302.33333333333331 261.0 L 302.66666666666669 261.0 L 303.0 261.0 L 303.33333333333337 260.0 L 303.66666666666663 260.0 L 304.0 260.0 L 304.33333333333337 260.0 L 304.66666666666669 260.0 L 305.0 261.0 L 305.33333333333331 260.0 L 305.66666666666663 260.0 L 306.0 260.0 L 306.33333333333337 260.0 L 306.66666666666663 260.0 L 307.0 260.0 L 307.33333333333337 261.0 L 307.66666666666669 260.0 L 308.0 260.0 L 308.33333333333337 261.0 L 308.66666666666663 261.0 L 309.00000000000006 261.0 L 309.33333333333337 261.0 L 309.66666666666669 261.0 L 310.0 261.0 L 310.33333333333331 261.0 L 310.66666666666669 261.0 L 311.0 261.0 L 311.33333333333331 261.0 L 311.66666666666663 260.0 L 312.0 260.0 L 312.33333333333331 261.0 L 312.66666666666669 260.0 L 313.0 260.0 L 313.33333333333331 260.0 L 313.66666666666663 261.0 L 314.00000000000006 260.0 L 314.33333333333331 260.0 L 314.66666666666669 260.0 L 315.0 261.0 L 315.33333333333326 260.0 L 315.66666666666669 261.0 L 316.0 261.0 L 316.33333333333331 261.0 L 316.66666666666663 260.0 L 317.0 261.0 L 317.33333333333331 261.0 L 317.66666666666669 261.0 L 318.0 261.0 L 318.33333333333331 261.0 L 318.66666666666663 255.0 L 319.00000000000006 259.0 L 319.33333333333331 259.0 L 319.66666666666669 259.0 L 320.0 257.0 L 320.33333333333337 255.0 L 320.66666666666669 255.0 L 321.0 256.0 L 321.33333333333331 256.0 L 321.66666666666663 257.0 L 322.00000000000006 257.0 L 322.33333333333331 258.0 L 322.66666666666669 258.0 L 323.0 259.0 L 323.33333333333331 259.0 L 323.66666666666669 260.0 L 324.00000000000006 260.0 L 324.33333333333331 261.0 L 324.66666666666663 261.0 L 325.0 262.0 L 325.33333333333337 262.0 L 325.66666666666669 263.0 L 326.0 263.0 L 326.33333333333331 264.0 L 326.66666666666663 265.0 L 327.00000000000006 265.0 L 327.33333333333331 265.0 L 327.66666666666669 267.0 L 328.0 268.0 L 328.33333333333331 270.0 L 328.66666666666669 269.0 L 329.00000000000006 269.0 L 329.33333333333331 270.0 L 329.66666666666663 269.0 L 330.00000000000006 271.0 L 330.33333333333337 269.0 L 330.66666666666669 272.0 L 331.0 274.0 L 331.33333333333331 274.0 L 331.66666666666669 276.0 L 332.0 277.0 L 332.33333333333331 281.0 L 332.66666666666669 278.0 L 332.99999999999994 281.0 L 333.33333333333337 280.0 L 333.66666666666669 283.0 L 334.0 283.0 L 334.33333333333331 279.0 L 334.66666666666663 282.0 L 335.0 284.0 L 335.33333333333337 284.0 L 335.66666666666669 284.0 L 335.99999999999994 285.0 L 336.33333333333331 285.0 L 336.66666666666669 285.0 L 337.0 286.0 L 337.33333333333331 286.0 L 337.66666666666669 287.0 L 337.99999999999994 287.0 L 338.33333333333337 288.0 L 338.66666666666669 287.0 L 339.0 288.0 L 339.33333333333331 288.0 L 339.66666666666663 289.0 L 340.0 289.0 L 340.33333333333337 289.0 L 340.66666666666669 289.0 L 340.99999999999994 291.0 L 341.33333333333331 290.0 L 341.66666666666669 290.0 L 342.0 291.0 L 342.33333333333331 292.0 L 342.66666666666669 293.0 L 342.99999999999994 292.0 L 343.33333333333337 293.0 L 343.66666666666669 295.0 L 344.0 293.0 L 344.33333333333331 295.0 L 344.66666666666674 297.0 L 345.0 295.0 L 345.33333333333331 296.0 L 345.66666666666669 297.0 L 345.99999999999994 297.0 L 346.33333333333337 297.0 L 346.66666666666669 300.0 L 347.0 300.0 L 347.33333333333331 300.0 L 347.66666666666669 301.0 L 348.0 296.0 L 348.33333333333337 304.0 L 348.66666666666669 303.0 L 349.0 305.0 L 349.33333333333331 302.0 L 349.66666666666674 305.0 L 350.0 304.0 L 350.33333333333331 303.0 L 350.66666666666669 304.0 L 350.99999999999994 303.0 L 351.33333333333337 306.0 L 351.66666666666669 305.0 L 352.0 304.0 L 352.33333333333331 306.0 L 352.66666666666663 307.0 L 353.0 306.0 L 353.33333333333337 307.0 L 353.66666666666663 306.0 L 354.0 307.0 L 354.33333333333331 301.0 L 354.66666666666669 308.0 L 355.0 308.0 L 355.33333333333331 299.0 L 355.66666666666663 309.0 L 355.99999999999994 309.0 L 356.33333333333337 308.0 L 356.66666666666663 309.0 L 357.0 309.0 L 357.33333333333331 309.0 L 357.66666666666663 309.0 L 358.0 309.0 L 358.33333333333337 310.0 L 358.66666666666663 310.0 L 359.0 310.0 L 359.33333333333337 310.0 L 359.66666666666669 310.0 L 360.0 310.0 L 360.33333333333331 311.0 L 360.66666666666663 311.0 L 361.0 311.0 L 361.33333333333337 311.0 L 361.66666666666663 311.0 L 362.0 311.0 L 362.33333333333331 311.0 L 362.66666666666669 311.0 L 363.0 311.0 L 363.33333333333337 311.0 L 363.66666666666663 312.0 L 364.0 312.0 L 364.33333333333337 312.0 L 364.66666666666669 312.0 L 365.0 312.0 L 365.33333333333331 312.0 L 365.66666666666663 312.0 L 366.0 312.0 L 366.33333333333337 312.0 L 366.66666666666663 313.0 L 367.0 313.0 L 367.33333333333337 313.0 L 367.66666666666669 313.0 L 368.0 314.0 L 368.33333333333337 313.0 L 368.66666666666663 314.0 L 369.00000000000006 313.0 L 369.33333333333337 314.0 L 369.66666666666669 314.0 L 370.0 313.0 L 370.33333333333331 315.0 L 370.66666666666669 314.0 L 371.0 315.0 L 371.33333333333337 314.0 L 371.66666666666663 315.0 L 372.0 315.0 L 372.33333333333337 314.0 L 372.66666666666669 315.0 L 373.0 315.0 L 373.33333333333331 319.0 L 373.66666666666663 317.0 L 374.00000000000006 314.0 L 374.33333333333331 315.0 L 374.66666666666669 316.0 L 375.0 314.0 L 375.33333333333326 315.0 L 375.66666666666669 315.0 L 376.0 316.0 L 376.33333333333331 315.0 L 376.66666666666663 315.0 L 377.0 317.0 L 377.33333333333331 315.0 L 377.66666666666669 317.0 L 378.0 315.0 L 378.33333333333331 318.0 L 378.66666666666663 315.0 L 379.00000000000006 316.0 L 379.33333333333331 316.0 L 379.66666666666669 315.0 L 380.0 316.0 L 380.33333333333326 318.0 L 380.66666666666669 319.0 L 381.0 316.0 L 381.33333333333331 317.0 L 381.66666666666663 316.0 L 382.00000000000006 316.0 L 382.33333333333331 320.0 L 382.66666666666669 318.0 L 383.0 322.0 L 383.33333333333331 316.0 L 383.66666666666669 320.0 L 384.00000000000006 316.0 L 384.33333333333331 316.0 L 384.66666666666663 321.0 L 385.0 320.0 L 385.33333333333337 324.0 L 385.66666666666669 316.0 L 386.0 323.0 L 386.33333333333331 322.0 L 386.66666666666663 316.0 L 387.00000000000006 324.0 L 387.33333333333331 324.0 L 387.66666666666669 324.0 L 388.0 320.0 L 388.33333333333331 319.0 L 388.66666666666669 316.0 L 389.00000000000006 316.0 L 389.33333333333331 321.0 L 389.66666666666663 324.0 L 390.0 324.0 L 390.33333333333337 323.0 L 390.66666666666669 322.0 L 391.0 323.0 L 391.33333333333331 319.0 L 391.66666666666663 317.0 L 392.00000000000006 325.0 L 392.33333333333331 322.0 L 392.66666666666669 323.0 L 393.0 325.0 L 393.33333333333331 324.0 L 393.66666666666669 322.0 L 394.0 323.0 L 394.33333333333331 316.0 L 394.66666666666663 320.0 L 394.99999999999994 325.0 L 395.33333333333331 318.0 L 395.66666666666669 324.0 L 395.99999999999994 325.0 L 396.33333333333331 325.0 L 396.66666666666669 325.0 L 397.0 325.0 L 397.33333333333331 325.0 L 397.66666666666669 318.0 L 397.99999999999994 325.0 L 398.33333333333337 325.0 L 398.66666666666669 325.0 L 399.0 322.0 L 399.33333333333331 325.0 L 399.66666666666663 324.0 L 400.0 326.0 L 400.33333333333331 324.0 L 400.66666666666669 324.0 L 400.99999999999994 323.0 L 401.33333333333331 326.0 L 401.66666666666669 325.0 L 402.0 319.0 L 402.33333333333331 326.0 L 402.66666666666669 326.0 L 402.99999999999994 326.0 L 403.33333333333337 326.0 L 403.66666666666669 326.0 L 404.0 326.0 L 404.33333333333331 323.0 L 404.66666666666663 326.0 L 405.0 326.0 L 405.33333333333331 326.0 L 405.66666666666669 326.0 L 405.99999999999994 326.0 L 406.33333333333337 321.0 L 406.66666666666669 326.0 L 407.0 325.0 L 407.33333333333331 324.0 L 407.66666666666669 325.0 L 408.0 325.0 L 408.33333333333337 325.0 L 408.66666666666669 321.0 L 409.0 326.0 L 409.33333333333331 326.0 L 409.66666666666674 324.0 L 410.0 327.0 L 410.33333333333331 327.0 L 410.66666666666669 326.0 L 410.99999999999994 326.0 L 411.33333333333337 327.0 L 411.66666666666669 322.0 L 412.0 327.0 L 412.33333333333331 326.0 L 412.66666666666669 327.0 L 413.0 326.0 L 413.33333333333337 327.0 L 413.66666666666669 324.0 L 414.0 327.0 L 414.33333333333331 327.0 L 414.66666666666669 327.0 L 415.0 327.0 L 415.33333333333331 327.0 L 415.66666666666663 327.0 L 415.99999999999994 327.0 L 416.33333333333337 327.0 L 416.66666666666663 327.0 L 417.0 327.0 L 417.33333333333331 327.0 L 417.66666666666663 327.0 L 418.0 326.0 L 418.33333333333337 328.0 L 418.66666666666663 319.0 L 419.0 327.0 L 419.33333333333337 328.0 L 419.66666666666669 327.0 L 420.0 327.0 L 420.33333333333331 328.0 L 420.66666666666663 327.0 L 421.0 328.0 L 421.33333333333337 328.0 L 421.66666666666663 327.0 L 422.0 327.0 L 422.33333333333331 328.0 L 422.66666666666669 328.0 L 423.0 327.0 L 423.33333333333337 328.0 L 423.66666666666663 328.0 L 424.0 329.0 L 424.33333333333337 329.0 L 424.66666666666669 329.0 L 425.0 328.0 L 425.33333333333331 329.0 L 425.66666666666663 328.0 L 426.0 329.0 L 426.33333333333337 329.0 L 426.66666666666663 329.0 L 427.0 329.0 L 427.33333333333331 329.0 L 427.66666666666669 329.0 L 428.0 329.0 L 428.33333333333337 329.0 L 428.66666666666663 329.0 L 429.0 329.0 L 429.33333333333337 329.0 L 429.66666666666669 329.0 L 430.0 329.0 L 430.33333333333331 329.0 L 430.66666666666663 329.0 L 431.0 329.0 L 431.33333333333337 329.0 L 431.66666666666663 330.0 L 432.0 330.0 L 432.33333333333337 329.0 L 432.66666666666669 330.0 L 433.0 330.0 L 433.33333333333337 330.0 L 433.66666666666663 330.0 L 434.00000000000006 330.0 L 434.33333333333337 330.0 L 434.66666666666669 330.0 L 435.0 330.0 L 435.33333333333331 330.0 L 435.66666666666669 330.0 L 436.0 330.0 L 436.33333333333331 331.0 L 436.66666666666663 330.0 L 437.0 330.0 L 437.33333333333331 330.0 L 437.66666666666669 331.0 L 438.0 330.0 L 438.33333333333331 330.0 L 438.66666666666663 330.0 L 439.00000000000006 330.0 L 439.33333333333331 330.0 L 439.66666666666669 330.0 L 440.0 331.0 L 440.33333333333326 330.0 L 440.66666666666669 330.0 L 441.0 331.0 L 441.33333333333331 331.0 L 441.66666666666663 331.0 L 442.0 331.0 L 442.33333333333331 331.0 L 442.66666666666669 331.0 L 443.0 332.0 L 443.33333333333331 331.0 L 443.66666666666663 331.0 L 444.00000000000006 331.0 L 444.33333333333331 331.0 L 444.66666666666669 331.0 L 445.0 332.0 L 445.33333333333337 333.0 L 445.66666666666669 331.0 L 446.0 331.0 L 446.33333333333331 331.0 L 446.66666666666663 331.0 L 447.00000000000006 331.0 L 447.33333333333331 331.0 L 447.66666666666669 331.0 L 448.0 332.0 L 448.33333333333331 331.0 L 448.66666666666669 332.0 L 449.00000000000006 333.0 L 449.33333333333331 333.0 L 449.66666666666669 332.0 L 450.0 332.0 L 450.33333333333337 333.0 L 450.66666666666669 333.0 L 451.0 332.0 L 451.33333333333331 332.0 L 451.66666666666663 332.0 L 452.00000000000006 332.0 L 452.33333333333331 332.0 L 452.66666666666669 332.0 L 453.0 332.0 L 453.33333333333331 333.0 L 453.66666666666669 332.0 L 454.00000000000006 333.0 L 454.33333333333331 333.0 L 454.66666666666669 332.0 L 455.00000000000006 333.0 L 455.33333333333337 333.0 L 455.66666666666669 333.0 L 456.0 333.0 L 456.33333333333331 332.0 L 456.66666666666669 333.0 L 457.0 334.0 L 457.33333333333331 333.0 L 457.66666666666669 334.0 L 457.99999999999994 334.0 L 458.33333333333337 333.0 L 458.66666666666669 333.0 L 459.0 333.0 L 459.33333333333331 333.0 L 459.66666666666663 333.0 L 460.0 333.0 L 460.33333333333331 333.0 L 460.66666666666669 334.0 L 460.99999999999994 335.0 L 461.33333333333331 335.0 L 461.66666666666669 335.0 L 462.0 333.0 L 462.33333333333331 333.0 L 462.66666666666669 334.0 L 462.99999999999994 335.0 L 463.33333333333337 334.0 L 463.66666666666669 334.0 L 464.0 333.0 L 464.33333333333331 334.0 L 464.66666666666663 334.0 L 465.0 334.0 L 465.33333333333331 334.0 L 465.66666666666669 334.0 L 465.99999999999994 334.0 L 466.33333333333331 336.0 L 466.66666666666669 334.0 L 467.0 335.0 L 467.33333333333331 336.0 L 467.66666666666669 335.0 L 467.99999999999994 335.0 L 468.33333333333337 334.0 L 468.66666666666669 334.0 L 469.0 335.0 L 469.33333333333331 334.0 L 469.66666666666674 334.0 L 470.0 334.0 L 470.33333333333331 334.0 L 470.66666666666669 334.0 L 470.99999999999994 334.0 L 471.33333333333337 334.0 L 471.66666666666669 334.0 L 472.0 335.0 L 472.33333333333331 334.0 L 472.66666666666669 336.0 L 473.0 335.0 L 473.33333333333337 336.0 L 473.66666666666669 335.0 L 474.0 341.0 L 474.33333333333331 335.0 L 474.66666666666669 337.0 L 475.0 338.0 L 475.33333333333331 335.0 L 475.66666666666669 338.0 L 475.99999999999994 335.0 L 476.33333333333337 336.0 L 476.66666666666669 336.0 L 477.0 337.0 L 477.33333333333331 336.0 L 477.66666666666663 337.0 L 478.0 340.0 L 478.33333333333337 339.0 L 478.66666666666663 338.0 L 479.0 350.0 L 479.33333333333331 350.0 L 479.66666666666669 350.0 L 480.0 350.0 L 480.33333333333331 350.0 L 480.66666666666663 350.0 L 480.99999999999994 350.0 L 481.33333333333337 350.0 L 481.66666666666663 350.0 L 482.0 350.0 L 482.33333333333331 350.0 L 482.66666666666663 350.0 L 483.0 350.0 L 483.33333333333337 350.0 L 483.66666666666663 350.0 L 484.0 350.0 L 484.33333333333337 350.0 L 484.66666666666669 350.0 L 485.0 350.0 L 485.33333333333331 350.0 L 485.66666666666663 350.0 L 486.0 350.0 L 486.33333333333337 350.0 L 486.66666666666663 350.0 L 487.0 350.0 L 487.33333333333331 350.0 L 487.66666666666669 350.0 L 488.0 350.0 L 488.33333333333337 350.0 L 488.66666666666663 350.0 L 489.0 350.0 L 489.33333333333337 350.0 L 489.66666666666669 350.0 L 490.0 350.0 L 490.33333333333331 350.0 L 490.66666666666663 350.0 L 491.0 350.0 L 491.33333333333337 350.0 L 491.66666666666663 350.0 L 492.0 350.0 L 492.33333333333337 350.0 L 492.66666666666669 350.0 L 493.0 350.0 L 493.33333333333337 350.0 L 493.66666666666663 350.0 L 494.00000000000006 350.0 L 494.33333333333337 350.0 L 494.66666666666669 350.0 L 495.0 350.0 L 495.33333333333331 350.0 L 495.66666666666669 350.0 L 496.0 350.0 L 496.33333333333337 350.0 L 496.66666666666663 350.0 L 497.0 350.0 L 497.33333333333337 350.0 L 497.66666666666669 350.0 L 498.0 350.0 L 498.33333333333331 350.0 L 498.66666666666663 350.0 L 499.00000000000006 350.0 L 499.33333333333331 350.0 L 499.66666666666669 350.0 L 500.0 350.0 L 500.33333333333331 350.0 L 500.66666666666669 350.0 L 501.0 350.0 L 501.33333333333331 350.0 L 501.66666666666663 350.0 L 502.0 350.0 L 502.33333333333331 350.0 L 502.66666666666669 350.0 L 503.0 350.0 L 503.33333333333331 350.0 L 503.66666666666663 350.0 L 504.00000000000006 350.0 L 504.33333333333331 350.0 L 504.66666666666669 350.0 L 505.0 350.0 L 505.33333333333326 350.0 L 505.66666666666669 350.0 L 506.0 350.0 L 506.33333333333331 350.0 L 506.66666666666663 350.0 L 507.00000000000006 350.0 L 507.33333333333331 350.0 L 507.66666666666669 350.0 L 508.0 350.0 L 508.33333333333331 350.0 L 508.66666666666669 350.0 L 509.00000000000006 350.0 L 509.33333333333331 350.0 L 509.66666666666669 350.0 L 510.0 350.0 L 510.33333333333337 350.0 L 510.66666666666669 350.0 L 511.0 350.0 L 511.33333333333331 350.0 L 511.66666666666663 350.0 L 512.0 350.0 L 512.33333333333337 350.0 L 512.66666666666663 350.0 L 513.0 350.0\" style=\"stroke:rgb(40%,76.1%,64.7%);stroke-opacity:1.0;stroke-width:2.0\"></path></g></g></g><g class=\"toyplot-coordinates-Axis\" id=\"t4b84d38e5fb44e24b8186aa2ce2de80e\" transform=\"translate(50.0,350.0)translate(0,10.0)\"><line style=\"\" x1=\"0\" x2=\"463.0\" y1=\"0\" y2=\"0\"></line><g><g transform=\"translate(0.0,6)\"><text style=\"fill:rgb(16.1%,15.3%,14.1%);fill-opacity:1.0;font-family:helvetica;font-size:10.0px;font-weight:normal;stroke:none;vertical-align:baseline;white-space:pre\" x=\"-2.78\" y=\"8.555\">0</text></g><g transform=\"translate(166.66666666666666,6)\"><text style=\"fill:rgb(16.1%,15.3%,14.1%);fill-opacity:1.0;font-family:helvetica;font-size:10.0px;font-weight:normal;stroke:none;vertical-align:baseline;white-space:pre\" x=\"-8.34\" y=\"8.555\">500</text></g><g transform=\"translate(333.3333333333333,6)\"><text style=\"fill:rgb(16.1%,15.3%,14.1%);fill-opacity:1.0;font-family:helvetica;font-size:10.0px;font-weight:normal;stroke:none;vertical-align:baseline;white-space:pre\" x=\"-11.12\" y=\"8.555\">1000</text></g><g transform=\"translate(500.0,6)\"><text style=\"fill:rgb(16.1%,15.3%,14.1%);fill-opacity:1.0;font-family:helvetica;font-size:10.0px;font-weight:normal;stroke:none;vertical-align:baseline;white-space:pre\" x=\"-11.12\" y=\"8.555\">1500</text></g></g><g class=\"toyplot-coordinates-Axis-coordinates\" style=\"visibility:hidden\" transform=\"\"><line style=\"stroke:rgb(43.9%,50.2%,56.5%);stroke-opacity:1.0;stroke-width:1.0\" x1=\"0\" x2=\"0\" y1=\"-3.0\" y2=\"4.5\"></line><text style=\"alignment-baseline:alphabetic;fill:rgb(43.9%,50.2%,56.5%);fill-opacity:1.0;font-size:10px;font-weight:normal;stroke:none;text-anchor:middle\" x=\"0\" y=\"-6\"></text></g></g><g class=\"toyplot-coordinates-Axis\" id=\"t4e5ec5c4ccda4ddbae3f0c0b6114b6b8\" transform=\"translate(50.0,350.0)rotate(-90.0)translate(0,-10.0)\"><line style=\"\" x1=\"0\" x2=\"99.0\" y1=\"0\" y2=\"0\"></line><g><g transform=\"translate(0.0,-6)\"><text style=\"fill:rgb(16.1%,15.3%,14.1%);fill-opacity:1.0;font-family:helvetica;font-size:10.0px;font-weight:normal;stroke:none;vertical-align:baseline;white-space:pre\" x=\"-6.95\" y=\"-4.4408920985e-16\">0.0</text></g><g transform=\"translate(50.0,-6)\"><text style=\"fill:rgb(16.1%,15.3%,14.1%);fill-opacity:1.0;font-family:helvetica;font-size:10.0px;font-weight:normal;stroke:none;vertical-align:baseline;white-space:pre\" x=\"-6.95\" y=\"-4.4408920985e-16\">0.5</text></g><g transform=\"translate(100.0,-6)\"><text style=\"fill:rgb(16.1%,15.3%,14.1%);fill-opacity:1.0;font-family:helvetica;font-size:10.0px;font-weight:normal;stroke:none;vertical-align:baseline;white-space:pre\" x=\"-6.95\" y=\"-4.4408920985e-16\">1.0</text></g></g><g transform=\"translate(50.0,-22)\"><text style=\"fill:rgb(16.1%,15.3%,14.1%);fill-opacity:1.0;font-family:helvetica;font-size:12.0px;font-weight:bold;stroke:none;vertical-align:baseline;white-space:pre\" x=\"-31.662\" y=\"0.0\">Current (A)</text></g><g class=\"toyplot-coordinates-Axis-coordinates\" style=\"visibility:hidden\" transform=\"\"><line style=\"stroke:rgb(43.9%,50.2%,56.5%);stroke-opacity:1.0;stroke-width:1.0\" x1=\"0\" x2=\"0\" y1=\"3.0\" y2=\"-4.5\"></line><text style=\"alignment-baseline:hanging;fill:rgb(43.9%,50.2%,56.5%);fill-opacity:1.0;font-size:10px;font-weight:normal;stroke:none;text-anchor:middle\" x=\"0\" y=\"6\"></text></g></g></g><g class=\"toyplot-coordinates-Cartesian\" id=\"taf1e8f25f29d4ce88cde8ac0a317df27\"><clipPath id=\"t83354e67e5c9491aad2648ded865e2cf\"><rect height=\"120.0\" width=\"520.0\" x=\"40.0\" y=\"440.0\"></rect></clipPath><g clip-path=\"url(#t83354e67e5c9491aad2648ded865e2cf)\"><g class=\"toyplot-mark-Plot\" id=\"t5ba9c896a468455894dbad879d016fac\" style=\"fill:none\"><g class=\"toyplot-Series\"><path d=\"M 50.0 550.0 L 50.333333333333329 550.0 L 50.666666666666671 549.80119284294233 L 51.0 549.80119284294233 L 51.333333333333336 549.60238568588477 L 51.666666666666671 549.60238568588477 L 52.0 549.4035785288271 L 52.333333333333336 549.4035785288271 L 52.666666666666664 549.20477137176943 L 53.0 549.20477137176943 L 53.333333333333329 549.00596421471164 L 53.666666666666664 549.00596421471164 L 54.0 548.80715705765408 L 54.333333333333329 548.80715705765408 L 54.666666666666664 548.60834990059641 L 55.0 548.60834990059641 L 55.333333333333329 548.40954274353874 L 55.666666666666671 548.40954274353874 L 56.0 548.21073558648118 L 56.333333333333336 548.21073558648118 L 56.666666666666671 548.01192842942351 L 57.0 548.01192842942351 L 57.333333333333329 547.81312127236583 L 57.666666666666671 547.81312127236583 L 58.0 547.61431411530816 L 58.333333333333329 547.61431411530816 L 58.666666666666664 547.41550695825049 L 59.0 547.41550695825049 L 59.333333333333329 547.21669980119282 L 59.666666666666664 547.21669980119282 L 60.0 547.01789264413515 L 60.333333333333336 547.01789264413515 L 60.666666666666671 546.81908548707759 L 61.0 546.81908548707759 L 61.333333333333336 546.62027833001991 L 61.666666666666671 546.62027833001991 L 62.0 546.42147117296224 L 62.333333333333329 546.42147117296224 L 62.666666666666671 546.22266401590446 L 62.999999999999993 546.22266401590446 L 63.333333333333343 546.02385685884701 L 63.666666666666664 546.02385685884701 L 64.0 545.82504970178923 L 64.333333333333343 545.02982107355865 L 64.666666666666657 544.83101391650098 L 65.0 544.83101391650098 L 65.333333333333343 544.63220675944342 L 65.666666666666671 544.63220675944342 L 66.0 544.43339960238563 L 66.333333333333329 544.43339960238563 L 66.666666666666671 544.23459244532808 L 67.0 544.23459244532808 L 67.333333333333329 544.0357852882704 L 67.666666666666671 544.0357852882704 L 68.0 543.83697813121273 L 68.333333333333343 543.83697813121273 L 68.666666666666671 543.63817097415506 L 69.0 543.63817097415506 L 69.333333333333343 543.43936381709739 L 69.666666666666657 543.43936381709739 L 70.0 543.24055666003983 L 70.333333333333329 543.24055666003983 L 70.666666666666657 543.04174950298204 L 71.0 543.04174950298204 L 71.333333333333329 542.84294234592448 L 71.666666666666671 542.84294234592448 L 72.0 542.64413518886681 L 72.333333333333329 542.64413518886681 L 72.666666666666671 542.44532803180914 L 73.0 542.44532803180914 L 73.333333333333343 542.24652087475147 L 73.666666666666657 542.24652087475147 L 74.0 542.0477137176938 L 74.333333333333343 542.0477137176938 L 74.666666666666657 541.84890656063612 L 75.0 541.84890656063612 L 75.333333333333343 541.65009940357857 L 75.666666666666657 541.65009940357857 L 76.0 541.45129224652089 L 76.333333333333343 541.45129224652089 L 76.666666666666671 541.25248508946322 L 77.0 541.25248508946322 L 77.333333333333329 541.05367793240555 L 77.666666666666671 541.05367793240555 L 78.0 540.85487077534788 L 78.333333333333343 540.85487077534788 L 78.666666666666671 540.6560636182902 L 79.0 540.6560636182902 L 79.333333333333343 540.45725646123265 L 79.666666666666657 540.45725646123265 L 80.0 540.25844930417497 L 80.333333333333343 540.25844930417497 L 80.666666666666657 540.0596421471173 L 81.0 540.0596421471173 L 81.333333333333329 539.86083499005963 L 81.666666666666671 539.86083499005963 L 82.0 539.66202783300196 L 82.333333333333329 539.66202783300196 L 82.666666666666657 539.4632206759444 L 83.0 539.4632206759444 L 83.333333333333329 539.26441351888661 L 83.666666666666657 539.26441351888661 L 84.0 539.06560636182905 L 84.333333333333343 539.06560636182905 L 84.666666666666657 538.86679920477138 L 85.0 538.86679920477138 L 85.333333333333343 538.66799204771371 L 85.666666666666657 538.66799204771371 L 86.0 538.46918489065604 L 86.333333333333343 538.46918489065604 L 86.666666666666657 538.27037773359837 L 87.0 538.27037773359837 L 87.333333333333343 538.07157057654081 L 87.666666666666671 538.07157057654081 L 88.0 537.87276341948314 L 88.333333333333329 537.87276341948314 L 88.666666666666671 537.67395626242546 L 89.0 537.67395626242546 L 89.333333333333343 537.47514910536779 L 89.666666666666671 537.47514910536779 L 90.0 537.27634194831012 L 90.333333333333343 537.27634194831012 L 90.666666666666657 537.07753479125245 L 91.0 537.07753479125245 L 91.333333333333343 536.87872763419477 L 91.666666666666657 536.87872763419477 L 92.0 536.67992047713722 L 92.333333333333343 536.67992047713722 L 92.666666666666657 536.48111332007954 L 93.0 536.48111332007954 L 93.333333333333343 536.28230616302187 L 93.666666666666657 536.28230616302187 L 94.0 536.0834990059642 L 94.333333333333329 536.0834990059642 L 94.666666666666657 535.88469184890653 L 95.0 535.88469184890653 L 95.333333333333343 535.68588469184886 L 95.666666666666657 535.68588469184886 L 96.0 535.4870775347913 L 96.333333333333329 535.4870775347913 L 96.666666666666657 535.28827037773362 L 97.0 535.28827037773362 L 97.333333333333329 535.08946322067595 L 97.666666666666671 535.08946322067595 L 98.0 534.89065606361828 L 98.333333333333329 534.89065606361828 L 98.666666666666671 534.69184890656061 L 99.0 534.69184890656061 L 99.333333333333329 534.49304174950305 L 99.666666666666671 534.49304174950305 L 100.0 534.29423459244526 L 100.33333333333334 534.29423459244526 L 100.66666666666667 534.09542743538771 L 101.0 534.09542743538771 L 101.33333333333334 533.89662027833003 L 101.66666666666667 533.89662027833003 L 102.0 533.69781312127236 L 102.33333333333334 533.69781312127236 L 102.66666666666667 533.49900596421469 L 103.0 533.49900596421469 L 103.33333333333334 533.30019880715702 L 103.66666666666666 533.30019880715702 L 104.0 533.10139165009934 L 104.33333333333333 533.10139165009934 L 104.66666666666667 532.90258449304179 L 105.0 532.90258449304179 L 105.33333333333334 532.70377733598411 L 105.66666666666667 532.70377733598411 L 106.0 532.50497017892644 L 106.33333333333334 532.50497017892644 L 106.66666666666666 532.30616302186877 L 107.0 532.30616302186877 L 107.33333333333334 532.1073558648111 L 107.66666666666666 532.1073558648111 L 108.0 531.90854870775343 L 108.33333333333334 531.90854870775343 L 108.66666666666666 531.70974155069587 L 109.0 531.70974155069587 L 109.33333333333333 531.51093439363808 L 109.66666666666669 531.51093439363808 L 110.0 531.31212723658052 L 110.33333333333334 531.31212723658052 L 110.66666666666667 531.11332007952296 L 111.0 531.11332007952296 L 111.33333333333334 530.91451292246518 L 111.66666666666666 530.91451292246518 L 112.0 530.71570576540762 L 112.33333333333333 530.71570576540762 L 112.66666666666666 530.51689860834983 L 113.0 530.51689860834983 L 113.33333333333334 530.31809145129228 L 113.66666666666666 530.31809145129228 L 114.0 530.1192842942346 L 114.33333333333334 530.1192842942346 L 114.66666666666666 529.92047713717693 L 115.0 529.92047713717693 L 115.33333333333331 529.72166998011926 L 115.66666666666667 529.72166998011926 L 116.0 529.52286282306159 L 116.33333333333331 529.52286282306159 L 116.66666666666666 529.32405566600403 L 117.0 529.32405566600403 L 117.33333333333333 529.12524850894636 L 117.66666666666667 529.12524850894636 L 118.00000000000001 528.92644135188868 L 118.33333333333331 528.92644135188868 L 118.66666666666666 528.72763419483101 L 119.0 528.72763419483101 L 119.33333333333333 528.52882703777334 L 119.66666666666667 528.33001988071578 L 120.00000000000001 528.33001988071578 L 120.33333333333331 528.131212723658 L 120.66666666666667 528.131212723658 L 121.0 527.93240556660044 L 121.33333333333334 527.93240556660044 L 121.66666666666669 527.73359840954276 L 121.99999999999999 527.73359840954276 L 122.33333333333333 527.53479125248509 L 122.66666666666667 527.53479125248509 L 123.0 527.33598409542742 L 123.33333333333334 527.33598409542742 L 123.66666666666669 527.13717693836975 L 124.0 527.13717693836975 L 124.33333333333333 526.93836978131208 L 124.66666666666667 526.93836978131208 L 125.0 526.73956262425452 L 125.33333333333334 526.73956262425452 L 125.66666666666666 526.54075546719673 L 126.0 526.54075546719673 L 126.33333333333333 526.34194831013917 L 126.66666666666666 526.34194831013917 L 127.0 526.14314115308161 L 127.33333333333334 526.14314115308161 L 127.66666666666666 525.94433399602383 L 128.0 525.94433399602383 L 128.33333333333334 525.74552683896627 L 128.66666666666666 525.74552683896627 L 129.0 525.5467196819086 L 129.33333333333334 525.5467196819086 L 129.66666666666666 525.34791252485093 L 130.0 525.34791252485093 L 130.33333333333334 525.14910536779325 L 130.66666666666669 525.14910536779325 L 131.0 524.95029821073558 L 131.33333333333331 524.95029821073558 L 131.66666666666666 524.75149105367791 L 132.0 524.75149105367791 L 132.33333333333331 524.55268389662035 L 132.66666666666669 524.55268389662035 L 133.0 524.35387673956257 L 133.33333333333331 524.35387673956257 L 133.66666666666666 524.15506958250501 L 134.0 524.15506958250501 L 134.33333333333334 523.95626242544733 L 134.66666666666669 523.95626242544733 L 135.0 523.75745526838966 L 135.33333333333331 523.75745526838966 L 135.66666666666666 523.55864811133199 L 136.0 523.55864811133199 L 136.33333333333334 523.35984095427432 L 136.66666666666669 523.35984095427432 L 137.0 523.16103379721665 L 137.33333333333331 523.16103379721665 L 137.66666666666669 522.96222664015909 L 138.0 522.96222664015909 L 138.33333333333334 522.7634194831013 L 138.66666666666666 522.7634194831013 L 139.0 522.56461232604374 L 139.33333333333334 522.56461232604374 L 139.66666666666669 522.36580516898607 L 140.0 522.36580516898607 L 140.33333333333334 522.1669980119284 L 140.66666666666666 522.1669980119284 L 141.0 521.96819085487073 L 141.33333333333334 521.96819085487073 L 141.66666666666666 521.76938369781305 L 142.0 521.76938369781305 L 142.33333333333334 521.5705765407555 L 142.66666666666666 521.5705765407555 L 143.0 521.37176938369782 L 143.33333333333334 521.37176938369782 L 143.66666666666666 521.17296222664015 L 144.0 521.17296222664015 L 144.33333333333334 520.97415506958259 L 144.66666666666666 520.97415506958259 L 145.0 520.77534791252481 L 145.33333333333334 520.77534791252481 L 145.66666666666666 520.57654075546725 L 146.0 520.57654075546725 L 146.33333333333334 520.37773359840958 L 146.66666666666666 520.37773359840958 L 147.0 520.1789264413519 L 147.33333333333331 520.1789264413519 L 147.66666666666669 519.98011928429423 L 148.0 519.98011928429423 L 148.33333333333331 519.78131212723656 L 148.66666666666666 519.78131212723656 L 149.0 519.58250497017889 L 149.33333333333334 519.58250497017889 L 149.66666666666669 519.38369781312122 L 150.0 519.38369781312122 L 150.33333333333331 519.18489065606354 L 150.66666666666666 519.18489065606354 L 151.0 518.98608349900599 L 151.33333333333334 518.98608349900599 L 151.66666666666669 518.78727634194831 L 152.0 518.78727634194831 L 152.33333333333331 518.58846918489064 L 152.66666666666669 518.58846918489064 L 153.0 518.38966202783308 L 153.33333333333334 518.38966202783308 L 153.66666666666666 518.1908548707753 L 154.0 518.1908548707753 L 154.33333333333334 517.99204771371774 L 154.66666666666669 517.99204771371774 L 155.0 517.79324055666007 L 155.33333333333334 517.79324055666007 L 155.66666666666666 517.59443339960239 L 156.0 517.59443339960239 L 156.33333333333334 517.39562624254472 L 156.66666666666669 517.39562624254472 L 157.0 517.19681908548705 L 157.33333333333331 517.19681908548705 L 157.66666666666666 516.99801192842938 L 158.0 516.99801192842938 L 158.33333333333334 516.79920477137171 L 158.66666666666666 516.79920477137171 L 159.0 516.60039761431403 L 159.33333333333331 516.60039761431403 L 159.66666666666666 516.40159045725648 L 160.0 516.40159045725648 L 160.33333333333334 516.2027833001988 L 160.66666666666666 516.2027833001988 L 161.0 516.00397614314113 L 161.33333333333334 516.00397614314113 L 161.66666666666666 515.80516898608357 L 162.0 515.80516898608357 L 162.33333333333331 515.60636182902579 L 162.66666666666669 515.60636182902579 L 163.0 515.40755467196823 L 163.33333333333331 515.40755467196823 L 163.66666666666666 515.20874751491056 L 164.0 515.20874751491056 L 164.33333333333331 515.00994035785288 L 164.66666666666669 515.00994035785288 L 165.0 514.81113320079521 L 165.33333333333331 514.81113320079521 L 165.66666666666666 514.61232604373754 L 166.0 514.61232604373754 L 166.33333333333334 514.41351888667987 L 166.66666666666669 514.41351888667987 L 167.0 514.21471172962231 L 167.33333333333331 514.21471172962231 L 167.66666666666666 514.01590457256452 L 168.0 514.01590457256452 L 168.33333333333331 513.81709741550696 L 168.66666666666666 513.81709741550696 L 169.0 513.61829025844929 L 169.33333333333334 513.61829025844929 L 169.66666666666666 513.41948310139162 L 170.0 513.41948310139162 L 170.33333333333334 513.22067594433406 L 170.66666666666669 513.22067594433406 L 171.0 513.02186878727639 L 171.33333333333334 513.02186878727639 L 171.66666666666669 512.82306163021872 L 172.0 512.82306163021872 L 172.33333333333331 512.62425447316105 L 172.66666666666669 512.62425447316105 L 173.0 512.42544731610337 L 173.33333333333331 512.42544731610337 L 173.66666666666666 512.2266401590457 L 174.0 512.2266401590457 L 174.33333333333334 512.02783300198803 L 174.66666666666666 512.02783300198803 L 175.0 511.82902584493041 L 175.33333333333331 511.82902584493041 L 175.66666666666669 511.6302186878728 L 176.0 511.6302186878728 L 176.33333333333334 511.43141153081507 L 176.66666666666669 511.43141153081507 L 177.0 511.23260437375751 L 177.33333333333334 511.23260437375751 L 177.66666666666666 511.03379721669978 L 178.0 511.03379721669978 L 178.33333333333331 510.83499005964217 L 178.66666666666669 510.83499005964217 L 179.0 510.63618290258455 L 179.33333333333331 510.63618290258455 L 179.66666666666669 510.43737574552682 L 180.0 510.43737574552682 L 180.33333333333334 510.23856858846921 L 180.66666666666666 510.23856858846921 L 181.0 510.03976143141153 L 181.33333333333334 510.03976143141153 L 181.66666666666666 509.84095427435386 L 182.0 509.84095427435386 L 182.33333333333334 509.6421471172963 L 182.66666666666663 509.6421471172963 L 183.0 509.44333996023852 L 183.33333333333331 509.44333996023852 L 183.66666666666666 509.24453280318096 L 184.0 509.24453280318096 L 184.33333333333331 509.04572564612323 L 184.66666666666666 509.04572564612323 L 185.0 508.84691848906562 L 185.33333333333334 508.84691848906562 L 185.66666666666666 508.64811133200794 L 186.00000000000003 508.64811133200794 L 186.33333333333334 508.44930417495027 L 186.66666666666666 508.44930417495027 L 187.0 508.2504970178926 L 187.33333333333331 508.2504970178926 L 187.66666666666669 508.05168986083498 L 188.0 508.05168986083498 L 188.33333333333331 507.85288270377725 L 188.66666666666666 507.85288270377725 L 189.0 507.6540755467197 L 189.33333333333334 507.6540755467197 L 189.66666666666666 507.45526838966202 L 190.00000000000003 507.45526838966202 L 190.33333333333334 507.25646123260435 L 190.66666666666666 507.25646123260435 L 191.0 507.05765407554679 L 191.33333333333334 507.05765407554679 L 191.66666666666669 506.85884691848901 L 192.0 506.85884691848901 L 192.33333333333331 506.66003976143145 L 192.66666666666669 506.66003976143145 L 192.99999999999997 506.46123260437378 L 193.33333333333337 506.46123260437378 L 193.66666666666666 506.2624254473161 L 193.99999999999997 506.2624254473161 L 194.33333333333334 506.06361829025843 L 194.66666666666666 506.06361829025843 L 195.0 505.86481113320082 L 195.33333333333334 505.86481113320082 L 195.66666666666666 505.66600397614314 L 196.0 505.66600397614314 L 196.33333333333334 505.46719681908553 L 196.66666666666669 505.46719681908553 L 197.0 505.2683896620278 L 197.33333333333337 505.2683896620278 L 197.66666666666669 505.06958250497019 L 197.99999999999997 505.06958250497019 L 198.33333333333337 504.87077534791251 L 198.66666666666666 504.87077534791251 L 199.0 504.6719681908549 L 199.33333333333334 504.6719681908549 L 199.66666666666666 504.47316103379723 L 200.0 504.47316103379723 L 200.33333333333334 504.27435387673955 L 200.66666666666669 504.27435387673955 L 201.0 504.07554671968188 L 201.33333333333331 504.07554671968188 L 201.66666666666669 503.87673956262427 L 202.0 503.87673956262427 L 202.33333333333331 503.67793240556659 L 202.66666666666669 503.67793240556659 L 202.99999999999997 503.47912524850898 L 203.33333333333331 503.47912524850898 L 203.66666666666666 503.28031809145125 L 204.0 503.28031809145125 L 204.33333333333331 503.08151093439363 L 204.66666666666669 503.08151093439363 L 205.0 502.88270377733596 L 205.33333333333331 502.88270377733596 L 205.66666666666669 502.68389662027829 L 206.0 502.68389662027829 L 206.33333333333334 502.48508946322073 L 206.66666666666669 502.48508946322073 L 207.0 502.286282306163 L 207.33333333333331 502.286282306163 L 207.66666666666669 502.08747514910539 L 208.0 502.08747514910539 L 208.33333333333331 501.88866799204777 L 208.66666666666669 501.88866799204777 L 209.0 501.68986083499004 L 209.33333333333331 501.68986083499004 L 209.66666666666669 501.49105367793243 L 210.0 501.49105367793243 L 210.33333333333334 501.29224652087476 L 210.66666666666669 501.29224652087476 L 211.0 501.09343936381708 L 211.33333333333334 501.09343936381708 L 211.66666666666666 500.89463220675952 L 212.0 500.89463220675952 L 212.33333333333331 500.69582504970174 L 212.66666666666663 500.69582504970174 L 213.0 500.49701789264418 L 213.33333333333331 500.49701789264418 L 213.66666666666669 500.29821073558651 L 214.0 500.29821073558651 L 214.33333333333331 500.09940357852884 L 214.66666666666666 500.09940357852884 L 215.0 499.90059642147116 L 215.33333333333334 499.90059642147116 L 215.66666666666666 499.70178926441349 L 216.00000000000003 499.70178926441349 L 216.33333333333334 499.50298210735582 L 216.66666666666666 499.50298210735582 L 217.0 499.30417495029826 L 217.33333333333331 499.30417495029826 L 217.66666666666669 499.10536779324053 L 218.0 499.10536779324053 L 218.33333333333331 498.90656063618292 L 218.66666666666669 498.90656063618292 L 219.0 498.70775347912524 L 219.33333333333334 498.70775347912524 L 219.66666666666666 498.50894632206757 L 220.0 498.50894632206757 L 220.33333333333334 498.3101391650099 L 220.66666666666666 498.3101391650099 L 221.00000000000003 498.11133200795229 L 221.33333333333334 498.11133200795229 L 221.66666666666666 497.91252485089461 L 222.0 497.91252485089461 L 222.33333333333331 497.713717693837 L 222.66666666666669 497.713717693837 L 223.0 497.51491053677933 L 223.33333333333334 497.51491053677933 L 223.66666666666669 497.31610337972165 L 223.99999999999997 497.31610337972165 L 224.33333333333334 497.11729622266404 L 224.66666666666666 497.11729622266404 L 225.0 496.91848906560637 L 225.33333333333334 496.91848906560637 L 225.66666666666666 496.71968190854875 L 226.0 496.71968190854875 L 226.33333333333334 496.52087475149108 L 226.66666666666669 496.52087475149108 L 227.0 496.32206759443341 L 227.33333333333331 496.32206759443341 L 227.66666666666669 496.12326043737573 L 228.0 496.12326043737573 L 228.33333333333334 495.92445328031806 L 228.66666666666666 495.92445328031806 L 229.0 495.72564612326039 L 229.33333333333334 495.72564612326039 L 229.66666666666666 495.52683896620277 L 230.0 495.52683896620277 L 230.33333333333334 495.3280318091451 L 230.66666666666669 495.3280318091451 L 231.0 495.12922465208749 L 231.33333333333334 495.12922465208749 L 231.66666666666669 494.93041749502981 L 232.0 494.93041749502981 L 232.33333333333331 494.73161033797214 L 232.66666666666669 494.73161033797214 L 232.99999999999997 494.53280318091453 L 233.33333333333331 494.53280318091453 L 233.66666666666666 494.33399602385686 L 234.0 494.33399602385686 L 234.33333333333331 494.13518886679924 L 234.66666666666669 494.13518886679924 L 235.0 493.53876739562622 L 235.33333333333331 493.33996023856855 L 235.66666666666669 493.33996023856855 L 236.0 493.14115308151094 L 236.33333333333334 493.14115308151094 L 236.66666666666669 492.94234592445332 L 237.0 492.94234592445332 L 237.33333333333331 492.74353876739565 L 237.66666666666669 492.74353876739565 L 238.0 492.54473161033798 L 238.33333333333331 492.54473161033798 L 238.66666666666666 492.3459244532803 L 239.0 492.3459244532803 L 239.33333333333331 492.14711729622263 L 239.66666666666669 492.14711729622263 L 240.0 491.94831013916502 L 240.33333333333331 491.94831013916502 L 240.66666666666669 491.7495029821074 L 241.0 491.7495029821074 L 241.33333333333334 491.55069582504967 L 241.66666666666669 491.55069582504967 L 242.00000000000003 491.35188866799206 L 242.33333333333331 491.35188866799206 L 242.66666666666669 491.15308151093438 L 243.0 491.15308151093438 L 243.33333333333331 490.95427435387671 L 243.66666666666666 490.95427435387671 L 244.0 490.7554671968191 L 244.33333333333331 490.7554671968191 L 244.66666666666666 490.55666003976137 L 245.0 490.55666003976137 L 245.33333333333334 490.35785288270381 L 245.66666666666666 490.35785288270381 L 246.0 490.15904572564614 L 246.33333333333334 490.15904572564614 L 246.66666666666666 489.96023856858847 L 247.00000000000003 489.96023856858847 L 247.33333333333331 489.76143141153085 L 247.66666666666669 489.76143141153085 L 248.0 489.56262425447312 L 248.33333333333331 489.56262425447312 L 248.66666666666666 489.36381709741551 L 249.0 489.36381709741551 L 249.33333333333334 489.16500994035789 L 249.66666666666666 489.16500994035789 L 250.0 488.96620278330022 L 250.33333333333334 488.96620278330022 L 250.66666666666666 488.76739562624255 L 251.00000000000003 488.76739562624255 L 251.33333333333334 488.56858846918487 L 251.66666666666666 488.56858846918487 L 252.0 488.3697813121272 L 252.33333333333331 488.3697813121272 L 252.66666666666669 488.17097415506959 L 253.0 488.17097415506959 L 253.33333333333334 487.97216699801197 L 253.66666666666666 487.97216699801197 L 253.99999999999997 487.7733598409543 L 254.33333333333334 487.7733598409543 L 254.66666666666666 487.57455268389663 L 255.0 487.57455268389663 L 255.33333333333334 487.37574552683895 L 255.66666666666666 487.37574552683895 L 256.0 487.17693836978128 L 256.33333333333331 487.17693836978128 L 256.66666666666669 486.97813121272367 L 257.0 486.97813121272367 L 257.33333333333331 486.77932405566605 L 257.66666666666669 486.77932405566605 L 258.0 486.58051689860832 L 258.33333333333337 486.58051689860832 L 258.66666666666669 486.38170974155071 L 259.0 486.38170974155071 L 259.33333333333337 486.18290258449304 L 259.66666666666663 486.18290258449304 L 260.0 485.98409542743542 L 260.33333333333331 485.98409542743542 L 260.66666666666669 485.78528827037781 L 261.0 485.78528827037781 L 261.33333333333331 485.58648111332008 L 261.66666666666669 485.58648111332008 L 262.0 485.38767395626246 L 262.33333333333337 485.38767395626246 L 262.66666666666669 485.18886679920479 L 263.0 485.18886679920479 L 263.33333333333337 484.99005964214712 L 263.66666666666669 484.99005964214712 L 264.0 484.79125248508944 L 264.33333333333331 484.79125248508944 L 264.66666666666663 484.59244532803177 L 265.0 484.59244532803177 L 265.33333333333331 484.39363817097416 L 265.66666666666669 484.39363817097416 L 266.0 484.19483101391654 L 266.33333333333331 484.19483101391654 L 266.66666666666669 483.99602385685887 L 267.0 483.99602385685887 L 267.33333333333331 483.7972166998012 L 267.66666666666669 483.7972166998012 L 268.0 483.59840954274352 L 268.33333333333331 483.59840954274352 L 268.66666666666669 483.39960238568585 L 269.0 483.39960238568585 L 269.33333333333331 483.20079522862824 L 269.66666666666669 483.20079522862824 L 270.0 483.00198807157062 L 270.33333333333331 483.00198807157062 L 270.66666666666669 482.80318091451289 L 271.0 482.80318091451289 L 271.33333333333331 482.60437375745528 L 271.66666666666669 482.60437375745528 L 272.0 482.40556660039761 L 272.33333333333331 482.40556660039761 L 272.66666666666669 482.20675944333993 L 273.0 482.20675944333993 L 273.33333333333331 482.00795228628232 L 273.66666666666669 482.00795228628232 L 274.0 481.80914512922459 L 274.33333333333331 481.80914512922459 L 274.66666666666663 481.61033797216697 L 275.0 481.61033797216697 L 275.33333333333337 481.41153081510936 L 275.66666666666663 481.41153081510936 L 276.0 481.21272365805169 L 276.33333333333331 481.21272365805169 L 276.66666666666663 481.01391650099401 L 277.0 481.01391650099401 L 277.33333333333331 480.81510934393634 L 277.66666666666663 480.81510934393634 L 278.0 480.61630218687873 L 278.33333333333331 480.61630218687873 L 278.66666666666669 480.41749502982111 L 279.0 480.41749502982111 L 279.33333333333337 480.21868787276344 L 279.66666666666663 480.21868787276344 L 280.0 480.01988071570577 L 280.33333333333331 480.01988071570577 L 280.66666666666663 479.8210735586481 L 281.0 479.8210735586481 L 281.33333333333331 479.62226640159042 L 281.66666666666663 479.62226640159042 L 282.0 479.42345924453281 L 282.33333333333331 479.42345924453281 L 282.66666666666669 479.22465208747519 L 283.0 479.22465208747519 L 283.33333333333337 479.02584493041752 L 283.66666666666663 479.02584493041752 L 284.00000000000006 478.82703777335985 L 284.33333333333331 478.82703777335985 L 284.66666666666663 478.62823061630218 L 285.0 478.62823061630218 L 285.33333333333331 478.4294234592445 L 285.66666666666669 478.4294234592445 L 285.99999999999994 478.23061630218689 L 286.33333333333337 478.23061630218689 L 286.66666666666663 478.03180914512927 L 287.0 478.03180914512927 L 287.33333333333331 477.83300198807154 L 287.66666666666669 477.83300198807154 L 288.0 477.63419483101393 L 288.33333333333337 477.63419483101393 L 288.66666666666669 477.43538767395626 L 289.0 477.43538767395626 L 289.33333333333331 477.23658051689858 L 289.66666666666663 477.23658051689858 L 290.0 477.03777335984097 L 290.33333333333331 477.03777335984097 L 290.66666666666669 476.83896620278324 L 290.99999999999994 476.83896620278324 L 291.33333333333337 476.64015904572562 L 291.66666666666663 476.64015904572562 L 292.0 476.44135188866801 L 292.33333333333331 476.44135188866801 L 292.66666666666669 476.24254473161034 L 293.0 476.24254473161034 L 293.33333333333337 476.04373757455272 L 293.66666666666669 476.04373757455272 L 294.0 475.84493041749499 L 294.33333333333337 475.84493041749499 L 294.66666666666663 475.64612326043738 L 295.0 475.64612326043738 L 295.33333333333337 475.44731610337976 L 295.66666666666669 475.44731610337976 L 296.0 475.24850894632209 L 296.33333333333331 475.24850894632209 L 296.66666666666663 475.04970178926442 L 297.0 475.04970178926442 L 297.33333333333331 474.85089463220675 L 297.66666666666669 474.85089463220675 L 298.0 474.65208747514907 L 298.33333333333331 474.65208747514907 L 298.66666666666669 474.45328031809146 L 299.0 474.45328031809146 L 299.33333333333331 474.25447316103384 L 299.66666666666663 474.25447316103384 L 300.0 474.05566600397611 L 300.33333333333331 474.05566600397611 L 300.66666666666663 473.8568588469185 L 301.0 473.8568588469185 L 301.33333333333337 473.65805168986083 L 301.66666666666663 473.65805168986083 L 302.0 473.45924453280315 L 302.33333333333331 473.45924453280315 L 302.66666666666669 473.26043737574554 L 303.0 473.26043737574554 L 303.33333333333337 473.06163021868781 L 303.66666666666663 473.06163021868781 L 304.0 472.86282306163019 L 304.33333333333337 472.86282306163019 L 304.66666666666669 472.66401590457258 L 305.0 472.66401590457258 L 305.33333333333331 472.46520874751491 L 305.66666666666663 472.46520874751491 L 306.0 472.26640159045729 L 306.33333333333337 472.26640159045729 L 306.66666666666663 472.06759443339962 L 307.0 472.06759443339962 L 307.33333333333337 471.86878727634195 L 307.66666666666669 471.86878727634195 L 308.0 471.66998011928428 L 308.33333333333337 471.66998011928428 L 308.66666666666663 471.47117296222666 L 309.00000000000006 471.47117296222666 L 309.33333333333337 471.27236580516899 L 309.66666666666669 471.27236580516899 L 310.0 471.07355864811137 L 310.33333333333331 471.07355864811137 L 310.66666666666669 470.87475149105364 L 311.0 470.87475149105364 L 311.33333333333331 470.67594433399603 L 311.66666666666663 470.67594433399603 L 312.0 470.47713717693836 L 312.33333333333331 470.47713717693836 L 312.66666666666669 470.27833001988074 L 313.0 470.27833001988074 L 313.33333333333331 470.07952286282307 L 313.66666666666663 470.07952286282307 L 314.00000000000006 469.8807157057654 L 314.33333333333331 469.8807157057654 L 314.66666666666669 469.68190854870772 L 315.0 469.68190854870772 L 315.33333333333326 469.48310139165011 L 315.66666666666669 469.48310139165011 L 316.0 469.28429423459249 L 316.33333333333331 469.28429423459249 L 316.66666666666663 469.08548707753476 L 317.0 469.08548707753476 L 317.33333333333331 468.88667992047715 L 317.66666666666669 468.88667992047715 L 318.0 468.68787276341948 L 318.33333333333331 468.68787276341948 L 318.66666666666663 468.48906560636181 L 319.00000000000006 468.48906560636181 L 319.33333333333331 468.29025844930419 L 319.66666666666669 468.29025844930419 L 320.0 468.09145129224646 L 320.33333333333337 467.89264413518885 L 320.66666666666669 467.89264413518885 L 321.0 467.69383697813123 L 321.33333333333331 467.69383697813123 L 321.66666666666663 467.49502982107356 L 322.00000000000006 467.49502982107356 L 322.33333333333331 467.29622266401594 L 322.66666666666669 467.29622266401594 L 323.0 467.09741550695821 L 323.33333333333331 467.09741550695821 L 323.66666666666669 466.8986083499006 L 324.00000000000006 466.8986083499006 L 324.33333333333331 466.69980119284293 L 324.66666666666663 466.69980119284293 L 325.0 466.50099403578531 L 325.33333333333337 466.50099403578531 L 325.66666666666669 466.30218687872764 L 326.0 466.30218687872764 L 326.33333333333331 466.10337972166997 L 326.66666666666663 466.10337972166997 L 327.00000000000006 465.90457256461229 L 327.33333333333331 465.90457256461229 L 327.66666666666669 465.70576540755468 L 328.0 465.70576540755468 L 328.33333333333331 465.70576540755468 L 328.66666666666669 465.50695825049701 L 329.00000000000006 465.50695825049701 L 329.33333333333331 465.30815109343939 L 329.66666666666663 465.30815109343939 L 330.00000000000006 465.10934393638172 L 330.33333333333337 465.10934393638172 L 330.66666666666669 464.91053677932405 L 331.0 464.91053677932405 L 331.33333333333331 464.91053677932405 L 331.66666666666669 464.71172962226638 L 332.0 464.71172962226638 L 332.33333333333331 464.51292246520876 L 332.66666666666669 464.51292246520876 L 332.99999999999994 464.51292246520876 L 333.33333333333337 464.31411530815114 L 333.66666666666669 464.31411530815114 L 334.0 464.11530815109342 L 334.33333333333331 464.11530815109342 L 334.66666666666663 464.11530815109342 L 335.0 463.9165009940358 L 335.33333333333337 463.9165009940358 L 335.66666666666669 463.71769383697813 L 335.99999999999994 463.71769383697813 L 336.33333333333331 463.71769383697813 L 336.66666666666669 463.51888667992046 L 337.0 463.51888667992046 L 337.33333333333331 463.51888667992046 L 337.66666666666669 463.32007952286284 L 337.99999999999994 463.32007952286284 L 338.33333333333337 463.32007952286284 L 338.66666666666669 463.12127236580517 L 339.0 463.12127236580517 L 339.33333333333331 463.12127236580517 L 339.66666666666663 462.9224652087475 L 340.0 462.9224652087475 L 340.33333333333337 462.9224652087475 L 340.66666666666669 462.72365805168988 L 340.99999999999994 462.72365805168988 L 341.33333333333331 462.72365805168988 L 341.66666666666669 462.52485089463221 L 342.0 462.52485089463221 L 342.33333333333331 462.52485089463221 L 342.66666666666669 462.32604373757459 L 342.99999999999994 462.32604373757459 L 343.33333333333337 462.32604373757459 L 343.66666666666669 462.12723658051686 L 344.0 462.12723658051686 L 344.33333333333331 462.12723658051686 L 344.66666666666674 461.92842942345925 L 345.0 461.92842942345925 L 345.33333333333331 461.92842942345925 L 345.66666666666669 461.72962226640158 L 345.99999999999994 461.72962226640158 L 346.33333333333337 461.72962226640158 L 346.66666666666669 461.72962226640158 L 347.0 461.53081510934396 L 347.33333333333331 461.53081510934396 L 347.66666666666669 461.53081510934396 L 348.0 461.33200795228629 L 348.33333333333337 461.33200795228629 L 348.66666666666669 461.33200795228629 L 349.0 461.33200795228629 L 349.33333333333331 461.13320079522862 L 349.66666666666674 461.13320079522862 L 350.0 461.13320079522862 L 350.33333333333331 461.13320079522862 L 350.66666666666669 460.93439363817095 L 350.99999999999994 460.93439363817095 L 351.33333333333337 460.93439363817095 L 351.66666666666669 460.93439363817095 L 352.0 460.73558648111333 L 352.33333333333331 460.73558648111333 L 352.66666666666663 460.73558648111333 L 353.0 460.73558648111333 L 353.33333333333337 460.53677932405566 L 353.66666666666663 460.53677932405566 L 354.0 460.53677932405566 L 354.33333333333331 460.53677932405566 L 354.66666666666669 460.33797216699804 L 355.0 460.33797216699804 L 355.33333333333331 460.33797216699804 L 355.66666666666663 460.33797216699804 L 355.99999999999994 460.13916500994031 L 356.33333333333337 460.13916500994031 L 356.66666666666663 460.13916500994031 L 357.0 460.13916500994031 L 357.33333333333331 459.9403578528827 L 357.66666666666663 459.9403578528827 L 358.0 459.9403578528827 L 358.33333333333337 459.9403578528827 L 358.66666666666663 459.74155069582503 L 359.0 459.74155069582503 L 359.33333333333337 459.74155069582503 L 359.66666666666669 459.74155069582503 L 360.0 459.74155069582503 L 360.33333333333331 459.54274353876741 L 360.66666666666663 459.54274353876741 L 361.0 459.54274353876741 L 361.33333333333337 459.54274353876741 L 361.66666666666663 459.3439363817098 L 362.0 459.3439363817098 L 362.33333333333331 459.3439363817098 L 362.66666666666669 459.3439363817098 L 363.0 459.3439363817098 L 363.33333333333337 459.14512922465207 L 363.66666666666663 459.14512922465207 L 364.0 459.14512922465207 L 364.33333333333337 459.14512922465207 L 364.66666666666669 459.14512922465207 L 365.0 458.94632206759445 L 365.33333333333331 458.94632206759445 L 365.66666666666663 458.94632206759445 L 366.0 458.94632206759445 L 366.33333333333337 458.74751491053678 L 366.66666666666663 458.74751491053678 L 367.0 458.74751491053678 L 367.33333333333337 458.74751491053678 L 367.66666666666669 458.74751491053678 L 368.0 458.54870775347916 L 368.33333333333337 458.54870775347916 L 368.66666666666663 458.54870775347916 L 369.00000000000006 458.54870775347916 L 369.33333333333337 458.54870775347916 L 369.66666666666669 458.34990059642143 L 370.0 458.34990059642143 L 370.33333333333331 458.34990059642143 L 370.66666666666669 458.34990059642143 L 371.0 458.34990059642143 L 371.33333333333337 458.15109343936382 L 371.66666666666663 458.15109343936382 L 372.0 458.15109343936382 L 372.33333333333337 458.15109343936382 L 372.66666666666669 458.15109343936382 L 373.0 457.95228628230615 L 373.33333333333331 457.95228628230615 L 373.66666666666663 457.95228628230615 L 374.00000000000006 457.95228628230615 L 374.33333333333331 457.95228628230615 L 374.66666666666669 457.75347912524853 L 375.0 457.75347912524853 L 375.33333333333326 457.75347912524853 L 375.66666666666669 457.75347912524853 L 376.0 457.75347912524853 L 376.33333333333331 457.55467196819086 L 376.66666666666663 457.55467196819086 L 377.0 457.55467196819086 L 377.33333333333331 457.55467196819086 L 377.66666666666669 457.55467196819086 L 378.0 457.35586481113324 L 378.33333333333331 457.35586481113324 L 378.66666666666663 457.35586481113324 L 379.00000000000006 457.35586481113324 L 379.33333333333331 457.35586481113324 L 379.66666666666669 457.15705765407552 L 380.0 457.15705765407552 L 380.33333333333326 457.15705765407552 L 380.66666666666669 457.15705765407552 L 381.0 457.15705765407552 L 381.33333333333331 457.15705765407552 L 381.66666666666663 456.9582504970179 L 382.00000000000006 456.9582504970179 L 382.33333333333331 456.9582504970179 L 382.66666666666669 456.9582504970179 L 383.0 456.9582504970179 L 383.33333333333331 456.75944333996023 L 383.66666666666669 456.75944333996023 L 384.00000000000006 456.75944333996023 L 384.33333333333331 456.75944333996023 L 384.66666666666663 456.75944333996023 L 385.0 456.75944333996023 L 385.33333333333337 456.56063618290261 L 385.66666666666669 456.56063618290261 L 386.0 456.56063618290261 L 386.33333333333331 456.56063618290261 L 386.66666666666663 456.56063618290261 L 387.00000000000006 456.56063618290261 L 387.33333333333331 456.36182902584494 L 387.66666666666669 456.36182902584494 L 388.0 456.36182902584494 L 388.33333333333331 456.36182902584494 L 388.66666666666669 456.36182902584494 L 389.00000000000006 456.36182902584494 L 389.33333333333331 456.16302186878727 L 389.66666666666663 456.16302186878727 L 390.0 456.16302186878727 L 390.33333333333337 456.16302186878727 L 390.66666666666669 456.16302186878727 L 391.0 456.16302186878727 L 391.33333333333331 456.16302186878727 L 391.66666666666663 455.9642147117296 L 392.00000000000006 455.9642147117296 L 392.33333333333331 455.9642147117296 L 392.66666666666669 455.9642147117296 L 393.0 455.9642147117296 L 393.33333333333331 455.9642147117296 L 393.66666666666669 455.76540755467198 L 394.0 455.76540755467198 L 394.33333333333331 455.76540755467198 L 394.66666666666663 455.76540755467198 L 394.99999999999994 455.76540755467198 L 395.33333333333331 455.76540755467198 L 395.66666666666669 455.56660039761431 L 395.99999999999994 455.56660039761431 L 396.33333333333331 455.56660039761431 L 396.66666666666669 455.56660039761431 L 397.0 455.56660039761431 L 397.33333333333331 455.56660039761431 L 397.66666666666669 455.56660039761431 L 397.99999999999994 455.36779324055664 L 398.33333333333337 455.36779324055664 L 398.66666666666669 455.36779324055664 L 399.0 455.36779324055664 L 399.33333333333331 455.36779324055664 L 399.66666666666663 455.36779324055664 L 400.0 455.36779324055664 L 400.33333333333331 455.16898608349896 L 400.66666666666669 455.16898608349896 L 400.99999999999994 455.16898608349896 L 401.33333333333331 455.16898608349896 L 401.66666666666669 455.16898608349896 L 402.0 455.16898608349896 L 402.33333333333331 455.16898608349896 L 402.66666666666669 454.97017892644135 L 402.99999999999994 454.97017892644135 L 403.33333333333337 454.97017892644135 L 403.66666666666669 454.97017892644135 L 404.0 454.97017892644135 L 404.33333333333331 454.97017892644135 L 404.66666666666663 454.97017892644135 L 405.0 454.77137176938373 L 405.33333333333331 454.77137176938373 L 405.66666666666669 454.77137176938373 L 405.99999999999994 454.77137176938373 L 406.33333333333337 454.77137176938373 L 406.66666666666669 454.77137176938373 L 407.0 454.77137176938373 L 407.33333333333331 454.57256461232606 L 407.66666666666669 454.57256461232606 L 408.0 454.57256461232606 L 408.33333333333337 454.57256461232606 L 408.66666666666669 454.57256461232606 L 409.0 454.57256461232606 L 409.33333333333331 454.57256461232606 L 409.66666666666674 454.37375745526839 L 410.0 454.37375745526839 L 410.33333333333331 454.37375745526839 L 410.66666666666669 454.37375745526839 L 410.99999999999994 454.37375745526839 L 411.33333333333337 454.37375745526839 L 411.66666666666669 454.37375745526839 L 412.0 454.17495029821072 L 412.33333333333331 454.17495029821072 L 412.66666666666669 454.17495029821072 L 413.0 454.17495029821072 L 413.33333333333337 454.17495029821072 L 413.66666666666669 454.17495029821072 L 414.0 454.17495029821072 L 414.33333333333331 454.17495029821072 L 414.66666666666669 453.9761431411531 L 415.0 453.9761431411531 L 415.33333333333331 453.9761431411531 L 415.66666666666663 453.9761431411531 L 415.99999999999994 453.9761431411531 L 416.33333333333337 453.9761431411531 L 416.66666666666663 453.9761431411531 L 417.0 453.77733598409543 L 417.33333333333331 453.77733598409543 L 417.66666666666663 453.77733598409543 L 418.0 453.77733598409543 L 418.33333333333337 453.77733598409543 L 418.66666666666663 453.77733598409543 L 419.0 453.77733598409543 L 419.33333333333337 453.77733598409543 L 419.66666666666669 453.57852882703781 L 420.0 453.57852882703781 L 420.33333333333331 453.57852882703781 L 420.66666666666663 453.57852882703781 L 421.0 453.57852882703781 L 421.33333333333337 453.57852882703781 L 421.66666666666663 453.57852882703781 L 422.0 453.57852882703781 L 422.33333333333331 453.37972166998009 L 422.66666666666669 453.37972166998009 L 423.0 453.37972166998009 L 423.33333333333337 453.37972166998009 L 423.66666666666663 453.37972166998009 L 424.0 453.37972166998009 L 424.33333333333337 453.37972166998009 L 424.66666666666669 453.37972166998009 L 425.0 453.18091451292247 L 425.33333333333331 453.18091451292247 L 425.66666666666663 453.18091451292247 L 426.0 453.18091451292247 L 426.33333333333337 453.18091451292247 L 426.66666666666663 453.18091451292247 L 427.0 453.18091451292247 L 427.33333333333331 453.18091451292247 L 427.66666666666669 452.9821073558648 L 428.0 452.9821073558648 L 428.33333333333337 452.9821073558648 L 428.66666666666663 452.9821073558648 L 429.0 452.9821073558648 L 429.33333333333337 452.9821073558648 L 429.66666666666669 452.9821073558648 L 430.0 452.9821073558648 L 430.33333333333331 452.78330019880718 L 430.66666666666663 452.78330019880718 L 431.0 452.78330019880718 L 431.33333333333337 452.78330019880718 L 431.66666666666663 452.78330019880718 L 432.0 452.78330019880718 L 432.33333333333337 452.78330019880718 L 432.66666666666669 452.78330019880718 L 433.0 452.78330019880718 L 433.33333333333337 452.58449304174951 L 433.66666666666663 452.58449304174951 L 434.00000000000006 452.58449304174951 L 434.33333333333337 452.58449304174951 L 434.66666666666669 452.58449304174951 L 435.0 452.58449304174951 L 435.33333333333331 452.58449304174951 L 435.66666666666669 452.58449304174951 L 436.0 452.38568588469184 L 436.33333333333331 452.38568588469184 L 436.66666666666663 452.38568588469184 L 437.0 452.38568588469184 L 437.33333333333331 452.38568588469184 L 437.66666666666669 452.38568588469184 L 438.0 452.38568588469184 L 438.33333333333331 452.38568588469184 L 438.66666666666663 452.38568588469184 L 439.00000000000006 452.18687872763417 L 439.33333333333331 452.18687872763417 L 439.66666666666669 452.18687872763417 L 440.0 452.18687872763417 L 440.33333333333326 452.18687872763417 L 440.66666666666669 452.18687872763417 L 441.0 452.18687872763417 L 441.33333333333331 452.18687872763417 L 441.66666666666663 452.18687872763417 L 442.0 451.98807157057655 L 442.33333333333331 451.98807157057655 L 442.66666666666669 451.98807157057655 L 443.0 451.98807157057655 L 443.33333333333331 451.98807157057655 L 443.66666666666663 451.98807157057655 L 444.00000000000006 451.98807157057655 L 444.33333333333331 451.98807157057655 L 444.66666666666669 451.98807157057655 L 445.0 451.78926441351888 L 445.33333333333337 451.78926441351888 L 445.66666666666669 451.78926441351888 L 446.0 451.78926441351888 L 446.33333333333331 451.78926441351888 L 446.66666666666663 451.78926441351888 L 447.00000000000006 451.78926441351888 L 447.33333333333331 451.78926441351888 L 447.66666666666669 451.78926441351888 L 448.0 451.78926441351888 L 448.33333333333331 451.59045725646126 L 448.66666666666669 451.59045725646126 L 449.00000000000006 451.59045725646126 L 449.33333333333331 451.59045725646126 L 449.66666666666669 451.59045725646126 L 450.0 451.59045725646126 L 450.33333333333337 451.59045725646126 L 450.66666666666669 451.59045725646126 L 451.0 451.59045725646126 L 451.33333333333331 451.39165009940353 L 451.66666666666663 451.39165009940353 L 452.00000000000006 451.39165009940353 L 452.33333333333331 451.39165009940353 L 452.66666666666669 451.39165009940353 L 453.0 451.39165009940353 L 453.33333333333331 451.39165009940353 L 453.66666666666669 451.39165009940353 L 454.00000000000006 451.39165009940353 L 454.33333333333331 451.39165009940353 L 454.66666666666669 451.19284294234592 L 455.00000000000006 451.19284294234592 L 455.33333333333337 451.19284294234592 L 455.66666666666669 451.19284294234592 L 456.0 451.19284294234592 L 456.33333333333331 451.19284294234592 L 456.66666666666669 451.19284294234592 L 457.0 451.19284294234592 L 457.33333333333331 451.19284294234592 L 457.66666666666669 451.19284294234592 L 457.99999999999994 451.19284294234592 L 458.33333333333337 450.99403578528825 L 458.66666666666669 450.99403578528825 L 459.0 450.99403578528825 L 459.33333333333331 450.99403578528825 L 459.66666666666663 450.99403578528825 L 460.0 450.99403578528825 L 460.33333333333331 450.99403578528825 L 460.66666666666669 450.99403578528825 L 460.99999999999994 450.99403578528825 L 461.33333333333331 450.99403578528825 L 461.66666666666669 450.79522862823063 L 462.0 450.79522862823063 L 462.33333333333331 450.79522862823063 L 462.66666666666669 450.79522862823063 L 462.99999999999994 450.79522862823063 L 463.33333333333337 450.79522862823063 L 463.66666666666669 450.79522862823063 L 464.0 450.79522862823063 L 464.33333333333331 450.79522862823063 L 464.66666666666663 450.79522862823063 L 465.0 450.79522862823063 L 465.33333333333331 450.59642147117296 L 465.66666666666669 450.59642147117296 L 465.99999999999994 450.59642147117296 L 466.33333333333331 450.59642147117296 L 466.66666666666669 450.59642147117296 L 467.0 450.59642147117296 L 467.33333333333331 450.59642147117296 L 467.66666666666669 450.59642147117296 L 467.99999999999994 450.59642147117296 L 468.33333333333337 450.59642147117296 L 468.66666666666669 450.59642147117296 L 469.0 450.39761431411529 L 469.33333333333331 450.39761431411529 L 469.66666666666674 450.39761431411529 L 470.0 450.39761431411529 L 470.33333333333331 450.39761431411529 L 470.66666666666669 450.39761431411529 L 470.99999999999994 450.39761431411529 L 471.33333333333337 450.39761431411529 L 471.66666666666669 450.39761431411529 L 472.0 450.39761431411529 L 472.33333333333331 450.39761431411529 L 472.66666666666669 450.39761431411529 L 473.0 450.19880715705762 L 473.33333333333337 450.19880715705762 L 473.66666666666669 450.19880715705762 L 474.0 450.19880715705762 L 474.33333333333331 450.19880715705762 L 474.66666666666669 450.19880715705762 L 475.0 450.19880715705762 L 475.33333333333331 450.19880715705762 L 475.66666666666669 450.19880715705762 L 475.99999999999994 450.19880715705762 L 476.33333333333337 450.19880715705762 L 476.66666666666669 450.19880715705762 L 477.0 450.0 L 477.33333333333331 450.0 L 477.66666666666663 450.0 L 478.0 450.0 L 478.33333333333337 450.0 L 478.66666666666663 450.0 L 479.0 450.0 L 479.33333333333331 450.0 L 479.66666666666669 450.0 L 480.0 450.0 L 480.33333333333331 450.0 L 480.66666666666663 450.0 L 480.99999999999994 450.0 L 481.33333333333337 450.0 L 481.66666666666663 450.0 L 482.0 450.0 L 482.33333333333331 450.0 L 482.66666666666663 450.0 L 483.0 450.0 L 483.33333333333337 450.0 L 483.66666666666663 450.0 L 484.0 450.0 L 484.33333333333337 450.0 L 484.66666666666669 450.0 L 485.0 450.0 L 485.33333333333331 450.0 L 485.66666666666663 450.0 L 486.0 450.0 L 486.33333333333337 450.0 L 486.66666666666663 450.0 L 487.0 450.0 L 487.33333333333331 450.0 L 487.66666666666669 450.0 L 488.0 450.0 L 488.33333333333337 450.0 L 488.66666666666663 450.0 L 489.0 450.0 L 489.33333333333337 450.0 L 489.66666666666669 450.0 L 490.0 450.0 L 490.33333333333331 450.0 L 490.66666666666663 450.0 L 491.0 450.0 L 491.33333333333337 450.0 L 491.66666666666663 450.0 L 492.0 450.0 L 492.33333333333337 450.0 L 492.66666666666669 450.0 L 493.0 450.0 L 493.33333333333337 450.0 L 493.66666666666663 450.0 L 494.00000000000006 450.0 L 494.33333333333337 450.0 L 494.66666666666669 450.0 L 495.0 450.0 L 495.33333333333331 450.0 L 495.66666666666669 450.0 L 496.0 450.0 L 496.33333333333337 450.0 L 496.66666666666663 450.0 L 497.0 450.0 L 497.33333333333337 450.0 L 497.66666666666669 450.0 L 498.0 450.0 L 498.33333333333331 450.0 L 498.66666666666663 450.0 L 499.00000000000006 450.0 L 499.33333333333331 450.0 L 499.66666666666669 450.0 L 500.0 450.0 L 500.33333333333331 450.0 L 500.66666666666669 450.0 L 501.0 450.0 L 501.33333333333331 450.0 L 501.66666666666663 450.0 L 502.0 450.0 L 502.33333333333331 450.0 L 502.66666666666669 450.0 L 503.0 450.0 L 503.33333333333331 450.0 L 503.66666666666663 450.0 L 504.00000000000006 450.0 L 504.33333333333331 450.0 L 504.66666666666669 450.0 L 505.0 450.0 L 505.33333333333326 450.0 L 505.66666666666669 450.0 L 506.0 450.0 L 506.33333333333331 450.0 L 506.66666666666663 450.0 L 507.00000000000006 450.0 L 507.33333333333331 450.0 L 507.66666666666669 450.0 L 508.0 450.0 L 508.33333333333331 450.0 L 508.66666666666669 450.0 L 509.00000000000006 450.0 L 509.33333333333331 450.0 L 509.66666666666669 450.0 L 510.0 450.0 L 510.33333333333337 450.0 L 510.66666666666669 450.0 L 511.0 450.0 L 511.33333333333331 450.0 L 511.66666666666663 450.0 L 512.0 450.0 L 512.33333333333337 450.0 L 512.66666666666663 450.0 L 513.0 450.0\" style=\"stroke:rgb(40%,76.1%,64.7%);stroke-opacity:1.0;stroke-width:2.0\"></path></g></g></g><g class=\"toyplot-coordinates-Axis\" id=\"t9fe5ec19aef94bcba7249f399bf9f0b1\" transform=\"translate(50.0,550.0)translate(0,10.0)\"><line style=\"\" x1=\"0\" x2=\"463.0\" y1=\"0\" y2=\"0\"></line><g><g transform=\"translate(0.0,6)\"><text style=\"fill:rgb(16.1%,15.3%,14.1%);fill-opacity:1.0;font-family:helvetica;font-size:10.0px;font-weight:normal;stroke:none;vertical-align:baseline;white-space:pre\" x=\"-2.78\" y=\"8.555\">0</text></g><g transform=\"translate(166.66666666666666,6)\"><text style=\"fill:rgb(16.1%,15.3%,14.1%);fill-opacity:1.0;font-family:helvetica;font-size:10.0px;font-weight:normal;stroke:none;vertical-align:baseline;white-space:pre\" x=\"-8.34\" y=\"8.555\">500</text></g><g transform=\"translate(333.3333333333333,6)\"><text style=\"fill:rgb(16.1%,15.3%,14.1%);fill-opacity:1.0;font-family:helvetica;font-size:10.0px;font-weight:normal;stroke:none;vertical-align:baseline;white-space:pre\" x=\"-11.12\" y=\"8.555\">1000</text></g><g transform=\"translate(500.0,6)\"><text style=\"fill:rgb(16.1%,15.3%,14.1%);fill-opacity:1.0;font-family:helvetica;font-size:10.0px;font-weight:normal;stroke:none;vertical-align:baseline;white-space:pre\" x=\"-11.12\" y=\"8.555\">1500</text></g></g><g class=\"toyplot-coordinates-Axis-coordinates\" style=\"visibility:hidden\" transform=\"\"><line style=\"stroke:rgb(43.9%,50.2%,56.5%);stroke-opacity:1.0;stroke-width:1.0\" x1=\"0\" x2=\"0\" y1=\"-3.0\" y2=\"4.5\"></line><text style=\"alignment-baseline:alphabetic;fill:rgb(43.9%,50.2%,56.5%);fill-opacity:1.0;font-size:10px;font-weight:normal;stroke:none;text-anchor:middle\" x=\"0\" y=\"-6\"></text></g></g><g class=\"toyplot-coordinates-Axis\" id=\"t858e44fe7c9042dda16d72001aa102e9\" transform=\"translate(50.0,550.0)rotate(-90.0)translate(0,-10.0)\"><line style=\"\" x1=\"0\" x2=\"100.0\" y1=\"0\" y2=\"0\"></line><g><g transform=\"translate(0.0,-6)\"><text style=\"fill:rgb(16.1%,15.3%,14.1%);fill-opacity:1.0;font-family:helvetica;font-size:10.0px;font-weight:normal;stroke:none;vertical-align:baseline;white-space:pre\" x=\"-2.78\" y=\"-4.4408920985e-16\">0</text></g><g transform=\"translate(19.880715705765407,-6)\"><text style=\"fill:rgb(16.1%,15.3%,14.1%);fill-opacity:1.0;font-family:helvetica;font-size:10.0px;font-weight:normal;stroke:none;vertical-align:baseline;white-space:pre\" x=\"-8.34\" y=\"-4.4408920985e-16\">100</text></g><g transform=\"translate(39.761431411530815,-6)\"><text style=\"fill:rgb(16.1%,15.3%,14.1%);fill-opacity:1.0;font-family:helvetica;font-size:10.0px;font-weight:normal;stroke:none;vertical-align:baseline;white-space:pre\" x=\"-8.34\" y=\"-4.4408920985e-16\">200</text></g><g transform=\"translate(59.64214711729622,-6)\"><text style=\"fill:rgb(16.1%,15.3%,14.1%);fill-opacity:1.0;font-family:helvetica;font-size:10.0px;font-weight:normal;stroke:none;vertical-align:baseline;white-space:pre\" x=\"-8.34\" y=\"-4.4408920985e-16\">300</text></g><g transform=\"translate(79.52286282306163,-6)\"><text style=\"fill:rgb(16.1%,15.3%,14.1%);fill-opacity:1.0;font-family:helvetica;font-size:10.0px;font-weight:normal;stroke:none;vertical-align:baseline;white-space:pre\" x=\"-8.34\" y=\"-4.4408920985e-16\">400</text></g><g transform=\"translate(99.40357852882704,-6)\"><text style=\"fill:rgb(16.1%,15.3%,14.1%);fill-opacity:1.0;font-family:helvetica;font-size:10.0px;font-weight:normal;stroke:none;vertical-align:baseline;white-space:pre\" x=\"-8.34\" y=\"-4.4408920985e-16\">500</text></g></g><g transform=\"translate(50.0,-22)\"><text style=\"fill:rgb(16.1%,15.3%,14.1%);fill-opacity:1.0;font-family:helvetica;font-size:12.0px;font-weight:bold;stroke:none;vertical-align:baseline;white-space:pre\" x=\"-40.332\" y=\"0.0\">Charge (mAH)</text></g><g class=\"toyplot-coordinates-Axis-coordinates\" style=\"visibility:hidden\" transform=\"\"><line style=\"stroke:rgb(43.9%,50.2%,56.5%);stroke-opacity:1.0;stroke-width:1.0\" x1=\"0\" x2=\"0\" y1=\"3.0\" y2=\"-4.5\"></line><text style=\"alignment-baseline:hanging;fill:rgb(43.9%,50.2%,56.5%);fill-opacity:1.0;font-size:10px;font-weight:normal;stroke:none;text-anchor:middle\" x=\"0\" y=\"6\"></text></g></g></g></svg><div class=\"toyplot-behavior\"><script>(function()\n",
       "{\n",
       "var modules={};\n",
       "modules[\"toyplot/tables\"] = (function()\n",
       "    {\n",
       "        var tables = [];\n",
       "\n",
       "        var module = {};\n",
       "\n",
       "        module.set = function(owner, key, names, columns)\n",
       "        {\n",
       "            tables.push({owner: owner, key: key, names: names, columns: columns});\n",
       "        }\n",
       "\n",
       "        module.get = function(owner, key)\n",
       "        {\n",
       "            for(var i = 0; i != tables.length; ++i)\n",
       "            {\n",
       "                var table = tables[i];\n",
       "                if(table.owner != owner)\n",
       "                    continue;\n",
       "                if(table.key != key)\n",
       "                    continue;\n",
       "                return {names: table.names, columns: table.columns};\n",
       "            }\n",
       "        }\n",
       "\n",
       "        module.get_csv = function(owner, key)\n",
       "        {\n",
       "            var table = module.get(owner, key);\n",
       "            if(table != undefined)\n",
       "            {\n",
       "                var csv = \"\";\n",
       "                csv += table.names.join(\",\") + \"\\n\";\n",
       "                for(var i = 0; i != table.columns[0].length; ++i)\n",
       "                {\n",
       "                  for(var j = 0; j != table.columns.length; ++j)\n",
       "                  {\n",
       "                    if(j)\n",
       "                      csv += \",\";\n",
       "                    csv += table.columns[j][i];\n",
       "                  }\n",
       "                  csv += \"\\n\";\n",
       "                }\n",
       "                return csv;\n",
       "            }\n",
       "        }\n",
       "\n",
       "        return module;\n",
       "    })();\n",
       "modules[\"toyplot/root/id\"] = \"tb51932f43092424cbbb352bea8d2872c\";\n",
       "modules[\"toyplot/root\"] = (function(root_id)\n",
       "    {\n",
       "        return document.querySelector(\"#\" + root_id);\n",
       "    })(modules[\"toyplot/root/id\"]);\n",
       "modules[\"toyplot/canvas/id\"] = \"tc21c8a8704a3470395c5a62e055bdb3e\";\n",
       "modules[\"toyplot/canvas\"] = (function(canvas_id)\n",
       "    {\n",
       "        return document.querySelector(\"#\" + canvas_id);\n",
       "    })(modules[\"toyplot/canvas/id\"]);\n",
       "modules[\"toyplot/menus/context\"] = (function(root, canvas)\n",
       "    {\n",
       "        var wrapper = document.createElement(\"div\");\n",
       "        wrapper.innerHTML = \"<ul class='toyplot-context-menu' style='background:#eee; border:1px solid #b8b8b8; border-radius:5px; box-shadow: 0px 0px 8px rgba(0%,0%,0%,0.25); margin:0; padding:3px 0; position:fixed; visibility:hidden;'></ul>\"\n",
       "        var menu = wrapper.firstChild;\n",
       "\n",
       "        root.appendChild(menu);\n",
       "\n",
       "        var items = [];\n",
       "\n",
       "        var ignore_mouseup = null;\n",
       "        function open_menu(e)\n",
       "        {\n",
       "            var show_menu = false;\n",
       "            for(var index=0; index != items.length; ++index)\n",
       "            {\n",
       "                var item = items[index];\n",
       "                if(item.show(e))\n",
       "                {\n",
       "                    item.item.style.display = \"block\";\n",
       "                    show_menu = true;\n",
       "                }\n",
       "                else\n",
       "                {\n",
       "                    item.item.style.display = \"none\";\n",
       "                }\n",
       "            }\n",
       "\n",
       "            if(show_menu)\n",
       "            {\n",
       "                ignore_mouseup = true;\n",
       "                menu.style.left = (e.clientX + 1) + \"px\";\n",
       "                menu.style.top = (e.clientY - 5) + \"px\";\n",
       "                menu.style.visibility = \"visible\";\n",
       "                e.stopPropagation();\n",
       "                e.preventDefault();\n",
       "            }\n",
       "        }\n",
       "\n",
       "        function close_menu()\n",
       "        {\n",
       "            menu.style.visibility = \"hidden\";\n",
       "        }\n",
       "\n",
       "        function contextmenu(e)\n",
       "        {\n",
       "            open_menu(e);\n",
       "        }\n",
       "\n",
       "        function mousemove(e)\n",
       "        {\n",
       "            ignore_mouseup = false;\n",
       "        }\n",
       "\n",
       "        function mouseup(e)\n",
       "        {\n",
       "            if(ignore_mouseup)\n",
       "            {\n",
       "                ignore_mouseup = false;\n",
       "                return;\n",
       "            }\n",
       "            close_menu();\n",
       "        }\n",
       "\n",
       "        function keydown(e)\n",
       "        {\n",
       "            if(e.key == \"Escape\" || e.key == \"Esc\" || e.keyCode == 27)\n",
       "            {\n",
       "                close_menu();\n",
       "            }\n",
       "        }\n",
       "\n",
       "        canvas.addEventListener(\"contextmenu\", contextmenu);\n",
       "        canvas.addEventListener(\"mousemove\", mousemove);\n",
       "        document.addEventListener(\"mouseup\", mouseup);\n",
       "        document.addEventListener(\"keydown\", keydown);\n",
       "\n",
       "        var module = {};\n",
       "        module.add_item = function(label, show, activate)\n",
       "        {\n",
       "            var wrapper = document.createElement(\"div\");\n",
       "            wrapper.innerHTML = \"<li class='toyplot-context-menu-item' style='background:#eee; color:#333; padding:2px 20px; list-style:none; margin:0; text-align:left;'>\" + label + \"</li>\"\n",
       "            var item = wrapper.firstChild;\n",
       "\n",
       "            items.push({item: item, show: show});\n",
       "\n",
       "            function mouseover()\n",
       "            {\n",
       "                this.style.background = \"steelblue\";\n",
       "                this.style.color = \"white\";\n",
       "            }\n",
       "\n",
       "            function mouseout()\n",
       "            {\n",
       "                this.style.background = \"#eee\";\n",
       "                this.style.color = \"#333\";\n",
       "            }\n",
       "\n",
       "            function choose_item(e)\n",
       "            {\n",
       "                close_menu();\n",
       "                activate();\n",
       "\n",
       "                e.stopPropagation();\n",
       "                e.preventDefault();\n",
       "            }\n",
       "\n",
       "            item.addEventListener(\"mouseover\", mouseover);\n",
       "            item.addEventListener(\"mouseout\", mouseout);\n",
       "            item.addEventListener(\"mouseup\", choose_item);\n",
       "            item.addEventListener(\"contextmenu\", choose_item);\n",
       "\n",
       "            menu.appendChild(item);\n",
       "        };\n",
       "        return module;\n",
       "    })(modules[\"toyplot/root\"],modules[\"toyplot/canvas\"]);\n",
       "modules[\"toyplot/io\"] = (function()\n",
       "    {\n",
       "        var module = {};\n",
       "        module.save_file = function(mime_type, charset, data, filename)\n",
       "        {\n",
       "            var uri = \"data:\" + mime_type + \";charset=\" + charset + \",\" + data;\n",
       "            uri = encodeURI(uri);\n",
       "\n",
       "            var link = document.createElement(\"a\");\n",
       "            if(typeof link.download != \"undefined\")\n",
       "            {\n",
       "              link.href = uri;\n",
       "              link.style = \"visibility:hidden\";\n",
       "              link.download = filename;\n",
       "\n",
       "              document.body.appendChild(link);\n",
       "              link.click();\n",
       "              document.body.removeChild(link);\n",
       "            }\n",
       "            else\n",
       "            {\n",
       "              window.open(uri);\n",
       "            }\n",
       "        };\n",
       "        return module;\n",
       "    })();\n",
       "modules[\"toyplot.coordinates.Axis\"] = (\n",
       "        function(canvas)\n",
       "        {\n",
       "            function sign(x)\n",
       "            {\n",
       "                return x < 0 ? -1 : x > 0 ? 1 : 0;\n",
       "            }\n",
       "\n",
       "            function mix(a, b, amount)\n",
       "            {\n",
       "                return ((1.0 - amount) * a) + (amount * b);\n",
       "            }\n",
       "\n",
       "            function log(x, base)\n",
       "            {\n",
       "                return Math.log(Math.abs(x)) / Math.log(base);\n",
       "            }\n",
       "\n",
       "            function in_range(a, x, b)\n",
       "            {\n",
       "                var left = Math.min(a, b);\n",
       "                var right = Math.max(a, b);\n",
       "                return left <= x && x <= right;\n",
       "            }\n",
       "\n",
       "            function inside(range, projection)\n",
       "            {\n",
       "                for(var i = 0; i != projection.length; ++i)\n",
       "                {\n",
       "                    var segment = projection[i];\n",
       "                    if(in_range(segment.range.min, range, segment.range.max))\n",
       "                        return true;\n",
       "                }\n",
       "                return false;\n",
       "            }\n",
       "\n",
       "            function to_domain(range, projection)\n",
       "            {\n",
       "                for(var i = 0; i != projection.length; ++i)\n",
       "                {\n",
       "                    var segment = projection[i];\n",
       "                    if(in_range(segment.range.bounds.min, range, segment.range.bounds.max))\n",
       "                    {\n",
       "                        if(segment.scale == \"linear\")\n",
       "                        {\n",
       "                            var amount = (range - segment.range.min) / (segment.range.max - segment.range.min);\n",
       "                            return mix(segment.domain.min, segment.domain.max, amount)\n",
       "                        }\n",
       "                        else if(segment.scale[0] == \"log\")\n",
       "                        {\n",
       "                            var amount = (range - segment.range.min) / (segment.range.max - segment.range.min);\n",
       "                            var base = segment.scale[1];\n",
       "                            return sign(segment.domain.min) * Math.pow(base, mix(log(segment.domain.min, base), log(segment.domain.max, base), amount));\n",
       "                        }\n",
       "                    }\n",
       "                }\n",
       "            }\n",
       "\n",
       "            var axes = {};\n",
       "\n",
       "            function display_coordinates(e)\n",
       "            {\n",
       "                var current = canvas.createSVGPoint();\n",
       "                current.x = e.clientX;\n",
       "                current.y = e.clientY;\n",
       "\n",
       "                for(var axis_id in axes)\n",
       "                {\n",
       "                    var axis = document.querySelector(\"#\" + axis_id);\n",
       "                    var coordinates = axis.querySelector(\".toyplot-coordinates-Axis-coordinates\");\n",
       "                    if(coordinates)\n",
       "                    {\n",
       "                        var projection = axes[axis_id];\n",
       "                        var local = current.matrixTransform(axis.getScreenCTM().inverse());\n",
       "                        if(inside(local.x, projection))\n",
       "                        {\n",
       "                            var domain = to_domain(local.x, projection);\n",
       "                            coordinates.style.visibility = \"visible\";\n",
       "                            coordinates.setAttribute(\"transform\", \"translate(\" + local.x + \")\");\n",
       "                            var text = coordinates.querySelector(\"text\");\n",
       "                            text.textContent = domain.toFixed(2);\n",
       "                        }\n",
       "                        else\n",
       "                        {\n",
       "                            coordinates.style.visibility= \"hidden\";\n",
       "                        }\n",
       "                    }\n",
       "                }\n",
       "            }\n",
       "\n",
       "            canvas.addEventListener(\"click\", display_coordinates);\n",
       "\n",
       "            var module = {};\n",
       "            module.show_coordinates = function(axis_id, projection)\n",
       "            {\n",
       "                axes[axis_id] = projection;\n",
       "            }\n",
       "\n",
       "            return module;\n",
       "        })(modules[\"toyplot/canvas\"]);\n",
       "(function(tables, context_menu, io, owner_id, key, label, names, columns, filename)\n",
       "        {\n",
       "            tables.set(owner_id, key, names, columns);\n",
       "\n",
       "            var owner = document.querySelector(\"#\" + owner_id);\n",
       "            function show_item(e)\n",
       "            {\n",
       "                return owner.contains(e.target);\n",
       "            }\n",
       "\n",
       "            function choose_item()\n",
       "            {\n",
       "                io.save_file(\"text/csv\", \"utf-8\", tables.get_csv(owner_id, key), filename + \".csv\");\n",
       "            }\n",
       "\n",
       "            context_menu.add_item(\"Save \" + label + \" as CSV\", show_item, choose_item);\n",
       "        })(modules[\"toyplot/tables\"],modules[\"toyplot/menus/context\"],modules[\"toyplot/io\"],\"t3c8b7743da824abb98c6d944cd4db899\",\"data\",\"plot data\",[\"x\", \"y0\"],[[0, 1, 2, 3, 4, 5, 6, 7, 8, 9, 10, 11, 12, 13, 14, 15, 16, 17, 18, 19, 20, 21, 22, 23, 24, 25, 26, 27, 28, 29, 30, 31, 32, 33, 34, 35, 36, 37, 38, 39, 40, 41, 42, 43, 44, 45, 46, 47, 48, 49, 50, 51, 52, 53, 54, 55, 56, 57, 58, 59, 60, 61, 62, 63, 64, 65, 66, 67, 68, 69, 70, 71, 72, 73, 74, 75, 76, 77, 78, 79, 80, 81, 82, 83, 84, 85, 86, 87, 88, 89, 90, 91, 92, 93, 94, 95, 96, 97, 98, 99, 100, 101, 102, 103, 104, 105, 106, 107, 108, 109, 110, 111, 112, 113, 114, 115, 116, 117, 118, 119, 120, 121, 122, 123, 124, 125, 126, 127, 128, 129, 130, 131, 132, 133, 134, 135, 136, 137, 138, 139, 140, 141, 142, 143, 144, 145, 146, 147, 148, 149, 150, 151, 152, 153, 154, 155, 156, 157, 158, 159, 160, 161, 162, 163, 164, 165, 166, 167, 168, 169, 170, 171, 172, 173, 174, 175, 176, 177, 178, 179, 180, 181, 182, 183, 184, 185, 186, 187, 188, 189, 190, 191, 192, 193, 194, 195, 196, 197, 198, 199, 200, 201, 202, 203, 204, 205, 206, 207, 208, 209, 210, 211, 212, 213, 214, 215, 216, 217, 218, 219, 220, 221, 222, 223, 224, 225, 226, 227, 228, 229, 230, 231, 232, 233, 234, 235, 236, 237, 238, 239, 240, 241, 242, 243, 244, 245, 246, 247, 248, 249, 250, 251, 252, 253, 254, 255, 256, 257, 258, 259, 260, 261, 262, 263, 264, 265, 266, 267, 268, 269, 270, 271, 272, 273, 274, 275, 276, 277, 278, 279, 280, 281, 282, 283, 284, 285, 286, 287, 288, 289, 290, 291, 292, 293, 294, 295, 296, 297, 298, 299, 300, 301, 302, 303, 304, 305, 306, 307, 308, 309, 310, 311, 312, 313, 314, 315, 316, 317, 318, 319, 320, 321, 322, 323, 324, 325, 326, 327, 328, 329, 330, 331, 332, 333, 334, 335, 336, 337, 338, 339, 340, 341, 342, 343, 344, 345, 346, 347, 348, 349, 350, 351, 352, 353, 354, 355, 356, 357, 358, 359, 360, 361, 362, 363, 364, 365, 366, 367, 368, 369, 370, 371, 372, 373, 374, 375, 376, 377, 378, 379, 380, 381, 382, 383, 384, 385, 386, 387, 388, 389, 390, 391, 392, 393, 394, 395, 396, 397, 398, 399, 400, 401, 402, 403, 404, 405, 406, 407, 408, 409, 410, 411, 412, 413, 414, 415, 416, 417, 418, 419, 420, 421, 422, 423, 424, 425, 426, 427, 428, 429, 430, 431, 432, 433, 434, 435, 436, 437, 438, 439, 440, 441, 442, 443, 444, 445, 446, 447, 448, 449, 450, 451, 452, 453, 454, 455, 456, 457, 458, 459, 460, 461, 462, 463, 464, 465, 466, 467, 468, 469, 470, 471, 472, 473, 474, 475, 476, 477, 478, 479, 480, 481, 482, 483, 484, 485, 486, 487, 488, 489, 490, 491, 492, 493, 494, 495, 496, 497, 498, 499, 500, 501, 502, 503, 504, 505, 506, 507, 508, 509, 510, 511, 512, 513, 514, 515, 516, 517, 518, 519, 520, 521, 522, 523, 524, 525, 526, 527, 528, 529, 530, 531, 532, 533, 534, 535, 536, 537, 538, 539, 540, 541, 542, 543, 544, 545, 546, 547, 548, 549, 550, 551, 552, 553, 554, 555, 556, 557, 558, 559, 560, 561, 562, 563, 564, 565, 566, 567, 568, 569, 570, 571, 572, 573, 574, 575, 576, 577, 578, 579, 580, 581, 582, 583, 584, 585, 586, 587, 588, 589, 590, 591, 592, 593, 594, 595, 596, 597, 598, 599, 600, 601, 602, 603, 604, 605, 606, 607, 608, 609, 610, 611, 612, 613, 614, 615, 616, 617, 618, 619, 620, 621, 622, 623, 624, 625, 626, 627, 628, 629, 630, 631, 632, 633, 634, 635, 636, 637, 638, 639, 640, 641, 642, 643, 644, 645, 646, 647, 648, 649, 650, 651, 652, 653, 654, 655, 656, 657, 658, 659, 660, 661, 662, 663, 664, 665, 666, 667, 668, 669, 670, 671, 672, 673, 674, 675, 676, 677, 678, 679, 680, 681, 682, 683, 684, 685, 686, 687, 688, 689, 690, 691, 692, 693, 694, 695, 696, 697, 698, 699, 700, 701, 702, 703, 704, 705, 706, 707, 708, 709, 710, 711, 712, 713, 714, 715, 716, 717, 718, 719, 720, 721, 722, 723, 724, 725, 726, 727, 728, 729, 730, 731, 732, 733, 734, 735, 736, 737, 738, 739, 740, 741, 742, 743, 744, 745, 746, 747, 748, 749, 750, 751, 752, 753, 754, 755, 756, 757, 758, 759, 760, 761, 762, 763, 764, 765, 766, 767, 768, 769, 770, 771, 772, 773, 774, 775, 776, 777, 778, 779, 780, 781, 782, 783, 784, 785, 786, 787, 788, 789, 790, 791, 792, 793, 794, 795, 796, 797, 798, 799, 800, 801, 802, 803, 804, 805, 806, 807, 808, 809, 810, 811, 812, 813, 814, 815, 816, 817, 818, 819, 820, 821, 822, 823, 824, 825, 826, 827, 828, 829, 830, 831, 832, 833, 834, 835, 836, 837, 838, 839, 840, 841, 842, 843, 844, 845, 846, 847, 848, 849, 850, 851, 852, 853, 854, 855, 856, 857, 858, 859, 860, 861, 862, 863, 864, 865, 866, 867, 868, 869, 870, 871, 872, 873, 874, 875, 876, 877, 878, 879, 880, 881, 882, 883, 884, 885, 886, 887, 888, 889, 890, 891, 892, 893, 894, 895, 896, 897, 898, 899, 900, 901, 902, 903, 904, 905, 906, 907, 908, 909, 910, 911, 912, 913, 914, 915, 916, 917, 918, 919, 920, 921, 922, 923, 924, 925, 926, 927, 928, 929, 930, 931, 932, 933, 934, 935, 936, 937, 938, 939, 940, 941, 942, 943, 944, 945, 946, 947, 948, 949, 950, 951, 952, 953, 954, 955, 956, 957, 958, 959, 960, 961, 962, 963, 964, 965, 966, 967, 968, 969, 970, 971, 972, 973, 974, 975, 976, 977, 978, 979, 980, 981, 982, 983, 984, 985, 986, 987, 988, 989, 990, 991, 992, 993, 994, 995, 996, 997, 998, 999, 1000, 1001, 1002, 1003, 1004, 1005, 1006, 1007, 1008, 1009, 1010, 1011, 1012, 1013, 1014, 1015, 1016, 1017, 1018, 1019, 1020, 1021, 1022, 1023, 1024, 1025, 1026, 1027, 1028, 1029, 1030, 1031, 1032, 1033, 1034, 1035, 1036, 1037, 1038, 1039, 1040, 1041, 1042, 1043, 1044, 1045, 1046, 1047, 1048, 1049, 1050, 1051, 1052, 1053, 1054, 1055, 1056, 1057, 1058, 1059, 1060, 1061, 1062, 1063, 1064, 1065, 1066, 1067, 1068, 1069, 1070, 1071, 1072, 1073, 1074, 1075, 1076, 1077, 1078, 1079, 1080, 1081, 1082, 1083, 1084, 1085, 1086, 1087, 1088, 1089, 1090, 1091, 1092, 1093, 1094, 1095, 1096, 1097, 1098, 1099, 1100, 1101, 1102, 1103, 1104, 1105, 1106, 1107, 1108, 1109, 1110, 1111, 1112, 1113, 1114, 1115, 1116, 1117, 1118, 1119, 1120, 1121, 1122, 1123, 1124, 1125, 1126, 1127, 1128, 1129, 1130, 1131, 1132, 1133, 1134, 1135, 1136, 1137, 1138, 1139, 1140, 1141, 1142, 1143, 1144, 1145, 1146, 1147, 1148, 1149, 1150, 1151, 1152, 1153, 1154, 1155, 1156, 1157, 1158, 1159, 1160, 1161, 1162, 1163, 1164, 1165, 1166, 1167, 1168, 1169, 1170, 1171, 1172, 1173, 1174, 1175, 1176, 1177, 1178, 1179, 1180, 1181, 1182, 1183, 1184, 1185, 1186, 1187, 1188, 1189, 1190, 1191, 1192, 1193, 1194, 1195, 1196, 1197, 1198, 1199, 1200, 1201, 1202, 1203, 1204, 1205, 1206, 1207, 1208, 1209, 1210, 1211, 1212, 1213, 1214, 1215, 1216, 1217, 1218, 1219, 1220, 1221, 1222, 1223, 1224, 1225, 1226, 1227, 1228, 1229, 1230, 1231, 1232, 1233, 1234, 1235, 1236, 1237, 1238, 1239, 1240, 1241, 1242, 1243, 1244, 1245, 1246, 1247, 1248, 1249, 1250, 1251, 1252, 1253, 1254, 1255, 1256, 1257, 1258, 1259, 1260, 1261, 1262, 1263, 1264, 1265, 1266, 1267, 1268, 1269, 1270, 1271, 1272, 1273, 1274, 1275, 1276, 1277, 1278, 1279, 1280, 1281, 1282, 1283, 1284, 1285, 1286, 1287, 1288, 1289, 1290, 1291, 1292, 1293, 1294, 1295, 1296, 1297, 1298, 1299, 1300, 1301, 1302, 1303, 1304, 1305, 1306, 1307, 1308, 1309, 1310, 1311, 1312, 1313, 1314, 1315, 1316, 1317, 1318, 1319, 1320, 1321, 1322, 1323, 1324, 1325, 1326, 1327, 1328, 1329, 1330, 1331, 1332, 1333, 1334, 1335, 1336, 1337, 1338, 1339, 1340, 1341, 1342, 1343, 1344, 1345, 1346, 1347, 1348, 1349, 1350, 1351, 1352, 1353, 1354, 1355, 1356, 1357, 1358, 1359, 1360, 1361, 1362, 1363, 1364, 1365, 1366, 1367, 1368, 1369, 1370, 1371, 1372, 1373, 1374, 1375, 1376, 1377, 1378, 1379, 1380, 1381, 1382, 1383, 1384, 1385, 1386, 1387, 1388, 1389], [3.874, 3.875, 3.877, 3.877, 3.877, 3.877, 3.878, 3.879, 3.879, 3.879, 3.881, 3.881, 3.881, 3.886, 3.888, 3.884, 3.884, 3.888, 3.888, 3.888, 3.886, 3.888, 3.886, 3.888, 3.886, 3.897, 3.888, 3.888, 3.888, 3.888, 3.888, 3.888, 3.888, 3.889, 3.891, 3.889, 3.891, 3.891, 3.891, 3.891, 3.891, 3.891, 3.891, 3.896, 3.895, 3.893, 3.893, 3.893, 3.893, 3.895, 3.897, 3.899, 3.897, 3.899, 3.897, 3.897, 3.897, 3.897, 3.897, 3.897, 3.897, 3.897, 3.899, 3.897, 3.899, 3.899, 3.908, 3.897, 3.899, 3.899, 3.899, 3.91, 3.908, 3.899, 3.899, 3.899, 3.899, 3.899, 3.899, 3.9, 3.899, 3.899, 3.899, 3.899, 3.9, 3.9, 3.9, 3.9, 3.902, 3.902, 3.902, 3.9, 3.907, 3.903, 3.903, 3.903, 3.903, 3.904, 3.904, 3.91, 3.904, 3.904, 3.904, 3.904, 3.904, 3.908, 3.906, 3.904, 3.908, 3.906, 3.904, 3.906, 3.906, 3.91, 3.907, 3.907, 3.907, 3.91, 3.908, 3.91, 3.908, 3.91, 3.91, 3.907, 3.91, 3.908, 3.91, 3.908, 3.91, 3.91, 3.91, 3.908, 3.899, 3.91, 3.91, 3.91, 3.91, 3.91, 3.91, 3.91, 3.91, 3.91, 3.91, 3.911, 3.913, 3.91, 3.913, 3.911, 3.913, 3.913, 3.914, 3.911, 3.914, 3.913, 3.913, 3.913, 3.911, 3.913, 3.913, 3.914, 3.914, 3.915, 3.915, 3.915, 3.917, 3.919, 3.917, 3.917, 3.917, 3.915, 3.919, 3.917, 3.917, 3.917, 3.919, 3.919, 3.919, 3.919, 3.919, 3.932, 3.919, 3.932, 3.921, 3.921, 3.921, 3.919, 3.932, 3.921, 3.919, 3.921, 3.921, 3.921, 3.93, 3.921, 3.921, 3.921, 3.921, 3.921, 3.921, 3.921, 3.924, 3.922, 3.922, 3.924, 3.922, 3.924, 3.924, 3.924, 3.924, 3.924, 3.925, 3.926, 3.926, 3.926, 3.926, 3.926, 3.926, 3.925, 3.926, 3.926, 3.93, 3.928, 3.929, 3.929, 3.929, 3.932, 3.932, 3.93, 3.93, 3.93, 3.93, 3.932, 3.93, 3.929, 3.932, 3.93, 3.932, 3.93, 3.932, 3.932, 3.94, 3.932, 3.939, 3.932, 3.932, 3.932, 3.932, 3.932, 3.932, 3.932, 3.932, 3.933, 3.935, 3.933, 3.935, 3.936, 3.935, 3.935, 3.936, 3.936, 3.936, 3.936, 3.936, 3.937, 3.936, 3.937, 3.937, 3.94, 3.941, 3.941, 3.939, 3.939, 3.939, 3.943, 3.94, 3.941, 3.954, 3.943, 3.941, 3.943, 3.943, 3.954, 3.941, 3.943, 3.941, 3.943, 3.941, 3.943, 3.943, 3.944, 3.943, 3.946, 3.944, 3.946, 3.946, 3.946, 3.944, 3.946, 3.946, 3.946, 3.947, 3.947, 3.948, 3.952, 3.95, 3.947, 3.95, 3.95, 3.952, 3.948, 3.962, 3.952, 3.951, 3.954, 3.954, 3.954, 3.952, 3.962, 3.952, 3.954, 3.954, 3.954, 3.954, 3.954, 3.954, 3.955, 3.957, 3.961, 3.965, 3.954, 3.954, 3.957, 3.955, 3.955, 3.955, 3.957, 3.955, 3.958, 3.959, 3.963, 3.959, 3.959, 3.959, 3.958, 3.963, 3.963, 3.963, 3.961, 3.974, 3.963, 3.963, 3.972, 3.965, 3.963, 3.973, 3.965, 3.965, 3.966, 3.966, 3.965, 3.966, 3.965, 3.968, 3.965, 3.968, 3.966, 3.966, 3.965, 3.97, 3.969, 3.97, 3.969, 3.974, 3.968, 3.974, 3.972, 3.973, 3.97, 3.973, 3.974, 3.98, 3.976, 3.973, 3.983, 3.986, 3.974, 3.974, 3.984, 3.976, 3.976, 3.981, 3.983, 3.984, 3.976, 3.976, 3.976, 3.976, 3.976, 3.976, 3.976, 3.977, 3.976, 3.979, 3.976, 3.977, 3.977, 3.976, 3.986, 3.98, 3.986, 3.983, 3.986, 3.987, 3.986, 3.983, 3.997, 3.986, 3.994, 3.988, 3.987, 3.986, 3.987, 3.987, 3.987, 3.987, 3.988, 3.987, 3.988, 3.991, 3.99, 3.987, 3.988, 3.997, 3.991, 3.992, 3.994, 3.992, 3.997, 3.995, 3.992, 3.994, 3.997, 3.995, 3.998, 3.997, 3.998, 3.997, 3.998, 3.987, 4.006, 3.998, 3.998, 3.997, 4.006, 4.001, 4.001, 4.001, 3.999, 4.001, 3.999, 3.999, 4.001, 4.001, 4.001, 4.001, 4.001, 4.003, 4.003, 4.008, 4.005, 4.006, 4.009, 4.006, 4.009, 4.006, 4.008, 4.006, 4.006, 4.008, 4.009, 4.009, 4.009, 4.009, 4.012, 4.01, 4.01, 4.009, 4.009, 4.009, 4.01, 4.012, 4.012, 4.01, 4.013, 4.01, 4.013, 4.013, 4.013, 4.014, 4.013, 4.014, 4.02, 4.016, 4.016, 4.019, 4.019, 4.02, 4.02, 4.019, 4.02, 4.019, 4.02, 4.019, 4.02, 4.02, 4.02, 4.02, 4.02, 4.02, 4.02, 4.021, 4.021, 4.021, 4.021, 4.021, 4.023, 4.023, 4.023, 4.023, 4.023, 4.025, 4.025, 4.025, 4.025, 4.025, 4.025, 4.025, 4.027, 4.031, 4.03, 4.03, 4.031, 4.028, 4.031, 4.03, 4.031, 4.03, 4.041, 4.042, 4.038, 4.031, 4.031, 4.031, 4.031, 4.031, 4.034, 4.035, 4.036, 4.036, 4.036, 4.036, 4.036, 4.039, 4.041, 4.039, 4.038, 4.041, 4.041, 4.042, 4.042, 4.041, 4.042, 4.042, 4.042, 4.049, 4.042, 4.042, 4.042, 4.042, 4.043, 4.043, 4.045, 4.046, 4.045, 4.043, 4.043, 4.046, 4.046, 4.047, 4.052, 4.049, 4.052, 4.05, 4.053, 4.053, 4.06, 4.053, 4.052, 4.053, 4.053, 4.053, 4.053, 4.053, 4.053, 4.063, 4.053, 4.053, 4.053, 4.054, 4.054, 4.056, 4.058, 4.057, 4.057, 4.064, 4.061, 4.063, 4.064, 4.064, 4.063, 4.064, 4.063, 4.064, 4.064, 4.064, 4.064, 4.064, 4.064, 4.064, 4.064, 4.064, 4.064, 4.064, 4.064, 4.071, 4.075, 4.074, 4.064, 4.064, 4.071, 4.064, 4.064, 4.067, 4.07, 4.068, 4.068, 4.071, 4.07, 4.074, 4.071, 4.072, 4.075, 4.072, 4.072, 4.082, 4.075, 4.075, 4.082, 4.075, 4.075, 4.075, 4.075, 4.075, 4.075, 4.075, 4.085, 4.074, 4.075, 4.086, 4.075, 4.075, 4.085, 4.079, 4.078, 4.079, 4.082, 4.082, 4.086, 4.081, 4.081, 4.076, 4.078, 4.086, 4.083, 4.083, 4.085, 4.082, 4.082, 4.085, 4.075, 4.083, 4.092, 4.083, 4.092, 4.097, 4.076, 4.086, 4.086, 4.086, 4.087, 4.086, 4.086, 4.087, 4.086, 4.086, 4.086, 4.087, 4.086, 4.087, 4.086, 4.087, 4.087, 4.089, 4.093, 4.092, 4.096, 4.092, 4.092, 4.092, 4.093, 4.092, 4.093, 4.097, 4.097, 4.107, 4.097, 4.097, 4.104, 4.086, 4.097, 4.096, 4.097, 4.097, 4.096, 4.103, 4.101, 4.096, 4.105, 4.101, 4.098, 4.098, 4.098, 4.1, 4.1, 4.098, 4.1, 4.101, 4.103, 4.101, 4.101, 4.107, 4.108, 4.105, 4.105, 4.104, 4.105, 4.105, 4.108, 4.108, 4.108, 4.118, 4.108, 4.108, 4.119, 4.108, 4.108, 4.108, 4.108, 4.116, 4.112, 4.111, 4.116, 4.112, 4.112, 4.112, 4.114, 4.112, 4.114, 4.116, 4.115, 4.119, 4.115, 4.119, 4.119, 4.118, 4.119, 4.119, 4.119, 4.119, 4.129, 4.119, 4.119, 4.12, 4.122, 4.122, 4.122, 4.123, 4.123, 4.125, 4.125, 4.125, 4.129, 4.129, 4.129, 4.13, 4.129, 4.13, 4.13, 4.141, 4.141, 4.13, 4.141, 4.141, 4.141, 4.141, 4.141, 4.141, 4.141, 4.141, 4.141, 4.141, 4.141, 4.141, 4.141, 4.141, 4.141, 4.141, 4.141, 4.141, 4.141, 4.141, 4.148, 4.152, 4.141, 4.147, 4.14, 4.14, 4.141, 4.141, 4.141, 4.149, 4.141, 4.14, 4.141, 4.14, 4.141, 4.148, 4.141, 4.141, 4.141, 4.141, 4.141, 4.141, 4.14, 4.141, 4.141, 4.141, 4.141, 4.141, 4.141, 4.141, 4.141, 4.141, 4.141, 4.141, 4.147, 4.141, 4.141, 4.141, 4.141, 4.141, 4.141, 4.141, 4.151, 4.141, 4.141, 4.141, 4.152, 4.148, 4.141, 4.141, 4.141, 4.141, 4.141, 4.14, 4.148, 4.148, 4.141, 4.141, 4.141, 4.141, 4.141, 4.141, 4.141, 4.151, 4.141, 4.141, 4.141, 4.141, 4.141, 4.148, 4.141, 4.141, 4.141, 4.141, 4.14, 4.141, 4.141, 4.141, 4.141, 4.141, 4.141, 4.141, 4.148, 4.141, 4.141, 4.14, 4.141, 4.141, 4.141, 4.141, 4.141, 4.141, 4.141, 4.141, 4.141, 4.141, 4.141, 4.141, 4.141, 4.141, 4.141, 4.141, 4.141, 4.141, 4.141, 4.141, 4.141, 4.141, 4.141, 4.141, 4.141, 4.141, 4.141, 4.141, 4.141, 4.141, 4.141, 4.141, 4.141, 4.141, 4.141, 4.141, 4.141, 4.14, 4.141, 4.14, 4.141, 4.14, 4.141, 4.141, 4.141, 4.149, 4.14, 4.141, 4.141, 4.141, 4.141, 4.149, 4.147, 4.141, 4.141, 4.141, 4.141, 4.14, 4.141, 4.141, 4.151, 4.141, 4.148, 4.141, 4.149, 4.141, 4.141, 4.141, 4.133, 4.141, 4.151, 4.141, 4.141, 4.141, 4.148, 4.14, 4.141, 4.14, 4.141, 4.141, 4.14, 4.141, 4.141, 4.141, 4.14, 4.141, 4.141, 4.141, 4.141, 4.141, 4.141, 4.141, 4.141, 4.141, 4.141, 4.141, 4.141, 4.141, 4.14, 4.141, 4.14, 4.152, 4.141, 4.14, 4.14, 4.151, 4.141, 4.141, 4.14, 4.141, 4.149, 4.141, 4.141, 4.14, 4.149, 4.141, 4.141, 4.149, 4.141, 4.141, 4.141, 4.141, 4.141, 4.141, 4.141, 4.141, 4.151, 4.141, 4.141, 4.141, 4.141, 4.141, 4.141, 4.141, 4.148, 4.14, 4.141, 4.141, 4.141, 4.149, 4.141, 4.141, 4.14, 4.141, 4.141, 4.141, 4.141, 4.141, 4.141, 4.141, 4.141, 4.141, 4.141, 4.14, 4.141, 4.149, 4.141, 4.141, 4.141, 4.141, 4.141, 4.141, 4.149, 4.141, 4.141, 4.141, 4.141, 4.141, 4.141, 4.141, 4.14, 4.141, 4.141, 4.14, 4.141, 4.141, 4.141, 4.141, 4.141, 4.141, 4.141, 4.141, 4.141, 4.141, 4.141, 4.141, 4.141, 4.141, 4.141, 4.141, 4.141, 4.141, 4.141, 4.141, 4.141, 4.141, 4.141, 4.141, 4.141, 4.141, 4.141, 4.141, 4.141, 4.141, 4.141, 4.141, 4.141, 4.141, 4.141, 4.141, 4.141, 4.141, 4.141, 4.141, 4.141, 4.141, 4.141, 4.141, 4.141, 4.141, 4.141, 4.141, 4.141, 4.141, 4.141, 4.141, 4.141, 4.141, 4.151, 4.141, 4.141, 4.141, 4.141, 4.141, 4.141, 4.141, 4.141, 4.141, 4.141, 4.141, 4.141, 4.141, 4.141, 4.141, 4.141, 4.141, 4.149, 4.141, 4.141, 4.152, 4.141, 4.141, 4.141, 4.141, 4.141, 4.141, 4.141, 4.141, 4.141, 4.141, 4.141, 4.141, 4.141, 4.149, 4.141, 4.141, 4.141, 4.141, 4.141, 4.14, 4.141, 4.141, 4.141, 4.141, 4.141, 4.141, 4.141, 4.141, 4.141, 4.141, 4.141, 4.149, 4.141, 4.141, 4.149, 4.149, 4.141, 4.141, 4.141, 4.141, 4.141, 4.141, 4.141, 4.141, 4.141, 4.149, 4.141, 4.141, 4.141, 4.141, 4.141, 4.141, 4.141, 4.141, 4.141, 4.141, 4.141, 4.149, 4.141, 4.141, 4.152, 4.141, 4.141, 4.141, 4.141, 4.149, 4.148, 4.14, 4.141, 4.141, 4.141, 4.151, 4.141, 4.149, 4.141, 4.141, 4.141, 4.141, 4.151, 4.151, 4.141, 4.141, 4.141, 4.141, 4.141, 4.149, 4.149, 4.141, 4.141, 4.141, 4.149, 4.141, 4.141, 4.141, 4.141, 4.141, 4.141, 4.141, 4.141, 4.151, 4.141, 4.141, 4.141, 4.141, 4.141, 4.14, 4.141, 4.141, 4.148, 4.141, 4.141, 4.141, 4.141, 4.141, 4.152, 4.141, 4.141, 4.149, 4.141, 4.14, 4.138, 4.13, 4.13, 4.129, 4.126, 4.125, 4.126, 4.123, 4.13, 4.127, 4.129, 4.119, 4.122, 4.123, 4.125, 4.122, 4.12, 4.12, 4.122, 4.119, 4.125, 4.119, 4.119, 4.129, 4.122, 4.126, 4.119, 4.119, 4.119, 4.119, 4.119, 4.119, 4.119, 4.119, 4.119, 4.119, 4.119, 4.123, 4.119, 4.119, 4.127, 4.119, 4.119, 4.119, 4.119, 4.119, 4.119, 4.119, 4.119, 4.119, 4.127, 4.119, 4.119, 4.119, 4.119, 4.119, 4.119, 4.126, 4.119, 4.119, 4.119, 4.119, 4.119, 4.119, 4.119, 4.127, 4.119, 4.129, 4.119, 4.119, 4.129, 4.119, 4.119, 4.129, 4.119, 4.119, 4.119, 4.127, 4.119, 4.119, 4.119, 4.119, 4.119, 4.119, 4.119, 4.129, 4.125, 4.119, 4.119, 4.119, 4.119, 4.119, 4.119, 4.119, 4.119, 4.119, 4.119, 4.119, 4.119, 4.119, 4.119, 4.119, 4.119]],\"toyplot\");\n",
       "(function(axis, axis_id, projection)\n",
       "        {\n",
       "            axis.show_coordinates(axis_id, projection);\n",
       "        })(modules[\"toyplot.coordinates.Axis\"],\"t8edc7979ffde4236ada399f94009f994\",[{\"domain\": {\"bounds\": {\"max\": Infinity, \"min\": -Infinity}, \"max\": 1500.0, \"min\": 0.0}, \"range\": {\"bounds\": {\"max\": Infinity, \"min\": -Infinity}, \"max\": 500.0, \"min\": 0.0}, \"scale\": \"linear\"}]);\n",
       "(function(axis, axis_id, projection)\n",
       "        {\n",
       "            axis.show_coordinates(axis_id, projection);\n",
       "        })(modules[\"toyplot.coordinates.Axis\"],\"t97eb7cd2dbb34f749f534fbb6e92b571\",[{\"domain\": {\"bounds\": {\"max\": Infinity, \"min\": -Infinity}, \"max\": 4.1520000000000001, \"min\": 3.8500000000000001}, \"range\": {\"bounds\": {\"max\": Infinity, \"min\": -Infinity}, \"max\": 100.0, \"min\": 0.0}, \"scale\": \"linear\"}]);\n",
       "(function(tables, context_menu, io, owner_id, key, label, names, columns, filename)\n",
       "        {\n",
       "            tables.set(owner_id, key, names, columns);\n",
       "\n",
       "            var owner = document.querySelector(\"#\" + owner_id);\n",
       "            function show_item(e)\n",
       "            {\n",
       "                return owner.contains(e.target);\n",
       "            }\n",
       "\n",
       "            function choose_item()\n",
       "            {\n",
       "                io.save_file(\"text/csv\", \"utf-8\", tables.get_csv(owner_id, key), filename + \".csv\");\n",
       "            }\n",
       "\n",
       "            context_menu.add_item(\"Save \" + label + \" as CSV\", show_item, choose_item);\n",
       "        })(modules[\"toyplot/tables\"],modules[\"toyplot/menus/context\"],modules[\"toyplot/io\"],\"te8ae5c7cbedd4accb1f53c833835cdbd\",\"data\",\"plot data\",[\"x\", \"y0\"],[[0, 1, 2, 3, 4, 5, 6, 7, 8, 9, 10, 11, 12, 13, 14, 15, 16, 17, 18, 19, 20, 21, 22, 23, 24, 25, 26, 27, 28, 29, 30, 31, 32, 33, 34, 35, 36, 37, 38, 39, 40, 41, 42, 43, 44, 45, 46, 47, 48, 49, 50, 51, 52, 53, 54, 55, 56, 57, 58, 59, 60, 61, 62, 63, 64, 65, 66, 67, 68, 69, 70, 71, 72, 73, 74, 75, 76, 77, 78, 79, 80, 81, 82, 83, 84, 85, 86, 87, 88, 89, 90, 91, 92, 93, 94, 95, 96, 97, 98, 99, 100, 101, 102, 103, 104, 105, 106, 107, 108, 109, 110, 111, 112, 113, 114, 115, 116, 117, 118, 119, 120, 121, 122, 123, 124, 125, 126, 127, 128, 129, 130, 131, 132, 133, 134, 135, 136, 137, 138, 139, 140, 141, 142, 143, 144, 145, 146, 147, 148, 149, 150, 151, 152, 153, 154, 155, 156, 157, 158, 159, 160, 161, 162, 163, 164, 165, 166, 167, 168, 169, 170, 171, 172, 173, 174, 175, 176, 177, 178, 179, 180, 181, 182, 183, 184, 185, 186, 187, 188, 189, 190, 191, 192, 193, 194, 195, 196, 197, 198, 199, 200, 201, 202, 203, 204, 205, 206, 207, 208, 209, 210, 211, 212, 213, 214, 215, 216, 217, 218, 219, 220, 221, 222, 223, 224, 225, 226, 227, 228, 229, 230, 231, 232, 233, 234, 235, 236, 237, 238, 239, 240, 241, 242, 243, 244, 245, 246, 247, 248, 249, 250, 251, 252, 253, 254, 255, 256, 257, 258, 259, 260, 261, 262, 263, 264, 265, 266, 267, 268, 269, 270, 271, 272, 273, 274, 275, 276, 277, 278, 279, 280, 281, 282, 283, 284, 285, 286, 287, 288, 289, 290, 291, 292, 293, 294, 295, 296, 297, 298, 299, 300, 301, 302, 303, 304, 305, 306, 307, 308, 309, 310, 311, 312, 313, 314, 315, 316, 317, 318, 319, 320, 321, 322, 323, 324, 325, 326, 327, 328, 329, 330, 331, 332, 333, 334, 335, 336, 337, 338, 339, 340, 341, 342, 343, 344, 345, 346, 347, 348, 349, 350, 351, 352, 353, 354, 355, 356, 357, 358, 359, 360, 361, 362, 363, 364, 365, 366, 367, 368, 369, 370, 371, 372, 373, 374, 375, 376, 377, 378, 379, 380, 381, 382, 383, 384, 385, 386, 387, 388, 389, 390, 391, 392, 393, 394, 395, 396, 397, 398, 399, 400, 401, 402, 403, 404, 405, 406, 407, 408, 409, 410, 411, 412, 413, 414, 415, 416, 417, 418, 419, 420, 421, 422, 423, 424, 425, 426, 427, 428, 429, 430, 431, 432, 433, 434, 435, 436, 437, 438, 439, 440, 441, 442, 443, 444, 445, 446, 447, 448, 449, 450, 451, 452, 453, 454, 455, 456, 457, 458, 459, 460, 461, 462, 463, 464, 465, 466, 467, 468, 469, 470, 471, 472, 473, 474, 475, 476, 477, 478, 479, 480, 481, 482, 483, 484, 485, 486, 487, 488, 489, 490, 491, 492, 493, 494, 495, 496, 497, 498, 499, 500, 501, 502, 503, 504, 505, 506, 507, 508, 509, 510, 511, 512, 513, 514, 515, 516, 517, 518, 519, 520, 521, 522, 523, 524, 525, 526, 527, 528, 529, 530, 531, 532, 533, 534, 535, 536, 537, 538, 539, 540, 541, 542, 543, 544, 545, 546, 547, 548, 549, 550, 551, 552, 553, 554, 555, 556, 557, 558, 559, 560, 561, 562, 563, 564, 565, 566, 567, 568, 569, 570, 571, 572, 573, 574, 575, 576, 577, 578, 579, 580, 581, 582, 583, 584, 585, 586, 587, 588, 589, 590, 591, 592, 593, 594, 595, 596, 597, 598, 599, 600, 601, 602, 603, 604, 605, 606, 607, 608, 609, 610, 611, 612, 613, 614, 615, 616, 617, 618, 619, 620, 621, 622, 623, 624, 625, 626, 627, 628, 629, 630, 631, 632, 633, 634, 635, 636, 637, 638, 639, 640, 641, 642, 643, 644, 645, 646, 647, 648, 649, 650, 651, 652, 653, 654, 655, 656, 657, 658, 659, 660, 661, 662, 663, 664, 665, 666, 667, 668, 669, 670, 671, 672, 673, 674, 675, 676, 677, 678, 679, 680, 681, 682, 683, 684, 685, 686, 687, 688, 689, 690, 691, 692, 693, 694, 695, 696, 697, 698, 699, 700, 701, 702, 703, 704, 705, 706, 707, 708, 709, 710, 711, 712, 713, 714, 715, 716, 717, 718, 719, 720, 721, 722, 723, 724, 725, 726, 727, 728, 729, 730, 731, 732, 733, 734, 735, 736, 737, 738, 739, 740, 741, 742, 743, 744, 745, 746, 747, 748, 749, 750, 751, 752, 753, 754, 755, 756, 757, 758, 759, 760, 761, 762, 763, 764, 765, 766, 767, 768, 769, 770, 771, 772, 773, 774, 775, 776, 777, 778, 779, 780, 781, 782, 783, 784, 785, 786, 787, 788, 789, 790, 791, 792, 793, 794, 795, 796, 797, 798, 799, 800, 801, 802, 803, 804, 805, 806, 807, 808, 809, 810, 811, 812, 813, 814, 815, 816, 817, 818, 819, 820, 821, 822, 823, 824, 825, 826, 827, 828, 829, 830, 831, 832, 833, 834, 835, 836, 837, 838, 839, 840, 841, 842, 843, 844, 845, 846, 847, 848, 849, 850, 851, 852, 853, 854, 855, 856, 857, 858, 859, 860, 861, 862, 863, 864, 865, 866, 867, 868, 869, 870, 871, 872, 873, 874, 875, 876, 877, 878, 879, 880, 881, 882, 883, 884, 885, 886, 887, 888, 889, 890, 891, 892, 893, 894, 895, 896, 897, 898, 899, 900, 901, 902, 903, 904, 905, 906, 907, 908, 909, 910, 911, 912, 913, 914, 915, 916, 917, 918, 919, 920, 921, 922, 923, 924, 925, 926, 927, 928, 929, 930, 931, 932, 933, 934, 935, 936, 937, 938, 939, 940, 941, 942, 943, 944, 945, 946, 947, 948, 949, 950, 951, 952, 953, 954, 955, 956, 957, 958, 959, 960, 961, 962, 963, 964, 965, 966, 967, 968, 969, 970, 971, 972, 973, 974, 975, 976, 977, 978, 979, 980, 981, 982, 983, 984, 985, 986, 987, 988, 989, 990, 991, 992, 993, 994, 995, 996, 997, 998, 999, 1000, 1001, 1002, 1003, 1004, 1005, 1006, 1007, 1008, 1009, 1010, 1011, 1012, 1013, 1014, 1015, 1016, 1017, 1018, 1019, 1020, 1021, 1022, 1023, 1024, 1025, 1026, 1027, 1028, 1029, 1030, 1031, 1032, 1033, 1034, 1035, 1036, 1037, 1038, 1039, 1040, 1041, 1042, 1043, 1044, 1045, 1046, 1047, 1048, 1049, 1050, 1051, 1052, 1053, 1054, 1055, 1056, 1057, 1058, 1059, 1060, 1061, 1062, 1063, 1064, 1065, 1066, 1067, 1068, 1069, 1070, 1071, 1072, 1073, 1074, 1075, 1076, 1077, 1078, 1079, 1080, 1081, 1082, 1083, 1084, 1085, 1086, 1087, 1088, 1089, 1090, 1091, 1092, 1093, 1094, 1095, 1096, 1097, 1098, 1099, 1100, 1101, 1102, 1103, 1104, 1105, 1106, 1107, 1108, 1109, 1110, 1111, 1112, 1113, 1114, 1115, 1116, 1117, 1118, 1119, 1120, 1121, 1122, 1123, 1124, 1125, 1126, 1127, 1128, 1129, 1130, 1131, 1132, 1133, 1134, 1135, 1136, 1137, 1138, 1139, 1140, 1141, 1142, 1143, 1144, 1145, 1146, 1147, 1148, 1149, 1150, 1151, 1152, 1153, 1154, 1155, 1156, 1157, 1158, 1159, 1160, 1161, 1162, 1163, 1164, 1165, 1166, 1167, 1168, 1169, 1170, 1171, 1172, 1173, 1174, 1175, 1176, 1177, 1178, 1179, 1180, 1181, 1182, 1183, 1184, 1185, 1186, 1187, 1188, 1189, 1190, 1191, 1192, 1193, 1194, 1195, 1196, 1197, 1198, 1199, 1200, 1201, 1202, 1203, 1204, 1205, 1206, 1207, 1208, 1209, 1210, 1211, 1212, 1213, 1214, 1215, 1216, 1217, 1218, 1219, 1220, 1221, 1222, 1223, 1224, 1225, 1226, 1227, 1228, 1229, 1230, 1231, 1232, 1233, 1234, 1235, 1236, 1237, 1238, 1239, 1240, 1241, 1242, 1243, 1244, 1245, 1246, 1247, 1248, 1249, 1250, 1251, 1252, 1253, 1254, 1255, 1256, 1257, 1258, 1259, 1260, 1261, 1262, 1263, 1264, 1265, 1266, 1267, 1268, 1269, 1270, 1271, 1272, 1273, 1274, 1275, 1276, 1277, 1278, 1279, 1280, 1281, 1282, 1283, 1284, 1285, 1286, 1287, 1288, 1289, 1290, 1291, 1292, 1293, 1294, 1295, 1296, 1297, 1298, 1299, 1300, 1301, 1302, 1303, 1304, 1305, 1306, 1307, 1308, 1309, 1310, 1311, 1312, 1313, 1314, 1315, 1316, 1317, 1318, 1319, 1320, 1321, 1322, 1323, 1324, 1325, 1326, 1327, 1328, 1329, 1330, 1331, 1332, 1333, 1334, 1335, 1336, 1337, 1338, 1339, 1340, 1341, 1342, 1343, 1344, 1345, 1346, 1347, 1348, 1349, 1350, 1351, 1352, 1353, 1354, 1355, 1356, 1357, 1358, 1359, 1360, 1361, 1362, 1363, 1364, 1365, 1366, 1367, 1368, 1369, 1370, 1371, 1372, 1373, 1374, 1375, 1376, 1377, 1378, 1379, 1380, 1381, 1382, 1383, 1384, 1385, 1386, 1387, 1388, 1389], [0.93, 0.92, 0.89, 0.9, 0.9, 0.89, 0.89, 0.89, 0.9, 0.9, 0.9, 0.89, 0.89, 0.89, 0.9, 0.89, 0.89, 0.89, 0.9, 0.89, 0.89, 0.9, 0.89, 0.89, 0.89, 0.9, 0.9, 0.9, 0.9, 0.89, 0.9, 0.9, 0.89, 0.89, 0.9, 0.89, 0.9, 0.9, 0.89, 0.9, 0.9, 0.9, 0.9, 0.89, 0.9, 0.89, 0.89, 0.89, 0.89, 0.89, 0.89, 0.89, 0.89, 0.89, 0.89, 0.89, 0.89, 0.89, 0.89, 0.89, 0.9, 0.89, 0.89, 0.89, 0.89, 0.89, 0.89, 0.9, 0.89, 0.9, 0.97, 0.86, 0.86, 0.9, 0.89, 0.9, 0.89, 0.9, 0.9, 0.9, 0.9, 0.9, 0.89, 0.89, 0.89, 0.89, 0.89, 0.89, 0.9, 0.89, 0.9, 0.9, 0.89, 0.89, 0.89, 0.89, 0.89, 0.89, 0.9, 0.9, 0.89, 0.9, 0.89, 0.89, 0.89, 0.89, 0.9, 0.89, 0.89, 0.89, 0.89, 0.9, 0.89, 0.89, 0.9, 0.9, 0.89, 0.89, 0.89, 0.89, 0.89, 0.89, 0.9, 0.89, 0.89, 0.89, 0.89, 0.89, 0.89, 0.89, 0.89, 0.89, 0.81, 0.9400000000000001, 0.89, 0.89, 0.9, 0.89, 0.9, 0.9, 0.9, 0.9, 0.9, 0.89, 0.9, 0.89, 0.89, 0.89, 0.9, 0.89, 0.9, 0.89, 0.9, 0.89, 0.9, 0.9, 0.9, 0.89, 0.9, 0.89, 0.89, 0.9, 0.89, 0.89, 0.89, 0.89, 0.89, 0.89, 0.89, 0.89, 0.89, 0.89, 0.89, 0.89, 0.89, 0.89, 0.89, 0.89, 0.89, 0.89, 0.89, 0.9, 0.89, 0.89, 0.89, 0.9, 0.89, 0.9, 0.89, 0.89, 0.89, 0.89, 0.9, 0.89, 0.89, 0.89, 0.9, 0.89, 0.9, 0.89, 0.9, 0.89, 0.89, 0.89, 0.89, 0.9, 0.89, 0.9, 0.9, 0.89, 0.89, 0.9, 0.9, 0.9, 0.9, 0.89, 0.89, 0.89, 0.89, 0.89, 0.89, 0.89, 0.89, 0.89, 0.89, 0.89, 0.89, 0.89, 0.89, 0.9, 0.89, 0.89, 0.89, 0.89, 0.89, 0.89, 0.89, 0.89, 0.9, 0.89, 0.99, 0.84, 0.89, 0.9, 0.9, 0.9, 0.89, 0.9, 0.9, 0.89, 0.89, 0.89, 0.89, 0.89, 0.9, 0.9, 0.9, 0.9, 0.9, 0.9, 0.9, 0.9, 0.9, 0.9, 0.89, 0.9, 0.9, 0.89, 0.89, 0.89, 0.89, 0.89, 0.9, 0.9, 0.9, 0.89, 0.89, 0.89, 0.89, 0.89, 0.89, 0.91, 0.89, 0.89, 0.89, 0.89, 0.89, 0.89, 0.89, 0.9, 0.89, 0.9, 0.89, 0.9, 0.9, 0.9, 0.89, 0.9, 0.9, 0.9, 0.9, 0.89, 0.9, 0.9, 0.89, 0.89, 0.89, 0.89, 0.9, 0.89, 0.9, 0.89, 0.89, 0.9, 0.9, 0.9, 0.9, 0.9, 0.89, 0.89, 0.89, 0.9, 0.89, 0.89, 0.89, 0.89, 0.89, 0.89, 0.89, 0.89, 0.89, 0.89, 0.89, 0.9, 0.9, 0.89, 0.89, 0.89, 0.9, 0.89, 0.9, 0.9, 0.9, 0.9, 0.9, 0.9, 0.9, 0.89, 0.89, 0.89, 0.9, 0.9, 0.89, 0.89, 0.89, 0.89, 0.9, 0.89, 0.9, 0.89, 0.89, 0.89, 0.89, 0.89, 0.89, 0.89, 0.89, 0.89, 0.9, 0.89, 0.89, 0.89, 0.89, 0.89, 0.9, 0.9, 0.89, 0.9, 0.89, 0.89, 0.9, 0.9, 0.89, 0.89, 0.89, 0.89, 0.9, 0.89, 0.89, 0.9, 0.89, 0.9, 0.9, 0.89, 0.9, 0.89, 0.89, 0.89, 0.89, 0.9, 0.89, 0.9, 0.89, 0.9, 0.89, 0.89, 0.89, 0.89, 0.89, 0.89, 0.89, 0.89, 0.89, 0.9, 0.89, 0.89, 0.89, 0.9, 0.9, 0.89, 0.89, 0.9, 0.9, 0.9, 0.89, 0.9, 0.89, 0.9, 0.9, 0.89, 0.89, 0.89, 0.9, 0.89, 0.89, 0.89, 0.89, 0.89, 0.89, 0.89, 0.89, 0.89, 0.89, 0.89, 0.89, 0.9, 0.9, 0.9, 0.89, 0.89, 0.9, 0.9, 0.89, 0.89, 0.89, 0.9, 0.89, 0.89, 0.9, 0.89, 0.89, 0.89, 0.89, 0.9, 0.9, 0.89, 0.9, 0.89, 0.89, 0.89, 0.89, 0.9, 0.89, 0.89, 0.89, 0.89, 0.89, 0.89, 0.89, 0.89, 0.89, 0.9, 0.89, 0.89, 0.9, 0.9, 0.89, 0.9, 0.89, 0.89, 0.9, 0.89, 0.89, 0.89, 0.9, 0.9, 0.89, 0.89, 0.9, 0.89, 0.9, 0.9, 0.9, 0.89, 0.89, 0.89, 0.9, 0.89, 0.89, 0.89, 0.89, 0.89, 0.89, 0.89, 0.89, 0.9, 0.9, 0.89, 0.89, 0.89, 0.9, 0.9, 0.89, 0.89, 0.89, 0.89, 0.89, 0.89, 0.89, 0.89, 0.9, 0.9, 0.89, 0.9, 0.89, 0.89, 0.9, 0.89, 0.9, 0.89, 0.89, 0.89, 0.89, 0.89, 0.89, 0.89, 0.89, 0.98, 0.99, 0.89, 0.89, 0.89, 0.89, 0.9, 0.89, 0.9, 0.9, 0.9, 0.9, 0.9, 0.9, 0.89, 0.89, 0.89, 0.9, 0.89, 0.89, 0.89, 0.9, 0.89, 0.89, 0.89, 0.89, 0.89, 0.89, 0.9, 0.89, 0.9, 0.9, 0.89, 0.9, 0.9, 0.9, 0.89, 0.89, 0.89, 0.9, 0.89, 0.9, 0.89, 0.89, 0.89, 0.89, 0.89, 0.9, 0.89, 0.89, 0.89, 0.89, 0.9, 0.89, 0.89, 0.89, 0.89, 0.89, 0.9, 0.89, 0.89, 0.89, 0.89, 0.9, 0.9, 0.89, 0.9, 0.89, 0.89, 0.9, 0.89, 0.89, 0.9, 0.9, 0.89, 0.9, 0.89, 0.9, 0.89, 0.89, 0.89, 0.89, 0.9, 0.9, 0.89, 0.89, 0.89, 0.89, 0.89, 0.89, 0.89, 0.89, 0.89, 0.89, 0.9, 0.9, 0.9, 0.9, 0.89, 0.89, 0.9, 0.9, 0.89, 0.9, 0.89, 0.9, 0.9, 0.89, 0.9, 0.9, 0.89, 0.9, 0.89, 0.9, 0.89, 0.89, 0.9, 0.89, 0.89, 0.89, 0.89, 0.89, 0.9, 0.89, 0.89, 0.89, 0.89, 0.89, 0.89, 0.89, 0.89, 0.89, 0.89, 0.89, 0.89, 0.9, 0.9, 0.89, 0.9, 0.89, 0.9, 0.89, 0.89, 0.89, 0.89, 0.9, 0.89, 0.9, 0.9, 0.89, 0.89, 0.89, 0.89, 0.9, 0.89, 0.9, 0.9, 0.89, 0.9, 0.89, 0.9, 0.9, 0.89, 0.89, 0.9, 0.89, 0.89, 0.89, 0.89, 0.89, 0.89, 0.89, 0.89, 0.89, 0.89, 0.89, 0.89, 0.9, 0.9, 0.9, 0.9, 0.89, 0.9, 0.9, 0.9, 0.9, 0.9, 0.9, 0.89, 0.89, 0.9, 0.89, 0.89, 0.89, 0.89, 0.89, 0.89, 0.89, 0.89, 0.9, 0.9, 0.89, 0.89, 0.89, 0.89, 0.89, 0.89, 0.89, 0.89, 0.89, 0.89, 0.89, 0.89, 0.9, 0.9, 0.9, 0.9, 0.9, 0.89, 0.9, 0.9, 0.9, 0.9, 0.9, 0.9, 0.89, 0.9, 0.9, 0.89, 0.89, 0.89, 0.89, 0.89, 0.89, 0.89, 0.89, 0.89, 0.89, 0.9, 0.9, 0.89, 0.9, 0.9, 0.9, 0.89, 0.9, 0.9, 0.9, 0.89, 0.9, 0.89, 0.89, 0.89, 0.9, 0.89, 0.89, 0.89, 0.89, 0.89, 0.9500000000000001, 0.91, 0.91, 0.91, 0.93, 0.9500000000000001, 0.9500000000000001, 0.9400000000000001, 0.9400000000000001, 0.93, 0.93, 0.92, 0.92, 0.91, 0.91, 0.9, 0.9, 0.89, 0.89, 0.88, 0.88, 0.87, 0.87, 0.86, 0.85, 0.85, 0.85, 0.8300000000000001, 0.8200000000000001, 0.8, 0.81, 0.81, 0.8, 0.81, 0.79, 0.81, 0.78, 0.76, 0.76, 0.74, 0.73, 0.6900000000000001, 0.72, 0.6900000000000001, 0.7000000000000001, 0.67, 0.67, 0.71, 0.68, 0.66, 0.66, 0.66, 0.65, 0.65, 0.65, 0.64, 0.64, 0.63, 0.63, 0.62, 0.63, 0.62, 0.62, 0.61, 0.61, 0.61, 0.61, 0.59, 0.6, 0.6, 0.59, 0.58, 0.5700000000000001, 0.58, 0.5700000000000001, 0.55, 0.5700000000000001, 0.55, 0.53, 0.55, 0.54, 0.53, 0.53, 0.53, 0.5, 0.5, 0.5, 0.49, 0.54, 0.46, 0.47000000000000003, 0.45, 0.48, 0.45, 0.46, 0.47000000000000003, 0.46, 0.47000000000000003, 0.44, 0.45, 0.46, 0.44, 0.43, 0.44, 0.43, 0.44, 0.43, 0.49, 0.42, 0.42, 0.51, 0.41000000000000003, 0.41000000000000003, 0.42, 0.41000000000000003, 0.41000000000000003, 0.41000000000000003, 0.41000000000000003, 0.41000000000000003, 0.4, 0.4, 0.4, 0.4, 0.4, 0.4, 0.39, 0.39, 0.39, 0.39, 0.39, 0.39, 0.39, 0.39, 0.39, 0.39, 0.38, 0.38, 0.38, 0.38, 0.38, 0.38, 0.38, 0.38, 0.38, 0.37, 0.37, 0.37, 0.37, 0.36, 0.37, 0.36, 0.37, 0.36, 0.36, 0.37, 0.35000000000000003, 0.36, 0.35000000000000003, 0.36, 0.35000000000000003, 0.35000000000000003, 0.36, 0.35000000000000003, 0.35000000000000003, 0.31, 0.33, 0.36, 0.35000000000000003, 0.34, 0.36, 0.35000000000000003, 0.35000000000000003, 0.34, 0.35000000000000003, 0.35000000000000003, 0.33, 0.35000000000000003, 0.33, 0.35000000000000003, 0.32, 0.35000000000000003, 0.34, 0.34, 0.35000000000000003, 0.34, 0.32, 0.31, 0.34, 0.33, 0.34, 0.34, 0.3, 0.32, 0.28, 0.34, 0.3, 0.34, 0.34, 0.29, 0.3, 0.26, 0.34, 0.27, 0.28, 0.34, 0.26, 0.26, 0.26, 0.3, 0.31, 0.34, 0.34, 0.29, 0.26, 0.26, 0.27, 0.28, 0.27, 0.31, 0.33, 0.25, 0.28, 0.27, 0.25, 0.26, 0.28, 0.27, 0.34, 0.3, 0.25, 0.32, 0.26, 0.25, 0.25, 0.25, 0.25, 0.25, 0.32, 0.25, 0.25, 0.25, 0.28, 0.25, 0.26, 0.24, 0.26, 0.26, 0.27, 0.24, 0.25, 0.31, 0.24, 0.24, 0.24, 0.24, 0.24, 0.24, 0.27, 0.24, 0.24, 0.24, 0.24, 0.24, 0.29, 0.24, 0.25, 0.26, 0.25, 0.25, 0.25, 0.29, 0.24, 0.24, 0.26, 0.23, 0.23, 0.24, 0.24, 0.23, 0.28, 0.23, 0.24, 0.23, 0.24, 0.23, 0.26, 0.23, 0.23, 0.23, 0.23, 0.23, 0.23, 0.23, 0.23, 0.23, 0.23, 0.23, 0.23, 0.24, 0.22, 0.31, 0.23, 0.22, 0.23, 0.23, 0.22, 0.23, 0.22, 0.22, 0.23, 0.23, 0.22, 0.22, 0.23, 0.22, 0.22, 0.21, 0.21, 0.21, 0.22, 0.21, 0.22, 0.21, 0.21, 0.21, 0.21, 0.21, 0.21, 0.21, 0.21, 0.21, 0.21, 0.21, 0.21, 0.21, 0.21, 0.21, 0.21, 0.21, 0.2, 0.2, 0.21, 0.2, 0.2, 0.2, 0.2, 0.2, 0.2, 0.2, 0.2, 0.2, 0.2, 0.2, 0.19, 0.2, 0.2, 0.2, 0.19, 0.2, 0.2, 0.2, 0.2, 0.2, 0.2, 0.19, 0.2, 0.2, 0.19, 0.19, 0.19, 0.19, 0.19, 0.19, 0.18, 0.19, 0.19, 0.19, 0.19, 0.19, 0.18, 0.17, 0.19, 0.19, 0.19, 0.19, 0.19, 0.19, 0.19, 0.18, 0.19, 0.18, 0.17, 0.17, 0.18, 0.18, 0.17, 0.17, 0.18, 0.18, 0.18, 0.18, 0.18, 0.18, 0.18, 0.17, 0.18, 0.17, 0.17, 0.18, 0.17, 0.17, 0.17, 0.17, 0.18, 0.17, 0.16, 0.17, 0.16, 0.16, 0.17, 0.17, 0.17, 0.17, 0.17, 0.17, 0.17, 0.16, 0.15, 0.15, 0.15, 0.17, 0.17, 0.16, 0.15, 0.16, 0.16, 0.17, 0.16, 0.16, 0.16, 0.16, 0.16, 0.16, 0.14, 0.16, 0.15, 0.14, 0.15, 0.15, 0.16, 0.16, 0.15, 0.16, 0.16, 0.16, 0.16, 0.16, 0.16, 0.16, 0.16, 0.15, 0.16, 0.14, 0.15, 0.14, 0.15, 0.09, 0.15, 0.13, 0.12, 0.15, 0.12, 0.15, 0.14, 0.14, 0.13, 0.14, 0.13, 0.1, 0.11, 0.12, 0.0, 0.0, 0.0, 0.0, 0.0, 0.0, 0.0, 0.0, 0.0, 0.0, 0.0, 0.0, 0.0, 0.0, 0.0, 0.0, 0.0, 0.0, 0.0, 0.0, 0.0, 0.0, 0.0, 0.0, 0.0, 0.0, 0.0, 0.0, 0.0, 0.0, 0.0, 0.0, 0.0, 0.0, 0.0, 0.0, 0.0, 0.0, 0.0, 0.0, 0.0, 0.0, 0.0, 0.0, 0.0, 0.0, 0.0, 0.0, 0.0, 0.0, 0.0, 0.0, 0.0, 0.0, 0.0, 0.0, 0.0, 0.0, 0.0, 0.0, 0.0, 0.0, 0.0, 0.0, 0.0, 0.0, 0.0, 0.0, 0.0, 0.0, 0.0, 0.0, 0.0, 0.0, 0.0, 0.0, 0.0, 0.0, 0.0, 0.0, 0.0, 0.0, 0.0, 0.0, 0.0, 0.0, 0.0, 0.0, 0.0, 0.0, 0.0, 0.0, 0.0, 0.0, 0.0, 0.0, 0.0, 0.0, 0.0, 0.0, 0.0, 0.0, 0.0]],\"toyplot\");\n",
       "(function(axis, axis_id, projection)\n",
       "        {\n",
       "            axis.show_coordinates(axis_id, projection);\n",
       "        })(modules[\"toyplot.coordinates.Axis\"],\"t4b84d38e5fb44e24b8186aa2ce2de80e\",[{\"domain\": {\"bounds\": {\"max\": Infinity, \"min\": -Infinity}, \"max\": 1500.0, \"min\": 0.0}, \"range\": {\"bounds\": {\"max\": Infinity, \"min\": -Infinity}, \"max\": 500.0, \"min\": 0.0}, \"scale\": \"linear\"}]);\n",
       "(function(axis, axis_id, projection)\n",
       "        {\n",
       "            axis.show_coordinates(axis_id, projection);\n",
       "        })(modules[\"toyplot.coordinates.Axis\"],\"t4e5ec5c4ccda4ddbae3f0c0b6114b6b8\",[{\"domain\": {\"bounds\": {\"max\": Infinity, \"min\": -Infinity}, \"max\": 1.0, \"min\": 0.0}, \"range\": {\"bounds\": {\"max\": Infinity, \"min\": -Infinity}, \"max\": 100.0, \"min\": 0.0}, \"scale\": \"linear\"}]);\n",
       "(function(tables, context_menu, io, owner_id, key, label, names, columns, filename)\n",
       "        {\n",
       "            tables.set(owner_id, key, names, columns);\n",
       "\n",
       "            var owner = document.querySelector(\"#\" + owner_id);\n",
       "            function show_item(e)\n",
       "            {\n",
       "                return owner.contains(e.target);\n",
       "            }\n",
       "\n",
       "            function choose_item()\n",
       "            {\n",
       "                io.save_file(\"text/csv\", \"utf-8\", tables.get_csv(owner_id, key), filename + \".csv\");\n",
       "            }\n",
       "\n",
       "            context_menu.add_item(\"Save \" + label + \" as CSV\", show_item, choose_item);\n",
       "        })(modules[\"toyplot/tables\"],modules[\"toyplot/menus/context\"],modules[\"toyplot/io\"],\"t5ba9c896a468455894dbad879d016fac\",\"data\",\"plot data\",[\"x\", \"y0\"],[[0, 1, 2, 3, 4, 5, 6, 7, 8, 9, 10, 11, 12, 13, 14, 15, 16, 17, 18, 19, 20, 21, 22, 23, 24, 25, 26, 27, 28, 29, 30, 31, 32, 33, 34, 35, 36, 37, 38, 39, 40, 41, 42, 43, 44, 45, 46, 47, 48, 49, 50, 51, 52, 53, 54, 55, 56, 57, 58, 59, 60, 61, 62, 63, 64, 65, 66, 67, 68, 69, 70, 71, 72, 73, 74, 75, 76, 77, 78, 79, 80, 81, 82, 83, 84, 85, 86, 87, 88, 89, 90, 91, 92, 93, 94, 95, 96, 97, 98, 99, 100, 101, 102, 103, 104, 105, 106, 107, 108, 109, 110, 111, 112, 113, 114, 115, 116, 117, 118, 119, 120, 121, 122, 123, 124, 125, 126, 127, 128, 129, 130, 131, 132, 133, 134, 135, 136, 137, 138, 139, 140, 141, 142, 143, 144, 145, 146, 147, 148, 149, 150, 151, 152, 153, 154, 155, 156, 157, 158, 159, 160, 161, 162, 163, 164, 165, 166, 167, 168, 169, 170, 171, 172, 173, 174, 175, 176, 177, 178, 179, 180, 181, 182, 183, 184, 185, 186, 187, 188, 189, 190, 191, 192, 193, 194, 195, 196, 197, 198, 199, 200, 201, 202, 203, 204, 205, 206, 207, 208, 209, 210, 211, 212, 213, 214, 215, 216, 217, 218, 219, 220, 221, 222, 223, 224, 225, 226, 227, 228, 229, 230, 231, 232, 233, 234, 235, 236, 237, 238, 239, 240, 241, 242, 243, 244, 245, 246, 247, 248, 249, 250, 251, 252, 253, 254, 255, 256, 257, 258, 259, 260, 261, 262, 263, 264, 265, 266, 267, 268, 269, 270, 271, 272, 273, 274, 275, 276, 277, 278, 279, 280, 281, 282, 283, 284, 285, 286, 287, 288, 289, 290, 291, 292, 293, 294, 295, 296, 297, 298, 299, 300, 301, 302, 303, 304, 305, 306, 307, 308, 309, 310, 311, 312, 313, 314, 315, 316, 317, 318, 319, 320, 321, 322, 323, 324, 325, 326, 327, 328, 329, 330, 331, 332, 333, 334, 335, 336, 337, 338, 339, 340, 341, 342, 343, 344, 345, 346, 347, 348, 349, 350, 351, 352, 353, 354, 355, 356, 357, 358, 359, 360, 361, 362, 363, 364, 365, 366, 367, 368, 369, 370, 371, 372, 373, 374, 375, 376, 377, 378, 379, 380, 381, 382, 383, 384, 385, 386, 387, 388, 389, 390, 391, 392, 393, 394, 395, 396, 397, 398, 399, 400, 401, 402, 403, 404, 405, 406, 407, 408, 409, 410, 411, 412, 413, 414, 415, 416, 417, 418, 419, 420, 421, 422, 423, 424, 425, 426, 427, 428, 429, 430, 431, 432, 433, 434, 435, 436, 437, 438, 439, 440, 441, 442, 443, 444, 445, 446, 447, 448, 449, 450, 451, 452, 453, 454, 455, 456, 457, 458, 459, 460, 461, 462, 463, 464, 465, 466, 467, 468, 469, 470, 471, 472, 473, 474, 475, 476, 477, 478, 479, 480, 481, 482, 483, 484, 485, 486, 487, 488, 489, 490, 491, 492, 493, 494, 495, 496, 497, 498, 499, 500, 501, 502, 503, 504, 505, 506, 507, 508, 509, 510, 511, 512, 513, 514, 515, 516, 517, 518, 519, 520, 521, 522, 523, 524, 525, 526, 527, 528, 529, 530, 531, 532, 533, 534, 535, 536, 537, 538, 539, 540, 541, 542, 543, 544, 545, 546, 547, 548, 549, 550, 551, 552, 553, 554, 555, 556, 557, 558, 559, 560, 561, 562, 563, 564, 565, 566, 567, 568, 569, 570, 571, 572, 573, 574, 575, 576, 577, 578, 579, 580, 581, 582, 583, 584, 585, 586, 587, 588, 589, 590, 591, 592, 593, 594, 595, 596, 597, 598, 599, 600, 601, 602, 603, 604, 605, 606, 607, 608, 609, 610, 611, 612, 613, 614, 615, 616, 617, 618, 619, 620, 621, 622, 623, 624, 625, 626, 627, 628, 629, 630, 631, 632, 633, 634, 635, 636, 637, 638, 639, 640, 641, 642, 643, 644, 645, 646, 647, 648, 649, 650, 651, 652, 653, 654, 655, 656, 657, 658, 659, 660, 661, 662, 663, 664, 665, 666, 667, 668, 669, 670, 671, 672, 673, 674, 675, 676, 677, 678, 679, 680, 681, 682, 683, 684, 685, 686, 687, 688, 689, 690, 691, 692, 693, 694, 695, 696, 697, 698, 699, 700, 701, 702, 703, 704, 705, 706, 707, 708, 709, 710, 711, 712, 713, 714, 715, 716, 717, 718, 719, 720, 721, 722, 723, 724, 725, 726, 727, 728, 729, 730, 731, 732, 733, 734, 735, 736, 737, 738, 739, 740, 741, 742, 743, 744, 745, 746, 747, 748, 749, 750, 751, 752, 753, 754, 755, 756, 757, 758, 759, 760, 761, 762, 763, 764, 765, 766, 767, 768, 769, 770, 771, 772, 773, 774, 775, 776, 777, 778, 779, 780, 781, 782, 783, 784, 785, 786, 787, 788, 789, 790, 791, 792, 793, 794, 795, 796, 797, 798, 799, 800, 801, 802, 803, 804, 805, 806, 807, 808, 809, 810, 811, 812, 813, 814, 815, 816, 817, 818, 819, 820, 821, 822, 823, 824, 825, 826, 827, 828, 829, 830, 831, 832, 833, 834, 835, 836, 837, 838, 839, 840, 841, 842, 843, 844, 845, 846, 847, 848, 849, 850, 851, 852, 853, 854, 855, 856, 857, 858, 859, 860, 861, 862, 863, 864, 865, 866, 867, 868, 869, 870, 871, 872, 873, 874, 875, 876, 877, 878, 879, 880, 881, 882, 883, 884, 885, 886, 887, 888, 889, 890, 891, 892, 893, 894, 895, 896, 897, 898, 899, 900, 901, 902, 903, 904, 905, 906, 907, 908, 909, 910, 911, 912, 913, 914, 915, 916, 917, 918, 919, 920, 921, 922, 923, 924, 925, 926, 927, 928, 929, 930, 931, 932, 933, 934, 935, 936, 937, 938, 939, 940, 941, 942, 943, 944, 945, 946, 947, 948, 949, 950, 951, 952, 953, 954, 955, 956, 957, 958, 959, 960, 961, 962, 963, 964, 965, 966, 967, 968, 969, 970, 971, 972, 973, 974, 975, 976, 977, 978, 979, 980, 981, 982, 983, 984, 985, 986, 987, 988, 989, 990, 991, 992, 993, 994, 995, 996, 997, 998, 999, 1000, 1001, 1002, 1003, 1004, 1005, 1006, 1007, 1008, 1009, 1010, 1011, 1012, 1013, 1014, 1015, 1016, 1017, 1018, 1019, 1020, 1021, 1022, 1023, 1024, 1025, 1026, 1027, 1028, 1029, 1030, 1031, 1032, 1033, 1034, 1035, 1036, 1037, 1038, 1039, 1040, 1041, 1042, 1043, 1044, 1045, 1046, 1047, 1048, 1049, 1050, 1051, 1052, 1053, 1054, 1055, 1056, 1057, 1058, 1059, 1060, 1061, 1062, 1063, 1064, 1065, 1066, 1067, 1068, 1069, 1070, 1071, 1072, 1073, 1074, 1075, 1076, 1077, 1078, 1079, 1080, 1081, 1082, 1083, 1084, 1085, 1086, 1087, 1088, 1089, 1090, 1091, 1092, 1093, 1094, 1095, 1096, 1097, 1098, 1099, 1100, 1101, 1102, 1103, 1104, 1105, 1106, 1107, 1108, 1109, 1110, 1111, 1112, 1113, 1114, 1115, 1116, 1117, 1118, 1119, 1120, 1121, 1122, 1123, 1124, 1125, 1126, 1127, 1128, 1129, 1130, 1131, 1132, 1133, 1134, 1135, 1136, 1137, 1138, 1139, 1140, 1141, 1142, 1143, 1144, 1145, 1146, 1147, 1148, 1149, 1150, 1151, 1152, 1153, 1154, 1155, 1156, 1157, 1158, 1159, 1160, 1161, 1162, 1163, 1164, 1165, 1166, 1167, 1168, 1169, 1170, 1171, 1172, 1173, 1174, 1175, 1176, 1177, 1178, 1179, 1180, 1181, 1182, 1183, 1184, 1185, 1186, 1187, 1188, 1189, 1190, 1191, 1192, 1193, 1194, 1195, 1196, 1197, 1198, 1199, 1200, 1201, 1202, 1203, 1204, 1205, 1206, 1207, 1208, 1209, 1210, 1211, 1212, 1213, 1214, 1215, 1216, 1217, 1218, 1219, 1220, 1221, 1222, 1223, 1224, 1225, 1226, 1227, 1228, 1229, 1230, 1231, 1232, 1233, 1234, 1235, 1236, 1237, 1238, 1239, 1240, 1241, 1242, 1243, 1244, 1245, 1246, 1247, 1248, 1249, 1250, 1251, 1252, 1253, 1254, 1255, 1256, 1257, 1258, 1259, 1260, 1261, 1262, 1263, 1264, 1265, 1266, 1267, 1268, 1269, 1270, 1271, 1272, 1273, 1274, 1275, 1276, 1277, 1278, 1279, 1280, 1281, 1282, 1283, 1284, 1285, 1286, 1287, 1288, 1289, 1290, 1291, 1292, 1293, 1294, 1295, 1296, 1297, 1298, 1299, 1300, 1301, 1302, 1303, 1304, 1305, 1306, 1307, 1308, 1309, 1310, 1311, 1312, 1313, 1314, 1315, 1316, 1317, 1318, 1319, 1320, 1321, 1322, 1323, 1324, 1325, 1326, 1327, 1328, 1329, 1330, 1331, 1332, 1333, 1334, 1335, 1336, 1337, 1338, 1339, 1340, 1341, 1342, 1343, 1344, 1345, 1346, 1347, 1348, 1349, 1350, 1351, 1352, 1353, 1354, 1355, 1356, 1357, 1358, 1359, 1360, 1361, 1362, 1363, 1364, 1365, 1366, 1367, 1368, 1369, 1370, 1371, 1372, 1373, 1374, 1375, 1376, 1377, 1378, 1379, 1380, 1381, 1382, 1383, 1384, 1385, 1386, 1387, 1388, 1389], [0.0, 0.0, 1.0, 1.0, 2.0, 2.0, 3.0, 3.0, 4.0, 4.0, 5.0, 5.0, 6.0, 6.0, 7.0, 7.0, 8.0, 8.0, 9.0, 9.0, 10.0, 10.0, 11.0, 11.0, 12.0, 12.0, 13.0, 13.0, 14.0, 14.0, 15.0, 15.0, 16.0, 16.0, 17.0, 17.0, 18.0, 18.0, 19.0, 19.0, 20.0, 20.0, 21.0, 25.0, 26.0, 26.0, 27.0, 27.0, 28.0, 28.0, 29.0, 29.0, 30.0, 30.0, 31.0, 31.0, 32.0, 32.0, 33.0, 33.0, 34.0, 34.0, 35.0, 35.0, 36.0, 36.0, 37.0, 37.0, 38.0, 38.0, 39.0, 39.0, 40.0, 40.0, 41.0, 41.0, 42.0, 42.0, 43.0, 43.0, 44.0, 44.0, 45.0, 45.0, 46.0, 46.0, 47.0, 47.0, 48.0, 48.0, 49.0, 49.0, 50.0, 50.0, 51.0, 51.0, 52.0, 52.0, 53.0, 53.0, 54.0, 54.0, 55.0, 55.0, 56.0, 56.0, 57.0, 57.0, 58.0, 58.0, 59.0, 59.0, 60.0, 60.0, 61.0, 61.0, 62.0, 62.0, 63.0, 63.0, 64.0, 64.0, 65.0, 65.0, 66.0, 66.0, 67.0, 67.0, 68.0, 68.0, 69.0, 69.0, 70.0, 70.0, 71.0, 71.0, 72.0, 72.0, 73.0, 73.0, 74.0, 74.0, 75.0, 75.0, 76.0, 76.0, 77.0, 77.0, 78.0, 78.0, 79.0, 79.0, 80.0, 80.0, 81.0, 81.0, 82.0, 82.0, 83.0, 83.0, 84.0, 84.0, 85.0, 85.0, 86.0, 86.0, 87.0, 87.0, 88.0, 88.0, 89.0, 89.0, 90.0, 90.0, 91.0, 91.0, 92.0, 92.0, 93.0, 93.0, 94.0, 94.0, 95.0, 95.0, 96.0, 96.0, 97.0, 97.0, 98.0, 98.0, 99.0, 99.0, 100.0, 100.0, 101.0, 101.0, 102.0, 102.0, 103.0, 103.0, 104.0, 104.0, 105.0, 105.0, 106.0, 106.0, 107.0, 107.0, 108.0, 109.0, 109.0, 110.0, 110.0, 111.0, 111.0, 112.0, 112.0, 113.0, 113.0, 114.0, 114.0, 115.0, 115.0, 116.0, 116.0, 117.0, 117.0, 118.0, 118.0, 119.0, 119.0, 120.0, 120.0, 121.0, 121.0, 122.0, 122.0, 123.0, 123.0, 124.0, 124.0, 125.0, 125.0, 126.0, 126.0, 127.0, 127.0, 128.0, 128.0, 129.0, 129.0, 130.0, 130.0, 131.0, 131.0, 132.0, 132.0, 133.0, 133.0, 134.0, 134.0, 135.0, 135.0, 136.0, 136.0, 137.0, 137.0, 138.0, 138.0, 139.0, 139.0, 140.0, 140.0, 141.0, 141.0, 142.0, 142.0, 143.0, 143.0, 144.0, 144.0, 145.0, 145.0, 146.0, 146.0, 147.0, 147.0, 148.0, 148.0, 149.0, 149.0, 150.0, 150.0, 151.0, 151.0, 152.0, 152.0, 153.0, 153.0, 154.0, 154.0, 155.0, 155.0, 156.0, 156.0, 157.0, 157.0, 158.0, 158.0, 159.0, 159.0, 160.0, 160.0, 161.0, 161.0, 162.0, 162.0, 163.0, 163.0, 164.0, 164.0, 165.0, 165.0, 166.0, 166.0, 167.0, 167.0, 168.0, 168.0, 169.0, 169.0, 170.0, 170.0, 171.0, 171.0, 172.0, 172.0, 173.0, 173.0, 174.0, 174.0, 175.0, 175.0, 176.0, 176.0, 177.0, 177.0, 178.0, 178.0, 179.0, 179.0, 180.0, 180.0, 181.0, 181.0, 182.0, 182.0, 183.0, 183.0, 184.0, 184.0, 185.0, 185.0, 186.0, 186.0, 187.0, 187.0, 188.0, 188.0, 189.0, 189.0, 190.0, 190.0, 191.0, 191.0, 192.0, 192.0, 193.0, 193.0, 194.0, 194.0, 195.0, 195.0, 196.0, 196.0, 197.0, 197.0, 198.0, 198.0, 199.0, 199.0, 200.0, 200.0, 201.0, 201.0, 202.0, 202.0, 203.0, 203.0, 204.0, 204.0, 205.0, 205.0, 206.0, 206.0, 207.0, 207.0, 208.0, 208.0, 209.0, 209.0, 210.0, 210.0, 211.0, 211.0, 212.0, 212.0, 213.0, 213.0, 214.0, 214.0, 215.0, 215.0, 216.0, 216.0, 217.0, 217.0, 218.0, 218.0, 219.0, 219.0, 220.0, 220.0, 221.0, 221.0, 222.0, 222.0, 223.0, 223.0, 224.0, 224.0, 225.0, 225.0, 226.0, 226.0, 227.0, 227.0, 228.0, 228.0, 229.0, 229.0, 230.0, 230.0, 231.0, 231.0, 232.0, 232.0, 233.0, 233.0, 234.0, 234.0, 235.0, 235.0, 236.0, 236.0, 237.0, 237.0, 238.0, 238.0, 239.0, 239.0, 240.0, 240.0, 241.0, 241.0, 242.0, 242.0, 243.0, 243.0, 244.0, 244.0, 245.0, 245.0, 246.0, 246.0, 247.0, 247.0, 248.0, 248.0, 249.0, 249.0, 250.0, 250.0, 251.0, 251.0, 252.0, 252.0, 253.0, 253.0, 254.0, 254.0, 255.0, 255.0, 256.0, 256.0, 257.0, 257.0, 258.0, 258.0, 259.0, 259.0, 260.0, 260.0, 261.0, 261.0, 262.0, 262.0, 263.0, 263.0, 264.0, 264.0, 265.0, 265.0, 266.0, 266.0, 267.0, 267.0, 268.0, 268.0, 269.0, 269.0, 270.0, 270.0, 271.0, 271.0, 272.0, 272.0, 273.0, 273.0, 274.0, 274.0, 275.0, 275.0, 276.0, 276.0, 277.0, 277.0, 278.0, 278.0, 279.0, 279.0, 280.0, 280.0, 281.0, 281.0, 284.0, 285.0, 285.0, 286.0, 286.0, 287.0, 287.0, 288.0, 288.0, 289.0, 289.0, 290.0, 290.0, 291.0, 291.0, 292.0, 292.0, 293.0, 293.0, 294.0, 294.0, 295.0, 295.0, 296.0, 296.0, 297.0, 297.0, 298.0, 298.0, 299.0, 299.0, 300.0, 300.0, 301.0, 301.0, 302.0, 302.0, 303.0, 303.0, 304.0, 304.0, 305.0, 305.0, 306.0, 306.0, 307.0, 307.0, 308.0, 308.0, 309.0, 309.0, 310.0, 310.0, 311.0, 311.0, 312.0, 312.0, 313.0, 313.0, 314.0, 314.0, 315.0, 315.0, 316.0, 316.0, 317.0, 317.0, 318.0, 318.0, 319.0, 319.0, 320.0, 320.0, 321.0, 321.0, 322.0, 322.0, 323.0, 323.0, 324.0, 324.0, 325.0, 325.0, 326.0, 326.0, 327.0, 327.0, 328.0, 328.0, 329.0, 329.0, 330.0, 330.0, 331.0, 331.0, 332.0, 332.0, 333.0, 333.0, 334.0, 334.0, 335.0, 335.0, 336.0, 336.0, 337.0, 337.0, 338.0, 338.0, 339.0, 339.0, 340.0, 340.0, 341.0, 341.0, 342.0, 342.0, 343.0, 343.0, 344.0, 344.0, 345.0, 345.0, 346.0, 346.0, 347.0, 347.0, 348.0, 348.0, 349.0, 349.0, 350.0, 350.0, 351.0, 351.0, 352.0, 352.0, 353.0, 353.0, 354.0, 354.0, 355.0, 355.0, 356.0, 356.0, 357.0, 357.0, 358.0, 358.0, 359.0, 359.0, 360.0, 360.0, 361.0, 361.0, 362.0, 362.0, 363.0, 363.0, 364.0, 364.0, 365.0, 365.0, 366.0, 366.0, 367.0, 367.0, 368.0, 368.0, 369.0, 369.0, 370.0, 370.0, 371.0, 371.0, 372.0, 372.0, 373.0, 373.0, 374.0, 374.0, 375.0, 375.0, 376.0, 376.0, 377.0, 377.0, 378.0, 378.0, 379.0, 379.0, 380.0, 380.0, 381.0, 381.0, 382.0, 382.0, 383.0, 383.0, 384.0, 384.0, 385.0, 385.0, 386.0, 386.0, 387.0, 387.0, 388.0, 388.0, 389.0, 389.0, 390.0, 390.0, 391.0, 391.0, 392.0, 392.0, 393.0, 393.0, 394.0, 394.0, 395.0, 395.0, 396.0, 396.0, 397.0, 397.0, 398.0, 398.0, 399.0, 399.0, 400.0, 400.0, 401.0, 401.0, 402.0, 402.0, 403.0, 403.0, 404.0, 404.0, 405.0, 405.0, 406.0, 406.0, 407.0, 407.0, 408.0, 408.0, 409.0, 409.0, 410.0, 410.0, 411.0, 411.0, 412.0, 413.0, 413.0, 414.0, 414.0, 415.0, 415.0, 416.0, 416.0, 417.0, 417.0, 418.0, 418.0, 419.0, 419.0, 420.0, 420.0, 421.0, 421.0, 422.0, 422.0, 423.0, 423.0, 424.0, 424.0, 424.0, 425.0, 425.0, 426.0, 426.0, 427.0, 427.0, 428.0, 428.0, 428.0, 429.0, 429.0, 430.0, 430.0, 430.0, 431.0, 431.0, 432.0, 432.0, 432.0, 433.0, 433.0, 434.0, 434.0, 434.0, 435.0, 435.0, 435.0, 436.0, 436.0, 436.0, 437.0, 437.0, 437.0, 438.0, 438.0, 438.0, 439.0, 439.0, 439.0, 440.0, 440.0, 440.0, 441.0, 441.0, 441.0, 442.0, 442.0, 442.0, 443.0, 443.0, 443.0, 444.0, 444.0, 444.0, 444.0, 445.0, 445.0, 445.0, 446.0, 446.0, 446.0, 446.0, 447.0, 447.0, 447.0, 447.0, 448.0, 448.0, 448.0, 448.0, 449.0, 449.0, 449.0, 449.0, 450.0, 450.0, 450.0, 450.0, 451.0, 451.0, 451.0, 451.0, 452.0, 452.0, 452.0, 452.0, 453.0, 453.0, 453.0, 453.0, 454.0, 454.0, 454.0, 454.0, 454.0, 455.0, 455.0, 455.0, 455.0, 456.0, 456.0, 456.0, 456.0, 456.0, 457.0, 457.0, 457.0, 457.0, 457.0, 458.0, 458.0, 458.0, 458.0, 459.0, 459.0, 459.0, 459.0, 459.0, 460.0, 460.0, 460.0, 460.0, 460.0, 461.0, 461.0, 461.0, 461.0, 461.0, 462.0, 462.0, 462.0, 462.0, 462.0, 463.0, 463.0, 463.0, 463.0, 463.0, 464.0, 464.0, 464.0, 464.0, 464.0, 465.0, 465.0, 465.0, 465.0, 465.0, 466.0, 466.0, 466.0, 466.0, 466.0, 467.0, 467.0, 467.0, 467.0, 467.0, 467.0, 468.0, 468.0, 468.0, 468.0, 468.0, 469.0, 469.0, 469.0, 469.0, 469.0, 469.0, 470.0, 470.0, 470.0, 470.0, 470.0, 470.0, 471.0, 471.0, 471.0, 471.0, 471.0, 471.0, 472.0, 472.0, 472.0, 472.0, 472.0, 472.0, 472.0, 473.0, 473.0, 473.0, 473.0, 473.0, 473.0, 474.0, 474.0, 474.0, 474.0, 474.0, 474.0, 475.0, 475.0, 475.0, 475.0, 475.0, 475.0, 475.0, 476.0, 476.0, 476.0, 476.0, 476.0, 476.0, 476.0, 477.0, 477.0, 477.0, 477.0, 477.0, 477.0, 477.0, 478.0, 478.0, 478.0, 478.0, 478.0, 478.0, 478.0, 479.0, 479.0, 479.0, 479.0, 479.0, 479.0, 479.0, 480.0, 480.0, 480.0, 480.0, 480.0, 480.0, 480.0, 481.0, 481.0, 481.0, 481.0, 481.0, 481.0, 481.0, 482.0, 482.0, 482.0, 482.0, 482.0, 482.0, 482.0, 482.0, 483.0, 483.0, 483.0, 483.0, 483.0, 483.0, 483.0, 484.0, 484.0, 484.0, 484.0, 484.0, 484.0, 484.0, 484.0, 485.0, 485.0, 485.0, 485.0, 485.0, 485.0, 485.0, 485.0, 486.0, 486.0, 486.0, 486.0, 486.0, 486.0, 486.0, 486.0, 487.0, 487.0, 487.0, 487.0, 487.0, 487.0, 487.0, 487.0, 488.0, 488.0, 488.0, 488.0, 488.0, 488.0, 488.0, 488.0, 489.0, 489.0, 489.0, 489.0, 489.0, 489.0, 489.0, 489.0, 489.0, 490.0, 490.0, 490.0, 490.0, 490.0, 490.0, 490.0, 490.0, 491.0, 491.0, 491.0, 491.0, 491.0, 491.0, 491.0, 491.0, 491.0, 492.0, 492.0, 492.0, 492.0, 492.0, 492.0, 492.0, 492.0, 492.0, 493.0, 493.0, 493.0, 493.0, 493.0, 493.0, 493.0, 493.0, 493.0, 494.0, 494.0, 494.0, 494.0, 494.0, 494.0, 494.0, 494.0, 494.0, 494.0, 495.0, 495.0, 495.0, 495.0, 495.0, 495.0, 495.0, 495.0, 495.0, 496.0, 496.0, 496.0, 496.0, 496.0, 496.0, 496.0, 496.0, 496.0, 496.0, 497.0, 497.0, 497.0, 497.0, 497.0, 497.0, 497.0, 497.0, 497.0, 497.0, 497.0, 498.0, 498.0, 498.0, 498.0, 498.0, 498.0, 498.0, 498.0, 498.0, 498.0, 499.0, 499.0, 499.0, 499.0, 499.0, 499.0, 499.0, 499.0, 499.0, 499.0, 499.0, 500.0, 500.0, 500.0, 500.0, 500.0, 500.0, 500.0, 500.0, 500.0, 500.0, 500.0, 501.0, 501.0, 501.0, 501.0, 501.0, 501.0, 501.0, 501.0, 501.0, 501.0, 501.0, 501.0, 502.0, 502.0, 502.0, 502.0, 502.0, 502.0, 502.0, 502.0, 502.0, 502.0, 502.0, 502.0, 503.0, 503.0, 503.0, 503.0, 503.0, 503.0, 503.0, 503.0, 503.0, 503.0, 503.0, 503.0, 503.0, 503.0, 503.0, 503.0, 503.0, 503.0, 503.0, 503.0, 503.0, 503.0, 503.0, 503.0, 503.0, 503.0, 503.0, 503.0, 503.0, 503.0, 503.0, 503.0, 503.0, 503.0, 503.0, 503.0, 503.0, 503.0, 503.0, 503.0, 503.0, 503.0, 503.0, 503.0, 503.0, 503.0, 503.0, 503.0, 503.0, 503.0, 503.0, 503.0, 503.0, 503.0, 503.0, 503.0, 503.0, 503.0, 503.0, 503.0, 503.0, 503.0, 503.0, 503.0, 503.0, 503.0, 503.0, 503.0, 503.0, 503.0, 503.0, 503.0, 503.0, 503.0, 503.0, 503.0, 503.0, 503.0, 503.0, 503.0, 503.0, 503.0, 503.0, 503.0, 503.0, 503.0, 503.0, 503.0, 503.0, 503.0, 503.0, 503.0, 503.0, 503.0, 503.0, 503.0, 503.0, 503.0, 503.0, 503.0, 503.0, 503.0, 503.0, 503.0, 503.0, 503.0, 503.0, 503.0, 503.0]],\"toyplot\");\n",
       "(function(axis, axis_id, projection)\n",
       "        {\n",
       "            axis.show_coordinates(axis_id, projection);\n",
       "        })(modules[\"toyplot.coordinates.Axis\"],\"t9fe5ec19aef94bcba7249f399bf9f0b1\",[{\"domain\": {\"bounds\": {\"max\": Infinity, \"min\": -Infinity}, \"max\": 1500.0, \"min\": 0.0}, \"range\": {\"bounds\": {\"max\": Infinity, \"min\": -Infinity}, \"max\": 500.0, \"min\": 0.0}, \"scale\": \"linear\"}]);\n",
       "(function(axis, axis_id, projection)\n",
       "        {\n",
       "            axis.show_coordinates(axis_id, projection);\n",
       "        })(modules[\"toyplot.coordinates.Axis\"],\"t858e44fe7c9042dda16d72001aa102e9\",[{\"domain\": {\"bounds\": {\"max\": Infinity, \"min\": -Infinity}, \"max\": 503.0, \"min\": 0.0}, \"range\": {\"bounds\": {\"max\": Infinity, \"min\": -Infinity}, \"max\": 100.0, \"min\": 0.0}, \"scale\": \"linear\"}]);\n",
       "})();</script></div></div>"
      ]
     },
     "metadata": {},
     "output_type": "display_data"
    }
   ],
   "source": [
    "import toyplot\n",
    "\n",
    "canvas = toyplot.Canvas()\n",
    "axes = canvas.cartesian(grid=(3, 1, 0), label=\"Battery\", ylabel=\"Voltage (V)\")\n",
    "axes.plot(pipe.table[(\"battery\", \"voltage\")].to(pipecat.units.volt))\n",
    "\n",
    "axes = canvas.cartesian(grid=(3, 1, 1), ylabel=\"Current (A)\")\n",
    "axes.plot(pipe.table[(\"battery\", \"current\")].to(pipecat.units.amp))\n",
    "\n",
    "axes = canvas.cartesian(grid=(3, 1, 2), ylabel=\"Charge (mAH)\")\n",
    "axes.plot(pipe.table[(\"battery\", \"charge\")].to(pipecat.units.milliamp * pipecat.units.hour));"
   ]
  },
  {
   "cell_type": "markdown",
   "metadata": {},
   "source": [
    "Note that nothing prevents us from doing useful work in the `for` loop that populates the cache, and nothing prevents us from accessing the cache within the loop.  For example, we might want to display field values from individual records alongside a running average computed from the cache.  Or we might want to update our plot periodically as the loop progresses."
   ]
  },
  {
   "cell_type": "markdown",
   "metadata": {},
   "source": [
    "Moving on, you will likely want to store records to disk for later access.  Pipecat provides components to make this easy too.  First, you can add :func:`pipecat.store.pickle.write` to the end of a pipe, to write records to disk using Python's pickle format:"
   ]
  },
  {
   "cell_type": "code",
   "execution_count": 16,
   "metadata": {
    "collapsed": true
   },
   "outputs": [],
   "source": [
    "# nbconvert: hide\n",
    "import os\n",
    "\n",
    "serial.serial_for_url.side_effect = test.read_file(\"../data/icharger208b-charging\", rate=pipecat.quantity(2, pipecat.units.seconds), stop=3)\n",
    "if os.path.exists(\"charger.pickle\"):\n",
    "    os.remove(\"charger.pickle\")"
   ]
  },
  {
   "cell_type": "code",
   "execution_count": 17,
   "metadata": {
    "collapsed": true
   },
   "outputs": [],
   "source": [
    "import pipecat.store.pickle\n",
    "port = serial.serial_for_url(\"/dev/cu.SLAB_USBtoUART\", baudrate=128000)\n",
    "pipe = pipecat.utility.readline(port)\n",
    "pipe = pipecat.device.charger.icharger208b(pipe)\n",
    "pipe = pipecat.utility.add_timestamp(pipe)\n",
    "pipe = pipecat.store.pickle.write(pipe, \"charger.pickle\")\n",
    "for record in pipe:\n",
    "    pass"
   ]
  },
  {
   "cell_type": "raw",
   "metadata": {},
   "source": [
    "Later, you can use :func:`pipecat.store.pickle.read` to read the records back in again:"
   ]
  },
  {
   "cell_type": "code",
   "execution_count": 18,
   "metadata": {
    "scrolled": false
   },
   "outputs": [
    {
     "name": "stdout",
     "output_type": "stream",
     "text": [
      "timestamp: 2017-12-27T00:02:14.993602+00:00\n",
      "battery/cell1/voltage: 0.0 volt\n",
      "battery/cell2/voltage: 0.0 volt\n",
      "battery/cell3/voltage: 0.0 volt\n",
      "battery/cell4/voltage: 0.0 volt\n",
      "battery/cell5/voltage: 0.0 volt\n",
      "battery/cell6/voltage: 0.0 volt\n",
      "battery/cell7/voltage: 0.0 volt\n",
      "battery/cell8/voltage: 0.0 volt\n",
      "battery/charge: 0.0 hour * milliampere\n",
      "battery/current: 930.0 milliampere\n",
      "battery/voltage: 3.874 volt\n",
      "charger/mode: charge\n",
      "charger/supply: 12.25 volt\n",
      "charger/temperature/external: 23.6 degC\n",
      "charger/temperature/internal: 29.1 degC\n",
      "\n",
      "timestamp: 2017-12-27T00:02:17.001294+00:00\n",
      "battery/cell1/voltage: 0.0 volt\n",
      "battery/cell2/voltage: 0.0 volt\n",
      "battery/cell3/voltage: 0.0 volt\n",
      "battery/cell4/voltage: 0.0 volt\n",
      "battery/cell5/voltage: 0.0 volt\n",
      "battery/cell6/voltage: 0.0 volt\n",
      "battery/cell7/voltage: 0.0 volt\n",
      "battery/cell8/voltage: 0.0 volt\n",
      "battery/charge: 0.0 hour * milliampere\n",
      "battery/current: 920.0 milliampere\n",
      "battery/voltage: 3.875 volt\n",
      "charger/mode: charge\n",
      "charger/supply: 12.25 volt\n",
      "charger/temperature/external: 23.6 degC\n",
      "charger/temperature/internal: 29.4 degC\n",
      "\n",
      "timestamp: 2017-12-27T00:02:19.008016+00:00\n",
      "battery/cell1/voltage: 0.0 volt\n",
      "battery/cell2/voltage: 0.0 volt\n",
      "battery/cell3/voltage: 0.0 volt\n",
      "battery/cell4/voltage: 0.0 volt\n",
      "battery/cell5/voltage: 0.0 volt\n",
      "battery/cell6/voltage: 0.0 volt\n",
      "battery/cell7/voltage: 0.0 volt\n",
      "battery/cell8/voltage: 0.0 volt\n",
      "battery/charge: 1.0 hour * milliampere\n",
      "battery/current: 890.0 milliampere\n",
      "battery/voltage: 3.877 volt\n",
      "charger/mode: charge\n",
      "charger/supply: 12.25 volt\n",
      "charger/temperature/external: 23.6 degC\n",
      "charger/temperature/internal: 29.1 degC\n",
      "\n",
      "Average: 3.87533333333 volt\n"
     ]
    }
   ],
   "source": [
    "pipe = pipecat.store.pickle.read(\"charger.pickle\")\n",
    "pipe = pipecat.store.cache(pipe)\n",
    "for record in pipe:\n",
    "    pipecat.record.dump(record)\n",
    "print(\"Average:\", pipe.table[(\"battery\", \"voltage\")].mean())"
   ]
  },
  {
   "cell_type": "markdown",
   "metadata": {},
   "source": [
    "This is another example of the interchangeability of the Pipecat components: the pickle writer is a record consumer, and the pickle reader is a record generator.  In essence, we \"broke\" our previous pipe into two separate pipes that communicate via the filesystem.  While we won't go into detail here, a similar approach could be used to communicate between threads using a message queue or between processes over a socket."
   ]
  },
  {
   "cell_type": "code",
   "execution_count": 19,
   "metadata": {
    "collapsed": true
   },
   "outputs": [],
   "source": [
    "# nbconvert: hide\n",
    "serial.serial_for_url.side_effect = test.read_file(\"../data/icharger208b-charging\", rate=pipecat.quantity(2, pipecat.units.seconds), stop=10, block=True)"
   ]
  },
  {
   "cell_type": "markdown",
   "metadata": {},
   "source": [
    "There is one final issue that we've ignored so far: when to stop logging data.  The :func:`pipecat.utility.readline()` function will read data from the serial port as long as the port is open, blocking indefinitely if no data is arriving.  That means that for all the preceeding examples the `for` loop will never end unless the serial port is closed (i.e. the external device is turned-off or unplugged), or the code is interrupted using Control-C.  While that's fine for prototyping at the command line, we need to have a way to stop collecting data and shutdown cleanly if we're going to automate data logging processes.  Fortunately, Pipecat provides several easy-to-use functions to do just that:"
   ]
  },
  {
   "cell_type": "code",
   "execution_count": 20,
   "metadata": {
    "scrolled": false
   },
   "outputs": [
    {
     "name": "stdout",
     "output_type": "stream",
     "text": [
      "timestamp: 2017-12-27T00:02:21.056456+00:00\n",
      "battery/cell1/voltage: 0.0 volt\n",
      "battery/cell2/voltage: 0.0 volt\n",
      "battery/cell3/voltage: 0.0 volt\n",
      "battery/cell4/voltage: 0.0 volt\n",
      "battery/cell5/voltage: 0.0 volt\n",
      "battery/cell6/voltage: 0.0 volt\n",
      "battery/cell7/voltage: 0.0 volt\n",
      "battery/cell8/voltage: 0.0 volt\n",
      "battery/charge: 0.0 hour * milliampere\n",
      "battery/current: 930.0 milliampere\n",
      "battery/voltage: 3.874 volt\n",
      "charger/mode: charge\n",
      "charger/supply: 12.25 volt\n",
      "charger/temperature/external: 23.6 degC\n",
      "charger/temperature/internal: 29.1 degC\n",
      "\n",
      "timestamp: 2017-12-27T00:02:23.066381+00:00\n",
      "battery/cell1/voltage: 0.0 volt\n",
      "battery/cell2/voltage: 0.0 volt\n",
      "battery/cell3/voltage: 0.0 volt\n",
      "battery/cell4/voltage: 0.0 volt\n",
      "battery/cell5/voltage: 0.0 volt\n",
      "battery/cell6/voltage: 0.0 volt\n",
      "battery/cell7/voltage: 0.0 volt\n",
      "battery/cell8/voltage: 0.0 volt\n",
      "battery/charge: 0.0 hour * milliampere\n",
      "battery/current: 920.0 milliampere\n",
      "battery/voltage: 3.875 volt\n",
      "charger/mode: charge\n",
      "charger/supply: 12.25 volt\n",
      "charger/temperature/external: 23.6 degC\n",
      "charger/temperature/internal: 29.4 degC\n",
      "\n"
     ]
    }
   ],
   "source": [
    "import pipecat.limit\n",
    "port = serial.serial_for_url(\"/dev/cu.SLAB_USBtoUART\", baudrate=128000)\n",
    "pipe = pipecat.utility.readline(port)\n",
    "pipe = pipecat.device.charger.icharger208b(pipe)\n",
    "pipe = pipecat.utility.add_timestamp(pipe)\n",
    "pipe = pipecat.limit.count(pipe, count=2)\n",
    "for record in pipe:\n",
    "    pipecat.record.dump(record)"
   ]
  },
  {
   "cell_type": "markdown",
   "metadata": {
    "collapsed": true
   },
   "source": [
    "Here, :func:`pipecat.limit.count` ends the loop when `count` records have been received.  This is often handy during development to limit the amount of data consumed from a device that produces output continuously.  However, this approach is no good for devices like our charger that will produce a finite, indeterminate number of records - if the device stops sending records before the `count` has been reached, the loop will still block.  Instead, we could use :func:`pipecat.limit.duration` to limit the total amount of time the loop is allowed to run instead:"
   ]
  },
  {
   "cell_type": "code",
   "execution_count": 21,
   "metadata": {
    "scrolled": false
   },
   "outputs": [
    {
     "name": "stdout",
     "output_type": "stream",
     "text": [
      "timestamp: 2017-12-27T00:02:23.079796+00:00\n",
      "battery/cell1/voltage: 0.0 volt\n",
      "battery/cell2/voltage: 0.0 volt\n",
      "battery/cell3/voltage: 0.0 volt\n",
      "battery/cell4/voltage: 0.0 volt\n",
      "battery/cell5/voltage: 0.0 volt\n",
      "battery/cell6/voltage: 0.0 volt\n",
      "battery/cell7/voltage: 0.0 volt\n",
      "battery/cell8/voltage: 0.0 volt\n",
      "battery/charge: 0.0 hour * milliampere\n",
      "battery/current: 930.0 milliampere\n",
      "battery/voltage: 3.874 volt\n",
      "charger/mode: charge\n",
      "charger/supply: 12.25 volt\n",
      "charger/temperature/external: 23.6 degC\n",
      "charger/temperature/internal: 29.1 degC\n",
      "\n",
      "timestamp: 2017-12-27T00:02:25.085261+00:00\n",
      "battery/cell1/voltage: 0.0 volt\n",
      "battery/cell2/voltage: 0.0 volt\n",
      "battery/cell3/voltage: 0.0 volt\n",
      "battery/cell4/voltage: 0.0 volt\n",
      "battery/cell5/voltage: 0.0 volt\n",
      "battery/cell6/voltage: 0.0 volt\n",
      "battery/cell7/voltage: 0.0 volt\n",
      "battery/cell8/voltage: 0.0 volt\n",
      "battery/charge: 0.0 hour * milliampere\n",
      "battery/current: 920.0 milliampere\n",
      "battery/voltage: 3.875 volt\n",
      "charger/mode: charge\n",
      "charger/supply: 12.25 volt\n",
      "charger/temperature/external: 23.6 degC\n",
      "charger/temperature/internal: 29.4 degC\n",
      "\n",
      "timestamp: 2017-12-27T00:02:27.090717+00:00\n",
      "battery/cell1/voltage: 0.0 volt\n",
      "battery/cell2/voltage: 0.0 volt\n",
      "battery/cell3/voltage: 0.0 volt\n",
      "battery/cell4/voltage: 0.0 volt\n",
      "battery/cell5/voltage: 0.0 volt\n",
      "battery/cell6/voltage: 0.0 volt\n",
      "battery/cell7/voltage: 0.0 volt\n",
      "battery/cell8/voltage: 0.0 volt\n",
      "battery/charge: 1.0 hour * milliampere\n",
      "battery/current: 890.0 milliampere\n",
      "battery/voltage: 3.877 volt\n",
      "charger/mode: charge\n",
      "charger/supply: 12.25 volt\n",
      "charger/temperature/external: 23.6 degC\n",
      "charger/temperature/internal: 29.1 degC\n",
      "\n"
     ]
    }
   ],
   "source": [
    "import pipecat.limit\n",
    "port = serial.serial_for_url(\"/dev/cu.SLAB_USBtoUART\", baudrate=128000)\n",
    "pipe = pipecat.utility.readline(port)\n",
    "pipe = pipecat.device.charger.icharger208b(pipe)\n",
    "pipe = pipecat.utility.add_timestamp(pipe)\n",
    "pipe = pipecat.limit.duration(pipe, duration=pipecat.quantity(4, pipecat.units.seconds))\n",
    "for record in pipe:\n",
    "    pipecat.record.dump(record)"
   ]
  },
  {
   "cell_type": "markdown",
   "metadata": {},
   "source": [
    "This approach is an improvement because it puts an upper-bound on the amount of time the loop will run, whether the device has stopped sending records or not.  However, it's still error-prone, since we don't know in advance how long charging will take - if we set the duration too low, it may stop the loop before charging is complete.  If we set the duration too high, we will capture all the records we want, but we will likely waste time waiting for records that will never come.  Ideally, we would like to exit the loop as soon as the charger tells us it's finished.  Fortunately, the charger provides a field - `charger/mode` that can do just that:"
   ]
  },
  {
   "cell_type": "code",
   "execution_count": 22,
   "metadata": {
    "collapsed": true
   },
   "outputs": [],
   "source": [
    "# nbconvert: hide\n",
    "serial.serial_for_url.side_effect = test.read_file(\"../data/icharger208b-charging\", rate=pipecat.quantity(2, pipecat.units.seconds), start=1285, block=True)"
   ]
  },
  {
   "cell_type": "code",
   "execution_count": 23,
   "metadata": {
    "scrolled": false
   },
   "outputs": [
    {
     "name": "stdout",
     "output_type": "stream",
     "text": [
      "timestamp: 2017-12-27T00:02:27.114364+00:00\n",
      "battery/cell1/voltage: 0.0 volt\n",
      "battery/cell2/voltage: 0.0 volt\n",
      "battery/cell3/voltage: 0.0 volt\n",
      "battery/cell4/voltage: 0.0 volt\n",
      "battery/cell5/voltage: 0.0 volt\n",
      "battery/cell6/voltage: 0.0 volt\n",
      "battery/cell7/voltage: 0.0 volt\n",
      "battery/cell8/voltage: 0.0 volt\n",
      "battery/charge: 503.0 hour * milliampere\n",
      "battery/current: 110.0 milliampere\n",
      "battery/voltage: 4.141 volt\n",
      "charger/mode: charge\n",
      "charger/supply: 12.25 volt\n",
      "charger/temperature/external: 23.8 degC\n",
      "charger/temperature/internal: 32.5 degC\n",
      "\n",
      "timestamp: 2017-12-27T00:02:29.121514+00:00\n",
      "battery/cell1/voltage: 0.0 volt\n",
      "battery/cell2/voltage: 0.0 volt\n",
      "battery/cell3/voltage: 0.0 volt\n",
      "battery/cell4/voltage: 0.0 volt\n",
      "battery/cell5/voltage: 0.0 volt\n",
      "battery/cell6/voltage: 0.0 volt\n",
      "battery/cell7/voltage: 0.0 volt\n",
      "battery/cell8/voltage: 0.0 volt\n",
      "battery/charge: 503.0 hour * milliampere\n",
      "battery/current: 120.0 milliampere\n",
      "battery/voltage: 4.14 volt\n",
      "charger/mode: charge\n",
      "charger/supply: 12.25 volt\n",
      "charger/temperature/external: 23.9 degC\n",
      "charger/temperature/internal: 32.7 degC\n",
      "\n",
      "timestamp: 2017-12-27T00:02:31.126898+00:00\n",
      "battery/cell1/voltage: 0.0 volt\n",
      "battery/cell2/voltage: 0.0 volt\n",
      "battery/cell3/voltage: 0.0 volt\n",
      "battery/cell4/voltage: 0.0 volt\n",
      "battery/cell5/voltage: 0.0 volt\n",
      "battery/cell6/voltage: 0.0 volt\n",
      "battery/cell7/voltage: 0.0 volt\n",
      "battery/cell8/voltage: 0.0 volt\n",
      "battery/charge: 503.0 hour * milliampere\n",
      "battery/current: 0.0 milliampere\n",
      "battery/voltage: 4.138 volt\n",
      "charger/mode: finished\n",
      "charger/supply: 12.25 volt\n",
      "charger/temperature/external: 23.9 degC\n",
      "charger/temperature/internal: 32.7 degC\n",
      "\n"
     ]
    }
   ],
   "source": [
    "import pipecat.limit\n",
    "port = serial.serial_for_url(\"/dev/cu.SLAB_USBtoUART\", baudrate=128000)\n",
    "pipe = pipecat.utility.readline(port)\n",
    "pipe = pipecat.device.charger.icharger208b(pipe)\n",
    "pipe = pipecat.utility.add_timestamp(pipe)\n",
    "pipe = pipecat.limit.until(pipe, key=(\"charger\", \"mode\"), value=\"finished\")\n",
    "for record in pipe:\n",
    "    pipecat.record.dump(record)"
   ]
  },
  {
   "cell_type": "markdown",
   "metadata": {},
   "source": [
    ":func:`pipecat.limit.until` terminates the loop as soon as it receives a record with the given key and value.  This approach finally gets us our desired behavior (loop ends as soon as the charger is finished), but it could use just a little more work to make it robust.  For example, what happens if the charger stops sending data before the mode changes?  We could combine :func:`pipecat.limit.until` with :func:`pipecat.limit.duration`, but that would still suffer from the terminate-too-soon / waste-too-much-time problem.  Fortunately, we know from testing that our charger sends records every two seconds (if at all), and Pipecat provides :func:`pipecat.limit.timeout`, which can terminate the loop if it doesn't receive a record within a specified time interval: "
   ]
  },
  {
   "cell_type": "code",
   "execution_count": 24,
   "metadata": {
    "scrolled": false
   },
   "outputs": [
    {
     "name": "stdout",
     "output_type": "stream",
     "text": [
      "timestamp: 2017-12-27T00:02:31.141096+00:00\n",
      "battery/cell1/voltage: 0.0 volt\n",
      "battery/cell2/voltage: 0.0 volt\n",
      "battery/cell3/voltage: 0.0 volt\n",
      "battery/cell4/voltage: 0.0 volt\n",
      "battery/cell5/voltage: 0.0 volt\n",
      "battery/cell6/voltage: 0.0 volt\n",
      "battery/cell7/voltage: 0.0 volt\n",
      "battery/cell8/voltage: 0.0 volt\n",
      "battery/charge: 503.0 hour * milliampere\n",
      "battery/current: 110.0 milliampere\n",
      "battery/voltage: 4.141 volt\n",
      "charger/mode: charge\n",
      "charger/supply: 12.25 volt\n",
      "charger/temperature/external: 23.8 degC\n",
      "charger/temperature/internal: 32.5 degC\n",
      "\n",
      "timestamp: 2017-12-27T00:02:33.145768+00:00\n",
      "battery/cell1/voltage: 0.0 volt\n",
      "battery/cell2/voltage: 0.0 volt\n",
      "battery/cell3/voltage: 0.0 volt\n",
      "battery/cell4/voltage: 0.0 volt\n",
      "battery/cell5/voltage: 0.0 volt\n",
      "battery/cell6/voltage: 0.0 volt\n",
      "battery/cell7/voltage: 0.0 volt\n",
      "battery/cell8/voltage: 0.0 volt\n",
      "battery/charge: 503.0 hour * milliampere\n",
      "battery/current: 120.0 milliampere\n",
      "battery/voltage: 4.14 volt\n",
      "charger/mode: charge\n",
      "charger/supply: 12.25 volt\n",
      "charger/temperature/external: 23.9 degC\n",
      "charger/temperature/internal: 32.7 degC\n",
      "\n",
      "timestamp: 2017-12-27T00:02:35.147270+00:00\n",
      "battery/cell1/voltage: 0.0 volt\n",
      "battery/cell2/voltage: 0.0 volt\n",
      "battery/cell3/voltage: 0.0 volt\n",
      "battery/cell4/voltage: 0.0 volt\n",
      "battery/cell5/voltage: 0.0 volt\n",
      "battery/cell6/voltage: 0.0 volt\n",
      "battery/cell7/voltage: 0.0 volt\n",
      "battery/cell8/voltage: 0.0 volt\n",
      "battery/charge: 503.0 hour * milliampere\n",
      "battery/current: 0.0 milliampere\n",
      "battery/voltage: 4.138 volt\n",
      "charger/mode: finished\n",
      "charger/supply: 12.25 volt\n",
      "charger/temperature/external: 23.9 degC\n",
      "charger/temperature/internal: 32.7 degC\n",
      "\n"
     ]
    }
   ],
   "source": [
    "import pipecat.limit\n",
    "port = serial.serial_for_url(\"/dev/cu.SLAB_USBtoUART\", baudrate=128000)\n",
    "pipe = pipecat.utility.readline(port)\n",
    "pipe = pipecat.device.charger.icharger208b(pipe)\n",
    "pipe = pipecat.utility.add_timestamp(pipe)\n",
    "pipe = pipecat.limit.until(pipe, key=(\"charger\", \"mode\"), value=\"finished\")\n",
    "pipe = pipecat.limit.timeout(pipe, timeout=pipecat.quantity(5, pipecat.units.seconds))\n",
    "for record in pipe:\n",
    "    pipecat.record.dump(record)"
   ]
  },
  {
   "cell_type": "markdown",
   "metadata": {},
   "source": [
    "This example still exits normally when the charger is finished, but it will also exit cleanly if a record isn't received within a five seconds.  More importantly, you can see how easy it is to combine limit functions to control when the `for` loop terminates."
   ]
  }
 ],
 "metadata": {
  "anaconda-cloud": {},
  "kernelspec": {
   "display_name": "Python 2",
   "language": "python",
   "name": "python2"
  },
  "language_info": {
   "codemirror_mode": {
    "name": "ipython",
    "version": 2
   },
   "file_extension": ".py",
   "mimetype": "text/x-python",
   "name": "python",
   "nbconvert_exporter": "python",
   "pygments_lexer": "ipython2",
   "version": "2.7.11"
  }
 },
 "nbformat": 4,
 "nbformat_minor": 1
}
